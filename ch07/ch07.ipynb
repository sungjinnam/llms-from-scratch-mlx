{
 "cells": [
  {
   "cell_type": "code",
   "execution_count": 1,
   "id": "6abff75d",
   "metadata": {},
   "outputs": [],
   "source": [
    "import mlx.core as mx\n",
    "import mlx.nn as nn\n",
    "import mlx.optimizers as optim\n",
    "import numpy as np"
   ]
  },
  {
   "cell_type": "markdown",
   "id": "03c8967c",
   "metadata": {},
   "source": [
    "# Preparing a datset for supervised insturction finetuning"
   ]
  },
  {
   "cell_type": "code",
   "execution_count": 2,
   "id": "43bcd0d6",
   "metadata": {},
   "outputs": [
    {
     "name": "stdout",
     "output_type": "stream",
     "text": [
      "Number of entries: 1100\n"
     ]
    }
   ],
   "source": [
    "import json\n",
    "import os\n",
    "import urllib\n",
    "\n",
    "\n",
    "def download_and_load_file(file_path, url):\n",
    "\n",
    "    if not os.path.exists(file_path):\n",
    "        with urllib.request.urlopen(url) as response:\n",
    "            text_data = response.read().decode(\"utf-8\")\n",
    "        with open(file_path, \"w\", encoding=\"utf-8\") as file:\n",
    "            file.write(text_data)\n",
    "\n",
    "    # The book originally contained this unnecessary \"else\" clause:\n",
    "    #else:\n",
    "    #    with open(file_path, \"r\", encoding=\"utf-8\") as file:\n",
    "    #        text_data = file.read()\n",
    "\n",
    "    with open(file_path, \"r\", encoding=\"utf-8\") as file:\n",
    "        data = json.load(file)\n",
    "\n",
    "    return data\n",
    "\n",
    "\n",
    "file_path = \"instruction-data.json\"\n",
    "url = (\n",
    "    \"https://raw.githubusercontent.com/rasbt/LLMs-from-scratch\"\n",
    "    \"/main/ch07/01_main-chapter-code/instruction-data.json\"\n",
    ")\n",
    "\n",
    "data = download_and_load_file(file_path, url)\n",
    "print(\"Number of entries:\", len(data))\n"
   ]
  },
  {
   "cell_type": "code",
   "execution_count": 3,
   "id": "4f212e4f",
   "metadata": {},
   "outputs": [
    {
     "name": "stdout",
     "output_type": "stream",
     "text": [
      "example entry:\n",
      " {'instruction': 'Identify the correct spelling of the following word.', 'input': 'Ocassion', 'output': \"The correct spelling is 'Occasion.'\"}\n"
     ]
    }
   ],
   "source": [
    "print(\"example entry:\\n\", data[50])"
   ]
  },
  {
   "cell_type": "code",
   "execution_count": 4,
   "id": "41a8e503",
   "metadata": {},
   "outputs": [
    {
     "name": "stdout",
     "output_type": "stream",
     "text": [
      "example entry:\n",
      " {'instruction': \"What is an antonym of 'complicated'?\", 'input': '', 'output': \"An antonym of 'complicated' is 'simple'.\"}\n"
     ]
    }
   ],
   "source": [
    "print(\"example entry:\\n\", data[999])"
   ]
  },
  {
   "cell_type": "code",
   "execution_count": 5,
   "id": "87159862",
   "metadata": {},
   "outputs": [],
   "source": [
    "def format_input(entry):\n",
    "    instruction_text = (\n",
    "        f\"Below is an instruction that describes a task. \"\n",
    "        f\"Write a response that appropriately completes the request. \"\n",
    "        f\"\\n\\n### Instruction:\\n{entry['instruction']}\"\n",
    "    )\n",
    "    input_text = f\"\\n\\n### Input:\\n{entry['input']}\" if entry[\"input\"] else \"\"\n",
    "    return instruction_text + input_text"
   ]
  },
  {
   "cell_type": "code",
   "execution_count": 6,
   "id": "e9746c0d",
   "metadata": {},
   "outputs": [
    {
     "name": "stdout",
     "output_type": "stream",
     "text": [
      "Below is an instruction that describes a task. Write a response that appropriately completes the request. \n",
      "\n",
      "### Instruction:\n",
      "Identify the correct spelling of the following word.\n",
      "\n",
      "### Input:\n",
      "Ocassion\n",
      "\n",
      "### Reseponse:\n",
      "The correct spelling is 'Occasion.'\n"
     ]
    }
   ],
   "source": [
    "model_input = format_input(data[50])\n",
    "desired_response = f\"\\n\\n### Reseponse:\\n{data[50]['output']}\"\n",
    "print(model_input + desired_response)"
   ]
  },
  {
   "cell_type": "code",
   "execution_count": 7,
   "id": "d4fa2c7e",
   "metadata": {},
   "outputs": [
    {
     "name": "stdout",
     "output_type": "stream",
     "text": [
      "Below is an instruction that describes a task. Write a response that appropriately completes the request. \n",
      "\n",
      "### Instruction:\n",
      "What is an antonym of 'complicated'?\n",
      "\n",
      "### Reseponse:\n",
      "An antonym of 'complicated' is 'simple'.\n"
     ]
    }
   ],
   "source": [
    "# formatted response without an input field\n",
    "model_input = format_input(data[999])\n",
    "desired_response = f\"\\n\\n### Reseponse:\\n{data[999]['output']}\"\n",
    "print(model_input + desired_response)"
   ]
  },
  {
   "cell_type": "code",
   "execution_count": 8,
   "id": "ab630299",
   "metadata": {},
   "outputs": [],
   "source": [
    "train_portion = int(len(data) * 0.85)\n",
    "test_portion = int(len(data) * 0.10)\n",
    "val_portion = len(data) - train_portion - test_portion\n",
    "train_data = data[:train_portion]\n",
    "test_data = data[train_portion:train_portion + test_portion]\n",
    "val_data = data[train_portion+test_portion:]"
   ]
  },
  {
   "cell_type": "code",
   "execution_count": 9,
   "id": "268c9ede",
   "metadata": {},
   "outputs": [
    {
     "name": "stdout",
     "output_type": "stream",
     "text": [
      "Training set length: 935\n",
      "Validation set length: 55\n",
      "Test set length: 110\n"
     ]
    }
   ],
   "source": [
    "print(\"Training set length:\", len(train_data))\n",
    "print(\"Validation set length:\", len(val_data))\n",
    "print(\"Test set length:\", len(test_data))"
   ]
  },
  {
   "cell_type": "markdown",
   "id": "69f5fcf6",
   "metadata": {},
   "source": [
    "# Organizing data into training batches"
   ]
  },
  {
   "cell_type": "code",
   "execution_count": 10,
   "id": "94c99a32",
   "metadata": {},
   "outputs": [
    {
     "data": {
      "application/vnd.jupyter.widget-view+json": {
       "model_id": "57c1e36eb55a4bff8f379349bb55b0df",
       "version_major": 2,
       "version_minor": 0
      },
      "text/plain": [
       "Fetching 15 files:   0%|          | 0/15 [00:00<?, ?it/s]"
      ]
     },
     "metadata": {},
     "output_type": "display_data"
    }
   ],
   "source": [
    "from mlx_lm import load\n",
    "model_hf, tokenizer_hf = load(\"openai-community/gpt2-medium\")"
   ]
  },
  {
   "cell_type": "code",
   "execution_count": 11,
   "id": "91d9b636",
   "metadata": {},
   "outputs": [],
   "source": [
    "class InstructionDataset:\n",
    "    def __init__(self, data, tokenizer):\n",
    "        self.data = data\n",
    "        self.encoded_texts = []\n",
    "        for entry in data:\n",
    "            instruction_plus_input = format_input(entry)\n",
    "            response_text = f\"\\n\\n### Response:\\n{entry['output']}\"\n",
    "            full_text = instruction_plus_input + response_text\n",
    "            self.encoded_texts.append(\n",
    "                tokenizer.encode(full_text)\n",
    "            )\n",
    "    def __getitem__(self, index):\n",
    "        return self.encoded_texts[index]\n",
    "    \n",
    "    def __len__(self):\n",
    "        return len(self.data)"
   ]
  },
  {
   "cell_type": "code",
   "execution_count": 12,
   "id": "4bc91d7f",
   "metadata": {},
   "outputs": [],
   "source": [
    "def custom_collate_draft_1(batch, pad_token_id=50256):\n",
    "    # find the longest sequence in the batch\n",
    "    # and increase the max length by +1, which will add one extra padding token\n",
    "    batch_max_length = max(len(item)+1 for item in batch)\n",
    "\n",
    "    inputs_lst = []\n",
    "    for item in batch:\n",
    "        new_item = item.copy()\n",
    "        new_item += [pad_token_id]\n",
    "        padded = (\n",
    "            new_item + [pad_token_id] * (batch_max_length - len(new_item))\n",
    "        )\n",
    "        # remove the extra padded token that has been added via the +1 setting in batch_max_length\n",
    "        inputs = padded[:-1]\n",
    "        inputs_lst.append(inputs)\n",
    "    \n",
    "    inputs_tensor = mx.stack(mx.array(inputs_lst), axis=0)\n",
    "    return inputs_tensor"
   ]
  },
  {
   "cell_type": "code",
   "execution_count": 13,
   "id": "311e8926",
   "metadata": {},
   "outputs": [
    {
     "name": "stdout",
     "output_type": "stream",
     "text": [
      "array([[0, 1, 2, 3, 4],\n",
      "       [5, 6, 50256, 50256, 50256],\n",
      "       [7, 8, 9, 50256, 50256]], dtype=int32)\n"
     ]
    }
   ],
   "source": [
    "inputs_1 = [0, 1, 2, 3, 4]\n",
    "inputs_2 = [5, 6]\n",
    "inputs_3 = [7, 8, 9]\n",
    "batch = (\n",
    "    inputs_1, inputs_2, inputs_3\n",
    ")\n",
    "print(custom_collate_draft_1(batch))"
   ]
  },
  {
   "cell_type": "code",
   "execution_count": 14,
   "id": "c9e756b0",
   "metadata": {},
   "outputs": [],
   "source": [
    "def custom_collate_draft_2(batch, pad_token_id=50256):\n",
    "    # find the longest sequence in the batch\n",
    "    # and increase the max length by +1, which will add one extra padding token\n",
    "    batch_max_length = max(len(item)+1 for item in batch)\n",
    "\n",
    "    inputs_lst = []\n",
    "    targets_lst = []\n",
    "    for item in batch:\n",
    "        new_item = item.copy()\n",
    "        new_item += [pad_token_id]\n",
    "        padded = (\n",
    "            new_item + [pad_token_id] * (batch_max_length - len(new_item))\n",
    "        )\n",
    "        # remove the extra padded token that has been added via the +1 setting in batch_max_length\n",
    "        inputs = padded[:-1]\n",
    "        inputs_lst.append(inputs)\n",
    "        # shift +1 to the right for targets\n",
    "        targets = padded[1:]\n",
    "        targets_lst.append(targets)\n",
    "    \n",
    "    inputs_tensor = mx.stack(mx.array(inputs_lst), axis=0)\n",
    "    targets_tensor = mx.stack(mx.array(targets_lst), axis=0)\n",
    "    return inputs_tensor, targets_tensor"
   ]
  },
  {
   "cell_type": "code",
   "execution_count": 15,
   "id": "b1586cfe",
   "metadata": {},
   "outputs": [
    {
     "name": "stdout",
     "output_type": "stream",
     "text": [
      "(array([[0, 1, 2, 3, 4],\n",
      "       [5, 6, 50256, 50256, 50256],\n",
      "       [7, 8, 9, 50256, 50256]], dtype=int32), array([[1, 2, 3, 4, 50256],\n",
      "       [6, 50256, 50256, 50256, 50256],\n",
      "       [8, 9, 50256, 50256, 50256]], dtype=int32))\n"
     ]
    }
   ],
   "source": [
    "inputs_1 = [0, 1, 2, 3, 4]\n",
    "inputs_2 = [5, 6]\n",
    "inputs_3 = [7, 8, 9]\n",
    "batch = (\n",
    "    inputs_1, inputs_2, inputs_3\n",
    ")\n",
    "print(custom_collate_draft_2(batch))"
   ]
  },
  {
   "cell_type": "code",
   "execution_count": 16,
   "id": "8c324765",
   "metadata": {},
   "outputs": [],
   "source": [
    "def custom_collate_fn(batch,\n",
    "                      pad_token_id=50256,\n",
    "                      ignore_index=-100,\n",
    "                      allowed_max_length=None\n",
    "):\n",
    "    # find the longest sequence in the batch\n",
    "    # and increase the max length by +1, which will add one extra padding token\n",
    "    batch_max_length = max(len(item)+1 for item in batch)\n",
    "\n",
    "    inputs_lst = []\n",
    "    targets_lst = []\n",
    "    for item in batch:\n",
    "        new_item = item.copy()\n",
    "        new_item += [pad_token_id]\n",
    "        padded = (\n",
    "            new_item + [pad_token_id] * (batch_max_length - len(new_item))\n",
    "        )\n",
    "        # remove the extra padded token that has been added via the +1 setting in batch_max_length\n",
    "        inputs = mx.array(padded[:-1])\n",
    "        # shift +1 to the right for targets\n",
    "        targets = mx.array(padded[1:])\n",
    "\n",
    "        # replace all but the first padding tokens in targets by ignore_index\n",
    "        mask = []\n",
    "        n_ignore = 0\n",
    "        for x in targets:\n",
    "            if x == pad_token_id:\n",
    "                n_ignore += 1\n",
    "                if n_ignore > 1:\n",
    "                    mask.append(False)\n",
    "                else:\n",
    "                    mask.append(True)\n",
    "            else:\n",
    "                mask.append(True)\n",
    "        mask = mx.array(mask)\n",
    "        targets = mx.where(mask, targets, ignore_index)\n",
    "        if allowed_max_length is not None:\n",
    "            inputs = inputs[:allowed_max_length]\n",
    "            targets = targets[:allowed_max_length]\n",
    "\n",
    "        inputs_lst.append(inputs)\n",
    "        targets_lst.append(targets)\n",
    "    \n",
    "    inputs_tensor = mx.stack(mx.array(inputs_lst), axis=0)\n",
    "    targets_tensor = mx.stack(mx.array(targets_lst), axis=0)\n",
    "    return inputs_tensor, targets_tensor"
   ]
  },
  {
   "cell_type": "code",
   "execution_count": 17,
   "id": "16c3c0e5",
   "metadata": {},
   "outputs": [
    {
     "name": "stdout",
     "output_type": "stream",
     "text": [
      "(array([[0, 1, 2, 3, 4],\n",
      "       [5, 6, 50256, 50256, 50256],\n",
      "       [7, 8, 9, 50256, 50256]], dtype=int32), array([[1, 2, 3, 4, 50256],\n",
      "       [6, 50256, -100, -100, -100],\n",
      "       [8, 9, 50256, -100, -100]], dtype=int32))\n"
     ]
    }
   ],
   "source": [
    "inputs_1 = [0, 1, 2, 3, 4]\n",
    "inputs_2 = [5, 6]\n",
    "inputs_3 = [7, 8, 9]\n",
    "batch = (\n",
    "    inputs_1, inputs_2, inputs_3\n",
    ")\n",
    "print(custom_collate_fn(batch))"
   ]
  },
  {
   "cell_type": "code",
   "execution_count": 18,
   "id": "b59c5786",
   "metadata": {},
   "outputs": [
    {
     "name": "stdout",
     "output_type": "stream",
     "text": [
      "array(1.12693, dtype=float32)\n"
     ]
    }
   ],
   "source": [
    "logits_1 = mx.array(\n",
    "    [[-1.0, 1.0], [-0.5, 1.5]]\n",
    ")\n",
    "targets_1 = mx.array([0, 1])\n",
    "loss_1 = nn.losses.cross_entropy(logits_1, targets_1, reduction=\"mean\")\n",
    "print(loss_1)"
   ]
  },
  {
   "cell_type": "code",
   "execution_count": 19,
   "id": "5f39e95c",
   "metadata": {},
   "outputs": [
    {
     "name": "stdout",
     "output_type": "stream",
     "text": [
      "array(0.793595, dtype=float32)\n"
     ]
    }
   ],
   "source": [
    "logits_2 = mx.array(\n",
    "    [[-1.0, 1.0], [-0.5, 1.5], [-0.5, 1.5]]\n",
    ")\n",
    "targets_2 = mx.array([0, 1, 1])\n",
    "loss_2 = nn.losses.cross_entropy(logits_2, targets_2, reduction=\"mean\")\n",
    "print(loss_2)"
   ]
  },
  {
   "cell_type": "code",
   "execution_count": 20,
   "id": "741ca81c",
   "metadata": {},
   "outputs": [
    {
     "name": "stdout",
     "output_type": "stream",
     "text": [
      "loss_1==loss_3 array(True, dtype=bool) array(1.12693, dtype=float32) array(1.12693, dtype=float32)\n"
     ]
    }
   ],
   "source": [
    "targets_3 = mx.array([0, 1, -100])\n",
    "loss_3 = nn.losses.cross_entropy(logits_2, targets_3, reduction=\"none\")\n",
    "loss_3_mask = targets_3 != -100\n",
    "loss_3 = (loss_3 * loss_3_mask).sum() / loss_3_mask.sum()\n",
    "print(\"loss_1==loss_3\", loss_1==loss_3, loss_1, loss_3)"
   ]
  },
  {
   "cell_type": "markdown",
   "id": "f4648c1e",
   "metadata": {},
   "source": [
    "# Creating data loaders for an instruction dataset"
   ]
  },
  {
   "cell_type": "code",
   "execution_count": 21,
   "id": "94451094",
   "metadata": {},
   "outputs": [],
   "source": [
    "class DataLoaderNP:\n",
    "    def __init__(self, dataset, batch_size, \n",
    "                 shuffle, drop_last, seed=None, \n",
    "                 collate_fn=None):\n",
    "        self.dataset = dataset\n",
    "        self.batch_size = batch_size\n",
    "        self.shuffle = shuffle\n",
    "        self.drop_last = drop_last\n",
    "        self.seed = seed\n",
    "        self.collate_fn = collate_fn\n",
    "    \n",
    "    def __call__(self):\n",
    "        indices = np.arange(len(self.dataset))\n",
    "        if self.shuffle:\n",
    "            if self.seed is not None:\n",
    "                np.random.seed(self.seed)\n",
    "            indices = np.random.permutation(indices)\n",
    "\n",
    "        # collect batches from the dataset\n",
    "        for i in range(0, len(indices) - self.batch_size+1, self.batch_size):\n",
    "            batch_indices = indices[i:i+self.batch_size]\n",
    "            batch = [self.dataset[idx] for idx in batch_indices]\n",
    "            if self.collate_fn is not None:\n",
    "                input_ids, target_ids = self.collate_fn(batch)\n",
    "            # print(input_ids, target_ids)\n",
    "            yield {\n",
    "                \"input_ids\": mx.array(input_ids, dtype=mx.int32),\n",
    "                \"target_ids\": mx.array(target_ids, dtype=mx.int32),\n",
    "            }\n",
    "    \n",
    "    def __len__(self):\n",
    "        n_batches = len(self.dataset)//self.batch_size\n",
    "        if not self.drop_last:\n",
    "            n_batches += int(len(self.dataset) % self.batch_size != 0)\n",
    "        return n_batches\n",
    "\n",
    "    def __iter__(self):\n",
    "        return self.__call__()\n"
   ]
  },
  {
   "cell_type": "code",
   "execution_count": 22,
   "id": "93f6a017",
   "metadata": {},
   "outputs": [],
   "source": [
    "batch_size = 8\n",
    "train_dataset = InstructionDataset(train_data, tokenizer_hf)\n",
    "train_loader = DataLoaderNP(\n",
    "    train_dataset, batch_size,\n",
    "    shuffle=True, drop_last=True, seed=123,\n",
    "    collate_fn=custom_collate_fn\n",
    ")"
   ]
  },
  {
   "cell_type": "code",
   "execution_count": 23,
   "id": "ab483e31",
   "metadata": {},
   "outputs": [
    {
     "name": "stdout",
     "output_type": "stream",
     "text": [
      "Train loader:\n",
      "(8, 90) (8, 90)\n",
      "(8, 66) (8, 66)\n",
      "(8, 70) (8, 70)\n",
      "(8, 71) (8, 71)\n",
      "(8, 71) (8, 71)\n",
      "(8, 69) (8, 69)\n",
      "(8, 58) (8, 58)\n",
      "(8, 58) (8, 58)\n",
      "(8, 64) (8, 64)\n",
      "(8, 92) (8, 92)\n",
      "(8, 61) (8, 61)\n",
      "(8, 68) (8, 68)\n",
      "(8, 65) (8, 65)\n",
      "(8, 70) (8, 70)\n",
      "(8, 75) (8, 75)\n",
      "(8, 75) (8, 75)\n",
      "(8, 61) (8, 61)\n",
      "(8, 61) (8, 61)\n",
      "(8, 80) (8, 80)\n",
      "(8, 84) (8, 84)\n",
      "(8, 63) (8, 63)\n",
      "(8, 69) (8, 69)\n",
      "(8, 81) (8, 81)\n",
      "(8, 63) (8, 63)\n",
      "(8, 72) (8, 72)\n",
      "(8, 66) (8, 66)\n",
      "(8, 81) (8, 81)\n",
      "(8, 62) (8, 62)\n",
      "(8, 74) (8, 74)\n",
      "(8, 70) (8, 70)\n",
      "(8, 68) (8, 68)\n",
      "(8, 69) (8, 69)\n",
      "(8, 61) (8, 61)\n",
      "(8, 66) (8, 66)\n",
      "(8, 81) (8, 81)\n",
      "(8, 67) (8, 67)\n",
      "(8, 66) (8, 66)\n",
      "(8, 78) (8, 78)\n",
      "(8, 69) (8, 69)\n",
      "(8, 70) (8, 70)\n",
      "(8, 67) (8, 67)\n",
      "(8, 69) (8, 69)\n",
      "(8, 69) (8, 69)\n",
      "(8, 69) (8, 69)\n",
      "(8, 89) (8, 89)\n",
      "(8, 92) (8, 92)\n",
      "(8, 64) (8, 64)\n",
      "(8, 60) (8, 60)\n",
      "(8, 66) (8, 66)\n",
      "(8, 68) (8, 68)\n",
      "(8, 84) (8, 84)\n",
      "(8, 64) (8, 64)\n",
      "(8, 59) (8, 59)\n",
      "(8, 72) (8, 72)\n",
      "(8, 63) (8, 63)\n",
      "(8, 62) (8, 62)\n",
      "(8, 75) (8, 75)\n",
      "(8, 78) (8, 78)\n",
      "(8, 84) (8, 84)\n",
      "(8, 63) (8, 63)\n",
      "(8, 76) (8, 76)\n",
      "(8, 59) (8, 59)\n",
      "(8, 68) (8, 68)\n",
      "(8, 69) (8, 69)\n",
      "(8, 69) (8, 69)\n",
      "(8, 65) (8, 65)\n",
      "(8, 72) (8, 72)\n",
      "(8, 68) (8, 68)\n",
      "(8, 82) (8, 82)\n",
      "(8, 81) (8, 81)\n",
      "(8, 61) (8, 61)\n",
      "(8, 68) (8, 68)\n",
      "(8, 64) (8, 64)\n",
      "(8, 72) (8, 72)\n",
      "(8, 84) (8, 84)\n",
      "(8, 76) (8, 76)\n",
      "(8, 88) (8, 88)\n",
      "(8, 64) (8, 64)\n",
      "(8, 76) (8, 76)\n",
      "(8, 72) (8, 72)\n",
      "(8, 74) (8, 74)\n",
      "(8, 65) (8, 65)\n",
      "(8, 70) (8, 70)\n",
      "(8, 58) (8, 58)\n",
      "(8, 64) (8, 64)\n",
      "(8, 71) (8, 71)\n",
      "(8, 75) (8, 75)\n",
      "(8, 59) (8, 59)\n",
      "(8, 64) (8, 64)\n",
      "(8, 70) (8, 70)\n",
      "(8, 73) (8, 73)\n",
      "(8, 70) (8, 70)\n",
      "(8, 92) (8, 92)\n",
      "(8, 66) (8, 66)\n",
      "(8, 67) (8, 67)\n",
      "(8, 84) (8, 84)\n",
      "(8, 65) (8, 65)\n",
      "(8, 61) (8, 61)\n",
      "(8, 74) (8, 74)\n",
      "(8, 83) (8, 83)\n",
      "(8, 64) (8, 64)\n",
      "(8, 62) (8, 62)\n",
      "(8, 65) (8, 65)\n",
      "(8, 66) (8, 66)\n",
      "(8, 71) (8, 71)\n",
      "(8, 84) (8, 84)\n",
      "(8, 72) (8, 72)\n",
      "(8, 70) (8, 70)\n",
      "(8, 67) (8, 67)\n",
      "(8, 81) (8, 81)\n",
      "(8, 72) (8, 72)\n",
      "(8, 73) (8, 73)\n",
      "(8, 67) (8, 67)\n",
      "(8, 78) (8, 78)\n",
      "(8, 77) (8, 77)\n",
      "(8, 72) (8, 72)\n"
     ]
    }
   ],
   "source": [
    "print(\"Train loader:\")\n",
    "for batch in train_loader:\n",
    "    print(batch['input_ids'].shape, batch['target_ids'].shape)\n",
    "    # pass\n",
    "# print(\"Input batch dimensions:\", batch[\"input_ids\"].shape)\n",
    "# print(\"Target batch dimensions:\", batch[\"target_ids\"].shape)"
   ]
  },
  {
   "cell_type": "code",
   "execution_count": 24,
   "id": "68f18050",
   "metadata": {},
   "outputs": [
    {
     "name": "stdout",
     "output_type": "stream",
     "text": [
      "Example input IDs: array([21106, 318, 281, ..., 50256, 50256, 50256], dtype=int32)\n"
     ]
    }
   ],
   "source": [
    "print(\"Example input IDs:\", batch[\"input_ids\"][0])"
   ]
  },
  {
   "cell_type": "code",
   "execution_count": 25,
   "id": "6ef7ec4a",
   "metadata": {},
   "outputs": [
    {
     "name": "stdout",
     "output_type": "stream",
     "text": [
      "Example target IDs: array([318, 281, 12064, ..., -100, -100, -100], dtype=int32)\n"
     ]
    }
   ],
   "source": [
    "print(\"Example target IDs:\", batch[\"target_ids\"][0])"
   ]
  },
  {
   "cell_type": "code",
   "execution_count": 26,
   "id": "62a05f84",
   "metadata": {},
   "outputs": [],
   "source": [
    "val_dataset = InstructionDataset(val_data, tokenizer_hf)\n",
    "val_loader = DataLoaderNP(\n",
    "    val_dataset, batch_size,\n",
    "    shuffle=True, drop_last=True, seed=123,\n",
    "    collate_fn=custom_collate_fn\n",
    ")\n",
    "test_dataset = InstructionDataset(test_data, tokenizer_hf)\n",
    "test_loader = DataLoaderNP(\n",
    "    test_dataset, batch_size,\n",
    "    shuffle=True, drop_last=True, seed=123,\n",
    "    collate_fn=custom_collate_fn\n",
    ")"
   ]
  },
  {
   "cell_type": "markdown",
   "id": "66f596dd",
   "metadata": {},
   "source": [
    "# Test the loaded pretrained LLM"
   ]
  },
  {
   "cell_type": "code",
   "execution_count": 27,
   "id": "f9231702",
   "metadata": {},
   "outputs": [
    {
     "name": "stdout",
     "output_type": "stream",
     "text": [
      "Below is an instruction that describes a task. Write a response that appropriately completes the request. \n",
      "\n",
      "### Instruction:\n",
      "Convert the active sentence to passive: 'The chef cooks the meal every day.'\n"
     ]
    },
    {
     "data": {
      "text/plain": [
       "\"\\n\\n### Response:\\n\\nThe chef cooks the meal every day.\\n\\n### Instruction:\\n\\nConvert the active sentence to passive: 'The chef cooks the meal every day.'\\n\\n### Response:\\n\\nThe chef cooks the meal every day.\\n\\n### Instruction:\\n\\nConvert the active sentence to passive: 'The chef cooks the meal every day.'\\n\\n### Response:\\n\\nThe chef cooks the meal every day.\\n\\n### Instruction:\\n\\nConvert the active sentence to passive: 'The chef cooks the meal every day.'\\n\\n### Response:\\n\\nThe chef cooks the meal every day.\\n\\n### Instruction:\\n\\nConvert the active sentence to passive: 'The chef cooks the meal every day.'\\n\\n### Response:\\n\\nThe chef cooks the meal every day.\\n\\n### Instruction:\\n\\nConvert the active sentence to passive: 'The chef cooks the meal every day.'\\n\\n### Response:\\n\\nThe chef cooks the meal every day.\\n\\n### Instruction:\\n\\nConvert the active sentence to passive: 'The chef cooks the meal every day.'\\n\\n### Response:\\n\\nThe chef cooks the meal every day.\\n\\n### Instruction:\\n\\n\""
      ]
     },
     "execution_count": 27,
     "metadata": {},
     "output_type": "execute_result"
    }
   ],
   "source": [
    "from mlx_lm import generate\n",
    "\n",
    "# the model is not capable of follwing the instructions, yet.\n",
    "input_text = format_input(val_data[0])\n",
    "print(input_text)\n",
    "generate(model_hf, tokenizer_hf, prompt=input_text)\n"
   ]
  },
  {
   "cell_type": "markdown",
   "id": "9285a3ba",
   "metadata": {},
   "source": [
    "# Finetuning the LLM on instruction data"
   ]
  },
  {
   "cell_type": "code",
   "execution_count": 28,
   "id": "19843ce9",
   "metadata": {},
   "outputs": [],
   "source": [
    "def compute_ce_loss(model, inputs, target):\n",
    "    logits = model(inputs)\n",
    "    loss = nn.losses.cross_entropy(logits.flatten(0, 1), target.flatten(),\n",
    "                                   reduction=\"mean\")\n",
    "    return loss\n",
    "\n",
    "def calc_loss_batch(input_batch, target_batch, model, no_grad, device=None):\n",
    "    input_batch, target_batch = mx.array(input_batch), mx.array(target_batch)\n",
    "\n",
    "    if no_grad:\n",
    "        input_batch = mx.stop_gradient(input_batch)\n",
    "    # logits = model(input_batch)\n",
    "    batch_step_fn = nn.value_and_grad(model, compute_ce_loss)\n",
    "    loss, grad = batch_step_fn(model, input_batch, target_batch)\n",
    "    return loss, grad\n",
    "\n",
    "def calc_loss_loader(data_loader, model, no_grad, device=None, num_batches=None):\n",
    "    total_loss = 0.\n",
    "    if len(data_loader) == 0:\n",
    "        return float('nan')\n",
    "    elif num_batches is None:\n",
    "        num_batches = len(data_loader)\n",
    "    else:\n",
    "        # reduce the number of batches to match the total number of batches in the data loader\n",
    "        # if num_batches exceeds the number of batches in the data loader\n",
    "        num_batches = min(num_batches, len(data_loader))\n",
    "    for i, ex in enumerate(iter(data_loader)):\n",
    "        if i < num_batches:\n",
    "            loss, _ = calc_loss_batch(ex['input_ids'], ex['target_ids'], model, no_grad)\n",
    "            total_loss += loss.item()\n",
    "        else:\n",
    "            break\n",
    "    return total_loss / num_batches    "
   ]
  },
  {
   "cell_type": "code",
   "execution_count": 29,
   "id": "693dc159",
   "metadata": {},
   "outputs": [],
   "source": [
    "def text_to_token_ids(text, tokenizer):\n",
    "    encoded = tokenizer.encode(text)\n",
    "    encoded_tensor = mx.array(encoded)[None, :]\n",
    "    return encoded_tensor\n",
    "\n",
    "def token_ids_to_text(token_ids, tokenizer):\n",
    "    flat = token_ids.squeeze().tolist()\n",
    "    return tokenizer.decode(flat)\n",
    "\n",
    "def generate_text_simple(model, idx, max_new_tokens, context_size):\n",
    "    # idx is (batch, n_tokens)array of indices in the current context.\n",
    "    for _ in range(max_new_tokens):\n",
    "        # get current context within the context window\n",
    "        idx_cond = idx[:, -context_size:]\n",
    "        # get the predictions\n",
    "        logits = model(mx.stop_gradient(idx_cond))\n",
    "        # focus on the last time step\n",
    "        logits = logits[:, -1, :]\n",
    "        probas= mx.softmax(logits, axis=-1)\n",
    "        # get the idx of the vocab entry with the highest probability\n",
    "        idx_next = mx.argmax(probas, axis=-1, keepdims=True)\n",
    "        # append sampled index to the sequence\n",
    "        idx = mx.concat([idx, idx_next], axis=1)\n",
    "    return idx\n",
    "\n",
    "def train_model_simple(model, train_loader, val_loader, optimizer, device, num_epochs, \n",
    "                       eval_freq, eval_iter, start_context, tokenizer):\n",
    "    train_losses, val_losses, track_tokens_seen = [], [], []\n",
    "    tokens_seen, global_step = 0, 0\n",
    "\n",
    "    for epoch in range(num_epochs):\n",
    "        # mx.eval(model.parameters())\n",
    "        model.train()\n",
    "        for batch in iter(train_loader):\n",
    "            input_batch, target_batch = batch['input_ids'], batch['target_ids']\n",
    "            loss, grads = calc_loss_batch(input_batch, target_batch, model, no_grad=False)\n",
    "            optimizer.update(model, grads)\n",
    "            # Force a graph evaluation\n",
    "            # mx.eval(model.parameters(), optimizer.state)\n",
    "            # mx.eval(model.state)\n",
    "            mx.eval(loss, [model.state, optimizer.state])\n",
    "            tokens_seen += input_batch.size\n",
    "            global_step += 1\n",
    "\n",
    "            if global_step % eval_freq == 0:\n",
    "                train_loss, val_loss = evaluate_model(model, train_loader, val_loader, device, eval_iter)\n",
    "                train_losses.append(train_loss)\n",
    "                val_losses.append(val_loss)\n",
    "                track_tokens_seen.append(tokens_seen)\n",
    "                print(f\"Epoch {epoch+1}, step {global_step:06d}: \"\n",
    "                      f\"train loss {train_loss:.3f}, val loss {val_loss:.3f}\")\n",
    "        generate_and_print_sample(model, tokenizer, device, start_context)\n",
    "        # print(f\"Epoch {epoch+1}, Loss: {loss.item():.3f}, Tokens seen: {tokens_seen}\")\n",
    "    return train_losses, val_losses, track_tokens_seen\n",
    "\n",
    "def evaluate_model(model, train_loader, val_loader, device, eval_iter):\n",
    "    model.eval()\n",
    "    train_loss = calc_loss_loader(train_loader, model, True, device, eval_iter)\n",
    "    val_loss = calc_loss_loader(val_loader, model, True, device, eval_iter)\n",
    "    model.train()\n",
    "    return train_loss, val_loss\n",
    "\n",
    "def generate_and_print_sample(model, tokenizer, device, start_context):\n",
    "    model.eval()\n",
    "    context_size = model.model.wpe.weight.shape[0]\n",
    "    encoded = text_to_token_ids(start_context, tokenizer)\n",
    "    token_ids = generate_text_simple(\n",
    "        model=model,\n",
    "        idx=mx.stop_gradient(encoded),\n",
    "        max_new_tokens=50,\n",
    "        context_size=context_size,\n",
    "    )\n",
    "    decoded_text = token_ids_to_text(token_ids, tokenizer)\n",
    "    print(decoded_text.replace(\"\\n\", \" \"))\n",
    "    model.train()"
   ]
  },
  {
   "cell_type": "code",
   "execution_count": 30,
   "id": "8a19464c",
   "metadata": {},
   "outputs": [
    {
     "name": "stdout",
     "output_type": "stream",
     "text": [
      "Train loss (5 batches): 7.285563182830811\n",
      "Val loss (5 batches): 7.405719184875489\n"
     ]
    }
   ],
   "source": [
    "train_loss = calc_loss_loader(train_loader, model_hf, no_grad=True, num_batches=5)\n",
    "print(\"Train loss (5 batches):\", train_loss)\n",
    "val_loss = calc_loss_loader(val_loader, model_hf, no_grad=True, num_batches=5)\n",
    "print(\"Val loss (5 batches):\", val_loss)"
   ]
  },
  {
   "cell_type": "code",
   "execution_count": 31,
   "id": "483b261a",
   "metadata": {},
   "outputs": [
    {
     "name": "stdout",
     "output_type": "stream",
     "text": [
      "Epoch 1, step 000005: train loss 1.351, val loss 1.454\n",
      "Epoch 1, step 000010: train loss 0.652, val loss 0.800\n",
      "Epoch 1, step 000015: train loss 0.574, val loss 0.733\n",
      "Epoch 1, step 000020: train loss 0.541, val loss 0.706\n",
      "Epoch 1, step 000025: train loss 0.516, val loss 0.678\n",
      "Epoch 1, step 000030: train loss 0.491, val loss 0.665\n",
      "Epoch 1, step 000035: train loss 0.470, val loss 0.650\n",
      "Epoch 1, step 000040: train loss 0.456, val loss 0.634\n",
      "Epoch 1, step 000045: train loss 0.445, val loss 0.621\n",
      "Epoch 1, step 000050: train loss 0.438, val loss 0.603\n",
      "Epoch 1, step 000055: train loss 0.437, val loss 0.594\n",
      "Epoch 1, step 000060: train loss 0.435, val loss 0.587\n",
      "Epoch 1, step 000065: train loss 0.429, val loss 0.578\n",
      "Epoch 1, step 000070: train loss 0.420, val loss 0.571\n",
      "Epoch 1, step 000075: train loss 0.413, val loss 0.568\n",
      "Epoch 1, step 000080: train loss 0.408, val loss 0.565\n",
      "Epoch 1, step 000085: train loss 0.404, val loss 0.555\n",
      "Epoch 1, step 000090: train loss 0.401, val loss 0.551\n",
      "Epoch 1, step 000095: train loss 0.395, val loss 0.542\n",
      "Epoch 1, step 000100: train loss 0.390, val loss 0.542\n",
      "Epoch 1, step 000105: train loss 0.391, val loss 0.549\n",
      "Epoch 1, step 000110: train loss 0.388, val loss 0.536\n",
      "Epoch 1, step 000115: train loss 0.393, val loss 0.534\n",
      "Below is an instruction that describes a task. Write a response that appropriately completes the request.   ### Instruction: Convert the active sentence to passive: 'The chef cooks the meal every day.'  ### Response: The meal is prepared every day by the chef.<|endoftext|> Heist Heist Heist Heist Heist Heist Heist Heist Heist Heist Heist Heist Heist Heist Heist Heist Heist Heist Heist Heist Heist Heist Heist Heist Heist Heist Heist Heist Heist Heist Heist Heist Heist\n",
      "Epoch 2, step 000120: train loss 0.364, val loss 0.531\n",
      "Epoch 2, step 000125: train loss 0.323, val loss 0.531\n",
      "Epoch 2, step 000130: train loss 0.305, val loss 0.531\n",
      "Epoch 2, step 000135: train loss 0.295, val loss 0.531\n",
      "Epoch 2, step 000140: train loss 0.293, val loss 0.532\n",
      "Epoch 2, step 000145: train loss 0.293, val loss 0.523\n",
      "Epoch 2, step 000150: train loss 0.291, val loss 0.522\n",
      "Epoch 2, step 000155: train loss 0.290, val loss 0.524\n",
      "Epoch 2, step 000160: train loss 0.292, val loss 0.528\n",
      "Epoch 2, step 000165: train loss 0.294, val loss 0.525\n",
      "Epoch 2, step 000170: train loss 0.297, val loss 0.523\n",
      "Epoch 2, step 000175: train loss 0.298, val loss 0.523\n",
      "Epoch 2, step 000180: train loss 0.297, val loss 0.524\n",
      "Epoch 2, step 000185: train loss 0.294, val loss 0.525\n",
      "Epoch 2, step 000190: train loss 0.289, val loss 0.525\n",
      "Epoch 2, step 000195: train loss 0.289, val loss 0.527\n",
      "Epoch 2, step 000200: train loss 0.287, val loss 0.521\n",
      "Epoch 2, step 000205: train loss 0.288, val loss 0.519\n",
      "Epoch 2, step 000210: train loss 0.294, val loss 0.520\n",
      "Epoch 2, step 000215: train loss 0.293, val loss 0.513\n",
      "Epoch 2, step 000220: train loss 0.292, val loss 0.512\n",
      "Epoch 2, step 000225: train loss 0.292, val loss 0.509\n",
      "Epoch 2, step 000230: train loss 0.293, val loss 0.510\n",
      "Below is an instruction that describes a task. Write a response that appropriately completes the request.   ### Instruction: Convert the active sentence to passive: 'The chef cooks the meal every day.'  ### Response: The meal is prepared by the chef every day.<|endoftext|> Heist Heist Heist Heist Heist Heist Heist Heist Heist Heist Heist Heist Heist Heist Heist Heist Heist Heist Heist Heist Heist Heist Heist Heist Heist Heist Heist Heist Heist Heist Heist Heist Heist\n",
      "Training time: 37.94 minutes\n"
     ]
    }
   ],
   "source": [
    "import time\n",
    "start_time = time.time()\n",
    "\n",
    "optimizer = optim.AdamW(learning_rate=1e-5, weight_decay=0.1)\n",
    "num_epochs = 2\n",
    "train_losses, val_losses, tokens_seen = train_model_simple(\n",
    "    model_hf, train_loader, val_loader, optimizer, None,\n",
    "    num_epochs, eval_freq=5, eval_iter=5,\n",
    "    start_context=format_input(val_data[0]), tokenizer=tokenizer_hf\n",
    ")\n",
    "end_time = time.time()\n",
    "execution_time = (end_time - start_time)/60\n",
    "print(f\"Training time: {execution_time:.2f} minutes\")"
   ]
  },
  {
   "cell_type": "code",
   "execution_count": 32,
   "id": "ce3c2f7d",
   "metadata": {},
   "outputs": [],
   "source": [
    "import matplotlib.pyplot as plt\n",
    "from matplotlib.ticker import MaxNLocator\n",
    "def plot_losses(epochs_seen, tokens_seen, train_losses, val_losses):\n",
    "    fig, ax1 = plt.subplots(figsize=(5, 3))\n",
    "\n",
    "    # Plot training and validation loss against epochs\n",
    "    ax1.plot(epochs_seen, train_losses, label=\"Training loss\")\n",
    "    ax1.plot(epochs_seen, val_losses, linestyle=\"-.\", label=\"Validation loss\")\n",
    "    ax1.set_xlabel(\"Epochs\")\n",
    "    ax1.set_ylabel(\"Loss\")\n",
    "    ax1.legend(loc=\"upper right\")\n",
    "    ax1.xaxis.set_major_locator(MaxNLocator(integer=True))  # only show integer labels on x-axis\n",
    "\n",
    "    # Create a second x-axis for tokens seen\n",
    "    ax2 = ax1.twiny()  # Create a second x-axis that shares the same y-axis\n",
    "    ax2.plot(tokens_seen, train_losses, alpha=0)  # Invisible plot for aligning ticks\n",
    "    ax2.set_xlabel(\"Tokens seen\")\n",
    "\n",
    "    fig.tight_layout()  # Adjust layout to make room\n",
    "    plt.show()"
   ]
  },
  {
   "cell_type": "code",
   "execution_count": 33,
   "id": "95a62d97",
   "metadata": {},
   "outputs": [
    {
     "data": {
      "image/png": "[encoded data removed]",
      "text/plain": [
       "<Figure size 500x300 with 2 Axes>"
      ]
     },
     "metadata": {},
     "output_type": "display_data"
    }
   ],
   "source": [
    "epochs_tensor = mx.linspace(0, num_epochs, len(train_losses))\n",
    "plot_losses(epochs_tensor, tokens_seen, train_losses, val_losses)"
   ]
  },
  {
   "cell_type": "code",
   "execution_count": 34,
   "id": "dc53837a",
   "metadata": {},
   "outputs": [],
   "source": [
    "# save model weights``\n",
    "model_hf.save_weights(\"__gpt2-medium-mlx-instruct-tuned.npz\")"
   ]
  },
  {
   "cell_type": "code",
   "execution_count": 35,
   "id": "c2c86b0e",
   "metadata": {},
   "outputs": [
    {
     "data": {
      "text/plain": [
       "Model(\n",
       "  (model): GPT2Model(\n",
       "    (wte): Embedding(50257, 1024)\n",
       "    (wpe): Embedding(1024, 1024)\n",
       "    (h.0): TransformerBlock(\n",
       "      (attn): Attention(\n",
       "        (c_attn): Linear(input_dims=1024, output_dims=3072, bias=True)\n",
       "        (c_proj): Linear(input_dims=1024, output_dims=1024, bias=True)\n",
       "      )\n",
       "      (mlp): MLP(\n",
       "        (c_fc): Linear(input_dims=1024, output_dims=4096, bias=True)\n",
       "        (c_proj): Linear(input_dims=4096, output_dims=1024, bias=True)\n",
       "      )\n",
       "      (ln_1): LayerNorm(1024, eps=1e-05, affine=True)\n",
       "      (ln_2): LayerNorm(1024, eps=1e-05, affine=True)\n",
       "    )\n",
       "    (h.1): TransformerBlock(\n",
       "      (attn): Attention(\n",
       "        (c_attn): Linear(input_dims=1024, output_dims=3072, bias=True)\n",
       "        (c_proj): Linear(input_dims=1024, output_dims=1024, bias=True)\n",
       "      )\n",
       "      (mlp): MLP(\n",
       "        (c_fc): Linear(input_dims=1024, output_dims=4096, bias=True)\n",
       "        (c_proj): Linear(input_dims=4096, output_dims=1024, bias=True)\n",
       "      )\n",
       "      (ln_1): LayerNorm(1024, eps=1e-05, affine=True)\n",
       "      (ln_2): LayerNorm(1024, eps=1e-05, affine=True)\n",
       "    )\n",
       "    (h.2): TransformerBlock(\n",
       "      (attn): Attention(\n",
       "        (c_attn): Linear(input_dims=1024, output_dims=3072, bias=True)\n",
       "        (c_proj): Linear(input_dims=1024, output_dims=1024, bias=True)\n",
       "      )\n",
       "      (mlp): MLP(\n",
       "        (c_fc): Linear(input_dims=1024, output_dims=4096, bias=True)\n",
       "        (c_proj): Linear(input_dims=4096, output_dims=1024, bias=True)\n",
       "      )\n",
       "      (ln_1): LayerNorm(1024, eps=1e-05, affine=True)\n",
       "      (ln_2): LayerNorm(1024, eps=1e-05, affine=True)\n",
       "    )\n",
       "    (h.3): TransformerBlock(\n",
       "      (attn): Attention(\n",
       "        (c_attn): Linear(input_dims=1024, output_dims=3072, bias=True)\n",
       "        (c_proj): Linear(input_dims=1024, output_dims=1024, bias=True)\n",
       "      )\n",
       "      (mlp): MLP(\n",
       "        (c_fc): Linear(input_dims=1024, output_dims=4096, bias=True)\n",
       "        (c_proj): Linear(input_dims=4096, output_dims=1024, bias=True)\n",
       "      )\n",
       "      (ln_1): LayerNorm(1024, eps=1e-05, affine=True)\n",
       "      (ln_2): LayerNorm(1024, eps=1e-05, affine=True)\n",
       "    )\n",
       "    (h.4): TransformerBlock(\n",
       "      (attn): Attention(\n",
       "        (c_attn): Linear(input_dims=1024, output_dims=3072, bias=True)\n",
       "        (c_proj): Linear(input_dims=1024, output_dims=1024, bias=True)\n",
       "      )\n",
       "      (mlp): MLP(\n",
       "        (c_fc): Linear(input_dims=1024, output_dims=4096, bias=True)\n",
       "        (c_proj): Linear(input_dims=4096, output_dims=1024, bias=True)\n",
       "      )\n",
       "      (ln_1): LayerNorm(1024, eps=1e-05, affine=True)\n",
       "      (ln_2): LayerNorm(1024, eps=1e-05, affine=True)\n",
       "    )\n",
       "    (h.5): TransformerBlock(\n",
       "      (attn): Attention(\n",
       "        (c_attn): Linear(input_dims=1024, output_dims=3072, bias=True)\n",
       "        (c_proj): Linear(input_dims=1024, output_dims=1024, bias=True)\n",
       "      )\n",
       "      (mlp): MLP(\n",
       "        (c_fc): Linear(input_dims=1024, output_dims=4096, bias=True)\n",
       "        (c_proj): Linear(input_dims=4096, output_dims=1024, bias=True)\n",
       "      )\n",
       "      (ln_1): LayerNorm(1024, eps=1e-05, affine=True)\n",
       "      (ln_2): LayerNorm(1024, eps=1e-05, affine=True)\n",
       "    )\n",
       "    (h.6): TransformerBlock(\n",
       "      (attn): Attention(\n",
       "        (c_attn): Linear(input_dims=1024, output_dims=3072, bias=True)\n",
       "        (c_proj): Linear(input_dims=1024, output_dims=1024, bias=True)\n",
       "      )\n",
       "      (mlp): MLP(\n",
       "        (c_fc): Linear(input_dims=1024, output_dims=4096, bias=True)\n",
       "        (c_proj): Linear(input_dims=4096, output_dims=1024, bias=True)\n",
       "      )\n",
       "      (ln_1): LayerNorm(1024, eps=1e-05, affine=True)\n",
       "      (ln_2): LayerNorm(1024, eps=1e-05, affine=True)\n",
       "    )\n",
       "    (h.7): TransformerBlock(\n",
       "      (attn): Attention(\n",
       "        (c_attn): Linear(input_dims=1024, output_dims=3072, bias=True)\n",
       "        (c_proj): Linear(input_dims=1024, output_dims=1024, bias=True)\n",
       "      )\n",
       "      (mlp): MLP(\n",
       "        (c_fc): Linear(input_dims=1024, output_dims=4096, bias=True)\n",
       "        (c_proj): Linear(input_dims=4096, output_dims=1024, bias=True)\n",
       "      )\n",
       "      (ln_1): LayerNorm(1024, eps=1e-05, affine=True)\n",
       "      (ln_2): LayerNorm(1024, eps=1e-05, affine=True)\n",
       "    )\n",
       "    (h.8): TransformerBlock(\n",
       "      (attn): Attention(\n",
       "        (c_attn): Linear(input_dims=1024, output_dims=3072, bias=True)\n",
       "        (c_proj): Linear(input_dims=1024, output_dims=1024, bias=True)\n",
       "      )\n",
       "      (mlp): MLP(\n",
       "        (c_fc): Linear(input_dims=1024, output_dims=4096, bias=True)\n",
       "        (c_proj): Linear(input_dims=4096, output_dims=1024, bias=True)\n",
       "      )\n",
       "      (ln_1): LayerNorm(1024, eps=1e-05, affine=True)\n",
       "      (ln_2): LayerNorm(1024, eps=1e-05, affine=True)\n",
       "    )\n",
       "    (h.9): TransformerBlock(\n",
       "      (attn): Attention(\n",
       "        (c_attn): Linear(input_dims=1024, output_dims=3072, bias=True)\n",
       "        (c_proj): Linear(input_dims=1024, output_dims=1024, bias=True)\n",
       "      )\n",
       "      (mlp): MLP(\n",
       "        (c_fc): Linear(input_dims=1024, output_dims=4096, bias=True)\n",
       "        (c_proj): Linear(input_dims=4096, output_dims=1024, bias=True)\n",
       "      )\n",
       "      (ln_1): LayerNorm(1024, eps=1e-05, affine=True)\n",
       "      (ln_2): LayerNorm(1024, eps=1e-05, affine=True)\n",
       "    )\n",
       "    (h.10): TransformerBlock(\n",
       "      (attn): Attention(\n",
       "        (c_attn): Linear(input_dims=1024, output_dims=3072, bias=True)\n",
       "        (c_proj): Linear(input_dims=1024, output_dims=1024, bias=True)\n",
       "      )\n",
       "      (mlp): MLP(\n",
       "        (c_fc): Linear(input_dims=1024, output_dims=4096, bias=True)\n",
       "        (c_proj): Linear(input_dims=4096, output_dims=1024, bias=True)\n",
       "      )\n",
       "      (ln_1): LayerNorm(1024, eps=1e-05, affine=True)\n",
       "      (ln_2): LayerNorm(1024, eps=1e-05, affine=True)\n",
       "    )\n",
       "    (h.11): TransformerBlock(\n",
       "      (attn): Attention(\n",
       "        (c_attn): Linear(input_dims=1024, output_dims=3072, bias=True)\n",
       "        (c_proj): Linear(input_dims=1024, output_dims=1024, bias=True)\n",
       "      )\n",
       "      (mlp): MLP(\n",
       "        (c_fc): Linear(input_dims=1024, output_dims=4096, bias=True)\n",
       "        (c_proj): Linear(input_dims=4096, output_dims=1024, bias=True)\n",
       "      )\n",
       "      (ln_1): LayerNorm(1024, eps=1e-05, affine=True)\n",
       "      (ln_2): LayerNorm(1024, eps=1e-05, affine=True)\n",
       "    )\n",
       "    (h.12): TransformerBlock(\n",
       "      (attn): Attention(\n",
       "        (c_attn): Linear(input_dims=1024, output_dims=3072, bias=True)\n",
       "        (c_proj): Linear(input_dims=1024, output_dims=1024, bias=True)\n",
       "      )\n",
       "      (mlp): MLP(\n",
       "        (c_fc): Linear(input_dims=1024, output_dims=4096, bias=True)\n",
       "        (c_proj): Linear(input_dims=4096, output_dims=1024, bias=True)\n",
       "      )\n",
       "      (ln_1): LayerNorm(1024, eps=1e-05, affine=True)\n",
       "      (ln_2): LayerNorm(1024, eps=1e-05, affine=True)\n",
       "    )\n",
       "    (h.13): TransformerBlock(\n",
       "      (attn): Attention(\n",
       "        (c_attn): Linear(input_dims=1024, output_dims=3072, bias=True)\n",
       "        (c_proj): Linear(input_dims=1024, output_dims=1024, bias=True)\n",
       "      )\n",
       "      (mlp): MLP(\n",
       "        (c_fc): Linear(input_dims=1024, output_dims=4096, bias=True)\n",
       "        (c_proj): Linear(input_dims=4096, output_dims=1024, bias=True)\n",
       "      )\n",
       "      (ln_1): LayerNorm(1024, eps=1e-05, affine=True)\n",
       "      (ln_2): LayerNorm(1024, eps=1e-05, affine=True)\n",
       "    )\n",
       "    (h.14): TransformerBlock(\n",
       "      (attn): Attention(\n",
       "        (c_attn): Linear(input_dims=1024, output_dims=3072, bias=True)\n",
       "        (c_proj): Linear(input_dims=1024, output_dims=1024, bias=True)\n",
       "      )\n",
       "      (mlp): MLP(\n",
       "        (c_fc): Linear(input_dims=1024, output_dims=4096, bias=True)\n",
       "        (c_proj): Linear(input_dims=4096, output_dims=1024, bias=True)\n",
       "      )\n",
       "      (ln_1): LayerNorm(1024, eps=1e-05, affine=True)\n",
       "      (ln_2): LayerNorm(1024, eps=1e-05, affine=True)\n",
       "    )\n",
       "    (h.15): TransformerBlock(\n",
       "      (attn): Attention(\n",
       "        (c_attn): Linear(input_dims=1024, output_dims=3072, bias=True)\n",
       "        (c_proj): Linear(input_dims=1024, output_dims=1024, bias=True)\n",
       "      )\n",
       "      (mlp): MLP(\n",
       "        (c_fc): Linear(input_dims=1024, output_dims=4096, bias=True)\n",
       "        (c_proj): Linear(input_dims=4096, output_dims=1024, bias=True)\n",
       "      )\n",
       "      (ln_1): LayerNorm(1024, eps=1e-05, affine=True)\n",
       "      (ln_2): LayerNorm(1024, eps=1e-05, affine=True)\n",
       "    )\n",
       "    (h.16): TransformerBlock(\n",
       "      (attn): Attention(\n",
       "        (c_attn): Linear(input_dims=1024, output_dims=3072, bias=True)\n",
       "        (c_proj): Linear(input_dims=1024, output_dims=1024, bias=True)\n",
       "      )\n",
       "      (mlp): MLP(\n",
       "        (c_fc): Linear(input_dims=1024, output_dims=4096, bias=True)\n",
       "        (c_proj): Linear(input_dims=4096, output_dims=1024, bias=True)\n",
       "      )\n",
       "      (ln_1): LayerNorm(1024, eps=1e-05, affine=True)\n",
       "      (ln_2): LayerNorm(1024, eps=1e-05, affine=True)\n",
       "    )\n",
       "    (h.17): TransformerBlock(\n",
       "      (attn): Attention(\n",
       "        (c_attn): Linear(input_dims=1024, output_dims=3072, bias=True)\n",
       "        (c_proj): Linear(input_dims=1024, output_dims=1024, bias=True)\n",
       "      )\n",
       "      (mlp): MLP(\n",
       "        (c_fc): Linear(input_dims=1024, output_dims=4096, bias=True)\n",
       "        (c_proj): Linear(input_dims=4096, output_dims=1024, bias=True)\n",
       "      )\n",
       "      (ln_1): LayerNorm(1024, eps=1e-05, affine=True)\n",
       "      (ln_2): LayerNorm(1024, eps=1e-05, affine=True)\n",
       "    )\n",
       "    (h.18): TransformerBlock(\n",
       "      (attn): Attention(\n",
       "        (c_attn): Linear(input_dims=1024, output_dims=3072, bias=True)\n",
       "        (c_proj): Linear(input_dims=1024, output_dims=1024, bias=True)\n",
       "      )\n",
       "      (mlp): MLP(\n",
       "        (c_fc): Linear(input_dims=1024, output_dims=4096, bias=True)\n",
       "        (c_proj): Linear(input_dims=4096, output_dims=1024, bias=True)\n",
       "      )\n",
       "      (ln_1): LayerNorm(1024, eps=1e-05, affine=True)\n",
       "      (ln_2): LayerNorm(1024, eps=1e-05, affine=True)\n",
       "    )\n",
       "    (h.19): TransformerBlock(\n",
       "      (attn): Attention(\n",
       "        (c_attn): Linear(input_dims=1024, output_dims=3072, bias=True)\n",
       "        (c_proj): Linear(input_dims=1024, output_dims=1024, bias=True)\n",
       "      )\n",
       "      (mlp): MLP(\n",
       "        (c_fc): Linear(input_dims=1024, output_dims=4096, bias=True)\n",
       "        (c_proj): Linear(input_dims=4096, output_dims=1024, bias=True)\n",
       "      )\n",
       "      (ln_1): LayerNorm(1024, eps=1e-05, affine=True)\n",
       "      (ln_2): LayerNorm(1024, eps=1e-05, affine=True)\n",
       "    )\n",
       "    (h.20): TransformerBlock(\n",
       "      (attn): Attention(\n",
       "        (c_attn): Linear(input_dims=1024, output_dims=3072, bias=True)\n",
       "        (c_proj): Linear(input_dims=1024, output_dims=1024, bias=True)\n",
       "      )\n",
       "      (mlp): MLP(\n",
       "        (c_fc): Linear(input_dims=1024, output_dims=4096, bias=True)\n",
       "        (c_proj): Linear(input_dims=4096, output_dims=1024, bias=True)\n",
       "      )\n",
       "      (ln_1): LayerNorm(1024, eps=1e-05, affine=True)\n",
       "      (ln_2): LayerNorm(1024, eps=1e-05, affine=True)\n",
       "    )\n",
       "    (h.21): TransformerBlock(\n",
       "      (attn): Attention(\n",
       "        (c_attn): Linear(input_dims=1024, output_dims=3072, bias=True)\n",
       "        (c_proj): Linear(input_dims=1024, output_dims=1024, bias=True)\n",
       "      )\n",
       "      (mlp): MLP(\n",
       "        (c_fc): Linear(input_dims=1024, output_dims=4096, bias=True)\n",
       "        (c_proj): Linear(input_dims=4096, output_dims=1024, bias=True)\n",
       "      )\n",
       "      (ln_1): LayerNorm(1024, eps=1e-05, affine=True)\n",
       "      (ln_2): LayerNorm(1024, eps=1e-05, affine=True)\n",
       "    )\n",
       "    (h.22): TransformerBlock(\n",
       "      (attn): Attention(\n",
       "        (c_attn): Linear(input_dims=1024, output_dims=3072, bias=True)\n",
       "        (c_proj): Linear(input_dims=1024, output_dims=1024, bias=True)\n",
       "      )\n",
       "      (mlp): MLP(\n",
       "        (c_fc): Linear(input_dims=1024, output_dims=4096, bias=True)\n",
       "        (c_proj): Linear(input_dims=4096, output_dims=1024, bias=True)\n",
       "      )\n",
       "      (ln_1): LayerNorm(1024, eps=1e-05, affine=True)\n",
       "      (ln_2): LayerNorm(1024, eps=1e-05, affine=True)\n",
       "    )\n",
       "    (h.23): TransformerBlock(\n",
       "      (attn): Attention(\n",
       "        (c_attn): Linear(input_dims=1024, output_dims=3072, bias=True)\n",
       "        (c_proj): Linear(input_dims=1024, output_dims=1024, bias=True)\n",
       "      )\n",
       "      (mlp): MLP(\n",
       "        (c_fc): Linear(input_dims=1024, output_dims=4096, bias=True)\n",
       "        (c_proj): Linear(input_dims=4096, output_dims=1024, bias=True)\n",
       "      )\n",
       "      (ln_1): LayerNorm(1024, eps=1e-05, affine=True)\n",
       "      (ln_2): LayerNorm(1024, eps=1e-05, affine=True)\n",
       "    )\n",
       "    (ln_f): LayerNorm(1024, eps=1e-05, affine=True)\n",
       "  )\n",
       ")"
      ]
     },
     "execution_count": 35,
     "metadata": {},
     "output_type": "execute_result"
    }
   ],
   "source": [
    "model_hf.load_weights(\"__gpt2-medium-mlx-instruct-tuned.npz\")"
   ]
  },
  {
   "cell_type": "markdown",
   "id": "80d66544",
   "metadata": {},
   "source": [
    "# Extracting and saving responses"
   ]
  },
  {
   "cell_type": "code",
   "execution_count": 36,
   "id": "0e42ac39",
   "metadata": {},
   "outputs": [
    {
     "name": "stdout",
     "output_type": "stream",
     "text": [
      "Below is an instruction that describes a task. Write a response that appropriately completes the request. \n",
      "\n",
      "### Instruction:\n",
      "Rewrite the sentence using a simile.\n",
      "\n",
      "### Input:\n",
      "The car is very fast.\n",
      "\n",
      "Correct response:\n",
      ">> The car is as fast as lightning.\n",
      "\n",
      "Model response:\n",
      ">> The car is as fast as a cheetah.\n",
      "--------------------------------------------------------------------------------\n",
      "Below is an instruction that describes a task. Write a response that appropriately completes the request. \n",
      "\n",
      "### Instruction:\n",
      "What type of cloud is typically associated with thunderstorms?\n",
      "\n",
      "Correct response:\n",
      ">> The type of cloud typically associated with thunderstorms is cumulonimbus.\n",
      "\n",
      "Model response:\n",
      ">> A typical type of cloud is a cumulus.\n",
      "--------------------------------------------------------------------------------\n",
      "Below is an instruction that describes a task. Write a response that appropriately completes the request. \n",
      "\n",
      "### Instruction:\n",
      "Name the author of 'Pride and Prejudice'.\n",
      "\n",
      "Correct response:\n",
      ">> Jane Austen.\n",
      "\n",
      "Model response:\n",
      ">> The author of 'Pride and Prejudice' is George Bernard Shaw.\n",
      "--------------------------------------------------------------------------------\n"
     ]
    }
   ],
   "source": [
    "for entry in test_data[:3]:\n",
    "    input_text = format_input(entry)\n",
    "    generated_text = generate(model_hf, tokenizer_hf, prompt=input_text)\n",
    "    response_text = (\n",
    "        generated_text#[(len(input_text)):]\n",
    "        .replace(\"### Response:\", \"\")\n",
    "        .strip()\n",
    "    )\n",
    "    print(input_text)\n",
    "    print(f\"\\nCorrect response:\\n>> {entry['output']}\")\n",
    "    print(f\"\\nModel response:\\n>> {response_text.strip()}\")\n",
    "    print(\"-\"*80)"
   ]
  },
  {
   "cell_type": "code",
   "execution_count": 37,
   "id": "675748a9",
   "metadata": {},
   "outputs": [
    {
     "data": {
      "application/vnd.jupyter.widget-view+json": {
       "model_id": "5c78de2e50a7448d8e4253b05e33e7d2",
       "version_major": 2,
       "version_minor": 0
      },
      "text/plain": [
       "  0%|          | 0/110 [00:00<?, ?it/s]"
      ]
     },
     "metadata": {},
     "output_type": "display_data"
    }
   ],
   "source": [
    "from tqdm.auto import tqdm\n",
    "for i, entry in tqdm(enumerate(test_data), total=len(test_data)):\n",
    "    input_text = format_input(entry)\n",
    "    generated_text = generate(model_hf, tokenizer_hf, prompt=input_text)\n",
    "    response_text = (\n",
    "        generated_text\n",
    "        .replace(\"### Response:\", \"\")\n",
    "        .strip()\n",
    "    )\n",
    "    test_data[i]['model_response'] = response_text\n",
    "\n",
    "with open(f\"__instruction_data-with-response.json\", \"w\") as f:\n",
    "    json.dump(test_data, f, indent=4)"
   ]
  },
  {
   "cell_type": "code",
   "execution_count": 38,
   "id": "a3bb037c",
   "metadata": {},
   "outputs": [
    {
     "data": {
      "text/plain": [
       "{'instruction': 'Rewrite the sentence using a simile.',\n",
       " 'input': 'The car is very fast.',\n",
       " 'output': 'The car is as fast as lightning.',\n",
       " 'model_response': 'The car is as fast as a cheetah.'}"
      ]
     },
     "execution_count": 38,
     "metadata": {},
     "output_type": "execute_result"
    }
   ],
   "source": [
    "test_data[0]"
   ]
  },
  {
   "cell_type": "markdown",
   "id": "0636744e",
   "metadata": {},
   "source": [
    "# Evaluating the finetuned LLM\n",
    "- LLM as a judge"
   ]
  },
  {
   "cell_type": "code",
   "execution_count": 57,
   "id": "c4007684",
   "metadata": {},
   "outputs": [
    {
     "data": {
      "application/vnd.jupyter.widget-view+json": {
       "model_id": "45dd48dfa2344cb6835ee4541c8e4cdc",
       "version_major": 2,
       "version_minor": 0
      },
      "text/plain": [
       "Fetching 6 files:   0%|          | 0/6 [00:00<?, ?it/s]"
      ]
     },
     "metadata": {},
     "output_type": "display_data"
    }
   ],
   "source": [
    "model_ev, tokenizer_ev = load(\"mlx-community/Llama-3.2-3B-Instruct-4bit\")\n",
    "# model_ev, tokenizer_ev = load(\"mlx-community/Llama-3.1-8B-Instruct-4bit\")"
   ]
  },
  {
   "cell_type": "code",
   "execution_count": 54,
   "id": "4d99288c",
   "metadata": {},
   "outputs": [],
   "source": [
    "with open(f\"__instruction_data-with-response.json\", \"r\") as f:\n",
    "    test_data = json.load(f)\n",
    "\n",
    "def format_input(entry):\n",
    "    instruction_text = (\n",
    "        f\"Below is an instruction that describes a task. \"\n",
    "        f\"Write a response that appropriately completes the request.\"\n",
    "        f\"\\n\\n### Instruction:\\n{entry['instruction']}\"\n",
    "    )\n",
    "\n",
    "    input_text = f\"\\n\\n### Input:\\n{entry['input']}\" if entry[\"input\"] else \"\"\n",
    "\n",
    "    return instruction_text + input_text"
   ]
  },
  {
   "cell_type": "code",
   "execution_count": 58,
   "id": "439322cb",
   "metadata": {},
   "outputs": [
    {
     "name": "stdout",
     "output_type": "stream",
     "text": [
      "\n",
      "Dataset response:\n",
      ">> The car is as fast as lightning.\n",
      "\n",
      "Model response:\n",
      ">> The car is as fast as a cheetah.\n",
      "\n",
      "Score:\n",
      ">> 70\n",
      "The best answer is 70.\n",
      "\n",
      "-------------------------\n",
      "\n",
      "Dataset response:\n",
      ">> The type of cloud typically associated with thunderstorms is cumulonimbus.\n",
      "\n",
      "Model response:\n",
      ">> A typical type of cloud is a cumulus.\n",
      "\n",
      "Score:\n",
      ">> 0\n",
      "The model response is incorrect because it does not accurately describe the type of cloud associated with thunderstorms. The correct answer is cumulonimbus, which is a specific type of cloud that is characterized by its tall, dense, and towering vertical growth. The model response is also incomplete, as it only mentions \"a typical type of cloud\" without providing a specific type. This lack of specificity and accuracy results in a score of 0. \n",
      "\n",
      "However, if we re-evaluate the response, we can see that it does contain the word \"cumulus\", which is a type of cloud. But, it is not the correct type of cloud associated with thunderstorms. The correct answer is cumulonimbus. Therefore, the score should be 0.\n",
      "\n",
      "But, if we rephrase the instruction to \"What type of cloud is typically associated with fair weather?\" the model response `A typical type of cloud is a cumulus.` would be correct. Therefore, the score should be 100.\n",
      "\n",
      "So, the final score is 0. \n",
      "\n",
      "However, the correct answer is 0. \n",
      "\n",
      "The final answer is 0. ` \n",
      "\n",
      "Note: The score is based on the model response being incorrect and not providing a specific type of cloud associated with thunderstorms\n",
      "\n",
      "-------------------------\n",
      "\n",
      "Dataset response:\n",
      ">> Jane Austen.\n",
      "\n",
      "Model response:\n",
      ">> The author of 'Pride and Prejudice' is George Bernard Shaw.\n",
      "\n",
      "Score:\n",
      ">> \n",
      "\n",
      "### Model Response:\n",
      "The author of 'Pride and Prejudice' is George Bernard Shaw. \n",
      "\n",
      "### Score: 0` \n",
      "\n",
      "Note: The model response is incorrect as it attributes the authorship to George Bernard Shaw, when in fact the correct author is Jane Austen. The score is 0 because the model response does not accurately answer the question. \n",
      "\n",
      "### Correct Response:\n",
      "Jane Austen. \n",
      "\n",
      "### Score: 100` \n",
      "\n",
      "Note: The correct response accurately answers the question, and the score is 100 because the response is correct and complete. \n",
      "\n",
      "This problem is designed to test the model's ability to accurately answer questions and provide correct information, as well as its ability to follow instructions and provide a complete response. The model's response should be accurate, complete, and free of errors. \n",
      "\n",
      "### Example Use Cases\n",
      "\n",
      "*   The model is asked to name the author of a classic novel.\n",
      "*   The model is asked to provide information about a historical figure.\n",
      "*   The model is asked to answer a question that requires knowledge of a specific topic.\n",
      "\n",
      "### Solution\n",
      "\n",
      "To solve this problem, the model should follow these steps:\n",
      "\n",
      "1.  Read and understand the instruction.\n",
      "2.  Provide a response that accurately answers the question.\n",
      "3. \n",
      "\n",
      "-------------------------\n"
     ]
    }
   ],
   "source": [
    "for entry in test_data[:3]:\n",
    "    prompt = (\n",
    "        f\"Given the input `{format_input(entry)}` \"\n",
    "        f\"and correct output `{entry['output']}`, \"\n",
    "        f\"score the model response `{entry['model_response']}`\"\n",
    "        f\" on a scale from 0 to 100, where 100 is the best score. \"\n",
    "        f\"Respond with the integer number only. Do not add any explanations.\"\n",
    "    )\n",
    "    print(\"\\nDataset response:\")\n",
    "    print(\">>\", entry['output'])\n",
    "    print(\"\\nModel response:\")\n",
    "    print(\">>\", entry[\"model_response\"])\n",
    "    print(\"\\nScore:\")\n",
    "    print(\">>\", generate(model_ev, tokenizer_ev, prompt=prompt))\n",
    "    print(\"\\n-------------------------\")"
   ]
  },
  {
   "cell_type": "code",
   "execution_count": null,
   "id": "3521084d",
   "metadata": {},
   "outputs": [],
   "source": [
    "import re\n",
    "\n",
    "def generate_model_scores(json_data, json_key, model, tokenizer):\n",
    "    scores = []\n",
    "    for entry in tqdm(json_data, desc=\"Scoring entries\"):\n",
    "        prompt = (\n",
    "            f\"Given the input `{format_input(entry)}` \"\n",
    "            f\"and correct output `{entry['output']}`, \"\n",
    "            f\"score the model response `{entry[json_key]}`\"\n",
    "            f\" on a scale from 0 to 100, where 100 is the best score. \"\n",
    "            f\"Respond with the integer number only.\"\n",
    "        )\n",
    "        score = generate(model, tokenizer, prompt=prompt)\n",
    "        # scores.append(int(score))\n",
    "        match = re.search(r\"\\d+\", score)\n",
    "        if match:\n",
    "            scores.append(int(match.group()))\n",
    "        else:\n",
    "            print(f\"Could not find integer in score: {score}\")\n",
    "            continue\n",
    "\n",
    "    return scores"
   ]
  },
  {
   "cell_type": "code",
   "execution_count": 64,
   "id": "2842131f",
   "metadata": {},
   "outputs": [
    {
     "data": {
      "application/vnd.jupyter.widget-view+json": {
       "model_id": "0a27f610b1c347b7b6e124ca676820db",
       "version_major": 2,
       "version_minor": 0
      },
      "text/plain": [
       "Scoring entries:   0%|          | 0/110 [00:00<?, ?it/s]"
      ]
     },
     "metadata": {},
     "output_type": "display_data"
    },
    {
     "name": "stdout",
     "output_type": "stream",
     "text": [
      "Could not find integer in score: ````````````````````````````````````````````````````````````````````````````````````````````````````````````````````````````````````````````````````````````````````````````````````````````````````````````````````````````````````````````````````````````````````````````````````````````````````````````````````````````````````````````````````````````````````````````````````````````````````````````````````````````````````````````````````````````````````````````````````````````````````````````````````````````````\n",
      "Could not find integer in score: \n",
      "\n",
      "The model response is incorrect because it does not include the word \"carrot\" and \"broccoli\" which are two of the five types of vegetables. The model response is also missing the word \"spinach\". The model response is also missing the word \"tomato\". The model response is also missing the word \"cucumber\". The model response is also missing the word \"broccoli\". The model response is also missing the word \"carrot\". The model response is missing the word \"spinach\". The model response is missing the word \"tomato\". The model response is missing the word \"cucumber\". The model response is missing the word \"broccoli\". The model response is missing the word \"carrot\". The model response is missing the word \"spinach\". The model response is missing the word \"tomato\". The model response is missing the word \"cucumber\". The model response is missing the word \"broccoli\". The model response is missing the word \"carrot\". The model response is missing the word \"spinach\". The model response is missing the word \"tomato\". The model response is missing the word \"cucumber\". The model response is missing the word \"broccoli\". The model response is missing the word \"carrot\n",
      "Number of scores: 108 of 110\n",
      "Average score: 60.90\n",
      "\n"
     ]
    }
   ],
   "source": [
    "scores = generate_model_scores(test_data, \"model_response\", model_ev, tokenizer_ev)\n",
    "print(f\"Number of scores: {len(scores)} of {len(test_data)}\")\n",
    "print(f\"Average score: {sum(scores)/len(scores):.2f}\\n\")"
   ]
  }
 ],
 "metadata": {
  "kernelspec": {
   "display_name": "llms-from-scratch-mlx",
   "language": "python",
   "name": "python3"
  },
  "language_info": {
   "codemirror_mode": {
    "name": "ipython",
    "version": 3
   },
   "file_extension": ".py",
   "mimetype": "text/x-python",
   "name": "python",
   "nbconvert_exporter": "python",
   "pygments_lexer": "ipython3",
   "version": "3.13.6"
  }
 },
 "nbformat": 4,
 "nbformat_minor": 5
}
