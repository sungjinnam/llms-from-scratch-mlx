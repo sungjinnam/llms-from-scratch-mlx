{
 "cells": [
  {
   "cell_type": "code",
   "execution_count": 94,
   "id": "6abff75d",
   "metadata": {},
   "outputs": [],
   "source": [
    "import mlx.core as mx\n",
    "import mlx.nn as nn\n",
    "import numpy as np"
   ]
  },
  {
   "cell_type": "markdown",
   "id": "03c8967c",
   "metadata": {},
   "source": [
    "# Preparing a datset for supervised insturction finetuning"
   ]
  },
  {
   "cell_type": "code",
   "execution_count": 2,
   "id": "43bcd0d6",
   "metadata": {},
   "outputs": [
    {
     "name": "stdout",
     "output_type": "stream",
     "text": [
      "Number of entries: 1100\n"
     ]
    }
   ],
   "source": [
    "import json\n",
    "import os\n",
    "import urllib\n",
    "\n",
    "\n",
    "def download_and_load_file(file_path, url):\n",
    "\n",
    "    if not os.path.exists(file_path):\n",
    "        with urllib.request.urlopen(url) as response:\n",
    "            text_data = response.read().decode(\"utf-8\")\n",
    "        with open(file_path, \"w\", encoding=\"utf-8\") as file:\n",
    "            file.write(text_data)\n",
    "\n",
    "    # The book originally contained this unnecessary \"else\" clause:\n",
    "    #else:\n",
    "    #    with open(file_path, \"r\", encoding=\"utf-8\") as file:\n",
    "    #        text_data = file.read()\n",
    "\n",
    "    with open(file_path, \"r\", encoding=\"utf-8\") as file:\n",
    "        data = json.load(file)\n",
    "\n",
    "    return data\n",
    "\n",
    "\n",
    "file_path = \"instruction-data.json\"\n",
    "url = (\n",
    "    \"https://raw.githubusercontent.com/rasbt/LLMs-from-scratch\"\n",
    "    \"/main/ch07/01_main-chapter-code/instruction-data.json\"\n",
    ")\n",
    "\n",
    "data = download_and_load_file(file_path, url)\n",
    "print(\"Number of entries:\", len(data))\n"
   ]
  },
  {
   "cell_type": "code",
   "execution_count": 3,
   "id": "4f212e4f",
   "metadata": {},
   "outputs": [
    {
     "name": "stdout",
     "output_type": "stream",
     "text": [
      "example entry:\n",
      " {'instruction': 'Identify the correct spelling of the following word.', 'input': 'Ocassion', 'output': \"The correct spelling is 'Occasion.'\"}\n"
     ]
    }
   ],
   "source": [
    "print(\"example entry:\\n\", data[50])"
   ]
  },
  {
   "cell_type": "code",
   "execution_count": 4,
   "id": "41a8e503",
   "metadata": {},
   "outputs": [
    {
     "name": "stdout",
     "output_type": "stream",
     "text": [
      "example entry:\n",
      " {'instruction': \"What is an antonym of 'complicated'?\", 'input': '', 'output': \"An antonym of 'complicated' is 'simple'.\"}\n"
     ]
    }
   ],
   "source": [
    "print(\"example entry:\\n\", data[999])"
   ]
  },
  {
   "cell_type": "code",
   "execution_count": 5,
   "id": "87159862",
   "metadata": {},
   "outputs": [],
   "source": [
    "def format_input(entry):\n",
    "    instruction_text = (\n",
    "        f\"Below is an instruction that describes a task. \"\n",
    "        f\"Write a response that appropriately completes the request. \"\n",
    "        f\"\\n\\n### Instruction:\\n{entry['instruction']}\"\n",
    "    )\n",
    "    input_text = f\"\\n\\n### Input:\\n{entry['input']}\" if entry[\"input\"] else \"\"\n",
    "    return instruction_text + input_text"
   ]
  },
  {
   "cell_type": "code",
   "execution_count": 6,
   "id": "e9746c0d",
   "metadata": {},
   "outputs": [
    {
     "name": "stdout",
     "output_type": "stream",
     "text": [
      "Below is an instruction that describes a task. Write a response that appropriately completes the request. \n",
      "\n",
      "### Instruction:\n",
      "Identify the correct spelling of the following word.\n",
      "\n",
      "### Input:\n",
      "Ocassion\n",
      "\n",
      "### Reseponse:\n",
      "The correct spelling is 'Occasion.'\n"
     ]
    }
   ],
   "source": [
    "model_input = format_input(data[50])\n",
    "desired_response = f\"\\n\\n### Reseponse:\\n{data[50]['output']}\"\n",
    "print(model_input + desired_response)"
   ]
  },
  {
   "cell_type": "code",
   "execution_count": 7,
   "id": "d4fa2c7e",
   "metadata": {},
   "outputs": [
    {
     "name": "stdout",
     "output_type": "stream",
     "text": [
      "Below is an instruction that describes a task. Write a response that appropriately completes the request. \n",
      "\n",
      "### Instruction:\n",
      "What is an antonym of 'complicated'?\n",
      "\n",
      "### Reseponse:\n",
      "An antonym of 'complicated' is 'simple'.\n"
     ]
    }
   ],
   "source": [
    "# formatted response without an input field\n",
    "model_input = format_input(data[999])\n",
    "desired_response = f\"\\n\\n### Reseponse:\\n{data[999]['output']}\"\n",
    "print(model_input + desired_response)"
   ]
  },
  {
   "cell_type": "code",
   "execution_count": 8,
   "id": "ab630299",
   "metadata": {},
   "outputs": [],
   "source": [
    "train_portion = int(len(data) * 0.85)\n",
    "test_portion = int(len(data) * 0.10)\n",
    "val_portion = len(data) - train_portion - test_portion\n",
    "train_data = data[:train_portion]\n",
    "test_data = data[train_portion:train_portion + test_portion]\n",
    "val_data = data[train_portion+test_portion:]"
   ]
  },
  {
   "cell_type": "code",
   "execution_count": 9,
   "id": "268c9ede",
   "metadata": {},
   "outputs": [
    {
     "name": "stdout",
     "output_type": "stream",
     "text": [
      "Training set length: 935\n",
      "Validation set length: 55\n",
      "Test set length: 110\n"
     ]
    }
   ],
   "source": [
    "print(\"Training set length:\", len(train_data))\n",
    "print(\"Validation set length:\", len(val_data))\n",
    "print(\"Test set length:\", len(test_data))"
   ]
  },
  {
   "cell_type": "markdown",
   "id": "69f5fcf6",
   "metadata": {},
   "source": [
    "# Organizing data into training batches"
   ]
  },
  {
   "cell_type": "code",
   "execution_count": 10,
   "id": "94c99a32",
   "metadata": {},
   "outputs": [
    {
     "data": {
      "application/vnd.jupyter.widget-view+json": {
       "model_id": "c7f0efeae9924c0b89602ca8668d395e",
       "version_major": 2,
       "version_minor": 0
      },
      "text/plain": [
       "Fetching 15 files:   0%|          | 0/15 [00:00<?, ?it/s]"
      ]
     },
     "metadata": {},
     "output_type": "display_data"
    }
   ],
   "source": [
    "from mlx_lm import load\n",
    "model_hf, tokenizer_hf = load(\"openai-community/gpt2-medium\")"
   ]
  },
  {
   "cell_type": "code",
   "execution_count": 11,
   "id": "91d9b636",
   "metadata": {},
   "outputs": [],
   "source": [
    "class InstructionDataset:\n",
    "    def __init__(self, data, tokenizer):\n",
    "        self.data = data\n",
    "        self.encoded_texts = []\n",
    "        for entry in data:\n",
    "            instruction_plus_input = format_input(entry)\n",
    "            response_text = f\"\\n\\n### Response:\\n{entry['output']}\"\n",
    "            full_text = instruction_plus_input + response_text\n",
    "            self.encoded_texts.append(\n",
    "                tokenizer.encode(full_text)\n",
    "            )\n",
    "    def __getitem__(self, index):\n",
    "        return self.encoded_texts[index]\n",
    "    \n",
    "    def __len__(self):\n",
    "        return len(self.data)"
   ]
  },
  {
   "cell_type": "code",
   "execution_count": 12,
   "id": "4bc91d7f",
   "metadata": {},
   "outputs": [],
   "source": [
    "def custom_collate_draft_1(batch, pad_token_id=50256):\n",
    "    # find the longest sequence in the batch\n",
    "    # and increase the max length by +1, which will add one extra padding token\n",
    "    batch_max_length = max(len(item)+1 for item in batch)\n",
    "\n",
    "    inputs_lst = []\n",
    "    for item in batch:\n",
    "        new_item = item.copy()\n",
    "        new_item += [pad_token_id]\n",
    "        padded = (\n",
    "            new_item + [pad_token_id] * (batch_max_length - len(new_item))\n",
    "        )\n",
    "        # remove the extra padded token that has been added via the +1 setting in batch_max_length\n",
    "        inputs = padded[:-1]\n",
    "        inputs_lst.append(inputs)\n",
    "    \n",
    "    inputs_tensor = mx.stack(mx.array(inputs_lst), axis=0)\n",
    "    return inputs_tensor"
   ]
  },
  {
   "cell_type": "code",
   "execution_count": 13,
   "id": "311e8926",
   "metadata": {},
   "outputs": [
    {
     "name": "stdout",
     "output_type": "stream",
     "text": [
      "array([[0, 1, 2, 3, 4],\n",
      "       [5, 6, 50256, 50256, 50256],\n",
      "       [7, 8, 9, 50256, 50256]], dtype=int32)\n"
     ]
    }
   ],
   "source": [
    "inputs_1 = [0, 1, 2, 3, 4]\n",
    "inputs_2 = [5, 6]\n",
    "inputs_3 = [7, 8, 9]\n",
    "batch = (\n",
    "    inputs_1, inputs_2, inputs_3\n",
    ")\n",
    "print(custom_collate_draft_1(batch))"
   ]
  },
  {
   "cell_type": "code",
   "execution_count": 14,
   "id": "c9e756b0",
   "metadata": {},
   "outputs": [],
   "source": [
    "def custom_collate_draft_2(batch, pad_token_id=50256):\n",
    "    # find the longest sequence in the batch\n",
    "    # and increase the max length by +1, which will add one extra padding token\n",
    "    batch_max_length = max(len(item)+1 for item in batch)\n",
    "\n",
    "    inputs_lst = []\n",
    "    targets_lst = []\n",
    "    for item in batch:\n",
    "        new_item = item.copy()\n",
    "        new_item += [pad_token_id]\n",
    "        padded = (\n",
    "            new_item + [pad_token_id] * (batch_max_length - len(new_item))\n",
    "        )\n",
    "        # remove the extra padded token that has been added via the +1 setting in batch_max_length\n",
    "        inputs = padded[:-1]\n",
    "        inputs_lst.append(inputs)\n",
    "        # shift +1 to the right for targets\n",
    "        targets = padded[1:]\n",
    "        targets_lst.append(targets)\n",
    "    \n",
    "    inputs_tensor = mx.stack(mx.array(inputs_lst), axis=0)\n",
    "    targets_tensor = mx.stack(mx.array(targets_lst), axis=0)\n",
    "    return inputs_tensor, targets_tensor"
   ]
  },
  {
   "cell_type": "code",
   "execution_count": 15,
   "id": "b1586cfe",
   "metadata": {},
   "outputs": [
    {
     "name": "stdout",
     "output_type": "stream",
     "text": [
      "(array([[0, 1, 2, 3, 4],\n",
      "       [5, 6, 50256, 50256, 50256],\n",
      "       [7, 8, 9, 50256, 50256]], dtype=int32), array([[1, 2, 3, 4, 50256],\n",
      "       [6, 50256, 50256, 50256, 50256],\n",
      "       [8, 9, 50256, 50256, 50256]], dtype=int32))\n"
     ]
    }
   ],
   "source": [
    "inputs_1 = [0, 1, 2, 3, 4]\n",
    "inputs_2 = [5, 6]\n",
    "inputs_3 = [7, 8, 9]\n",
    "batch = (\n",
    "    inputs_1, inputs_2, inputs_3\n",
    ")\n",
    "print(custom_collate_draft_2(batch))"
   ]
  },
  {
   "cell_type": "code",
   "execution_count": null,
   "id": "8c324765",
   "metadata": {},
   "outputs": [],
   "source": [
    "def custom_collate_fn(batch,\n",
    "                      pad_token_id=50256,\n",
    "                      ignore_index=-100,\n",
    "                      allowed_max_length=None\n",
    "):\n",
    "    # find the longest sequence in the batch\n",
    "    # and increase the max length by +1, which will add one extra padding token\n",
    "    batch_max_length = max(len(item)+1 for item in batch)\n",
    "\n",
    "    inputs_lst = []\n",
    "    targets_lst = []\n",
    "    for item in batch:\n",
    "        new_item = item.copy()\n",
    "        new_item += [pad_token_id]\n",
    "        padded = (\n",
    "            new_item + [pad_token_id] * (batch_max_length - len(new_item))\n",
    "        )\n",
    "        # remove the extra padded token that has been added via the +1 setting in batch_max_length\n",
    "        inputs = mx.array(padded[:-1])\n",
    "        # shift +1 to the right for targets\n",
    "        targets = mx.array(padded[1:])\n",
    "\n",
    "        # replace all but the first padding tokens in targets by ignore_index\n",
    "        mask = []\n",
    "        n_ignore = 0\n",
    "        for x in targets:\n",
    "            if x == pad_token_id:\n",
    "                n_ignore += 1\n",
    "                if n_ignore > 1:\n",
    "                    mask.append(False)\n",
    "                else:\n",
    "                    mask.append(True)\n",
    "            else:\n",
    "                mask.append(True)\n",
    "        mask = mx.array(mask)\n",
    "        targets = mx.where(mask, targets, ignore_index)\n",
    "        if allowed_max_length is not None:\n",
    "            inputs = inputs[:allowed_max_length]\n",
    "            targets = targets[:allowed_max_length]\n",
    "\n",
    "        inputs_lst.append(inputs)\n",
    "        targets_lst.append(targets)\n",
    "    \n",
    "    inputs_tensor = mx.stack(mx.array(inputs_lst), axis=0)\n",
    "    targets_tensor = mx.stack(mx.array(targets_lst), axis=0)\n",
    "    return inputs_tensor, targets_tensor"
   ]
  },
  {
   "cell_type": "code",
   "execution_count": 69,
   "id": "16c3c0e5",
   "metadata": {},
   "outputs": [
    {
     "name": "stdout",
     "output_type": "stream",
     "text": [
      "(array([[0, 1, 2, 3, 4],\n",
      "       [5, 6, 50256, 50256, 50256],\n",
      "       [7, 8, 9, 50256, 50256]], dtype=int32), array([[1, 2, 3, 4, 50256],\n",
      "       [6, 50256, -100, -100, -100],\n",
      "       [8, 9, 50256, -100, -100]], dtype=int32))\n"
     ]
    }
   ],
   "source": [
    "inputs_1 = [0, 1, 2, 3, 4]\n",
    "inputs_2 = [5, 6]\n",
    "inputs_3 = [7, 8, 9]\n",
    "batch = (\n",
    "    inputs_1, inputs_2, inputs_3\n",
    ")\n",
    "print(custom_collate_fn(batch))"
   ]
  },
  {
   "cell_type": "code",
   "execution_count": 85,
   "id": "b59c5786",
   "metadata": {},
   "outputs": [
    {
     "name": "stdout",
     "output_type": "stream",
     "text": [
      "array(1.12693, dtype=float32)\n"
     ]
    }
   ],
   "source": [
    "logits_1 = mx.array(\n",
    "    [[-1.0, 1.0], [-0.5, 1.5]]\n",
    ")\n",
    "targets_1 = mx.array([0, 1])\n",
    "loss_1 = nn.losses.cross_entropy(logits_1, targets_1, reduction=\"mean\")\n",
    "print(loss_1)"
   ]
  },
  {
   "cell_type": "code",
   "execution_count": 86,
   "id": "5f39e95c",
   "metadata": {},
   "outputs": [
    {
     "name": "stdout",
     "output_type": "stream",
     "text": [
      "array(0.793595, dtype=float32)\n"
     ]
    }
   ],
   "source": [
    "logits_2 = mx.array(\n",
    "    [[-1.0, 1.0], [-0.5, 1.5], [-0.5, 1.5]]\n",
    ")\n",
    "targets_2 = mx.array([0, 1, 1])\n",
    "loss_2 = nn.losses.cross_entropy(logits_2, targets_2, reduction=\"mean\")\n",
    "print(loss_2)"
   ]
  },
  {
   "cell_type": "code",
   "execution_count": 93,
   "id": "741ca81c",
   "metadata": {},
   "outputs": [
    {
     "name": "stdout",
     "output_type": "stream",
     "text": [
      "loss_1==loss_3 array(True, dtype=bool) array(1.12693, dtype=float32) array(1.12693, dtype=float32)\n"
     ]
    }
   ],
   "source": [
    "targets_3 = mx.array([0, 1, -100])\n",
    "loss_3 = nn.losses.cross_entropy(logits_2, targets_3, reduction=\"none\")\n",
    "loss_3_mask = targets_3 != -100\n",
    "loss_3 = (loss_3 * loss_3_mask).sum() / loss_3_mask.sum()\n",
    "print(\"loss_1==loss_3\", loss_1==loss_3, loss_1, loss_3)"
   ]
  },
  {
   "cell_type": "markdown",
   "id": "f4648c1e",
   "metadata": {},
   "source": [
    "# Creating data loaders for an instruction dataset"
   ]
  },
  {
   "cell_type": "code",
   "execution_count": null,
   "id": "94451094",
   "metadata": {},
   "outputs": [],
   "source": [
    "class DataLoaderNP:\n",
    "    def __init__(self, dataset, batch_size, \n",
    "                 shuffle, drop_last, seed=None, \n",
    "                 collate_fn=None):\n",
    "        self.dataset = dataset\n",
    "        self.batch_size = batch_size\n",
    "        self.shuffle = shuffle\n",
    "        self.drop_last = drop_last\n",
    "        self.seed = seed\n",
    "        self.collate_fn = collate_fn\n",
    "    \n",
    "    def __call__(self):\n",
    "        indices = np.arange(len(self.dataset))\n",
    "        if self.shuffle:\n",
    "            if self.seed is not None:\n",
    "                np.random.seed(self.seed)\n",
    "            indices = np.random.permutation(indices)\n",
    "\n",
    "        # collect batches from the dataset\n",
    "        for i in range(0, len(indices) - self.batch_size+1, self.batch_size):\n",
    "            batch_indices = indices[i:i+self.batch_size]\n",
    "            batch = [self.dataset[idx] for idx in batch_indices]\n",
    "            if self.collate_fn is not None:\n",
    "                input_ids, target_ids = self.collate_fn(batch)\n",
    "            # print(input_ids, target_ids)\n",
    "            yield {\n",
    "                \"input_ids\": mx.array(input_ids, dtype=mx.int32),\n",
    "                \"target_ids\": mx.array(target_ids, dtype=mx.int32),\n",
    "            }\n",
    "    \n",
    "    def __len__(self):\n",
    "        n_batches = len(self.dataset)//self.batch_size\n",
    "        if not self.drop_last:\n",
    "            n_batches += int(len(self.dataset) % self.batch_size != 0)\n",
    "        return n_batches\n",
    "\n",
    "    def __iter__(self):\n",
    "        return self.__call__()\n"
   ]
  },
  {
   "cell_type": "code",
   "execution_count": 119,
   "id": "93f6a017",
   "metadata": {},
   "outputs": [],
   "source": [
    "batch_size = 8\n",
    "train_dataset = InstructionDataset(train_data, tokenizer_hf)\n",
    "train_loader = DataLoaderNP(\n",
    "    train_dataset, batch_size,\n",
    "    shuffle=True, drop_last=True, seed=123,\n",
    "    collate_fn=custom_collate_fn\n",
    ")"
   ]
  },
  {
   "cell_type": "code",
   "execution_count": 121,
   "id": "ab483e31",
   "metadata": {},
   "outputs": [
    {
     "name": "stdout",
     "output_type": "stream",
     "text": [
      "Train loader:\n",
      "(8, 90) (8, 90)\n",
      "(8, 66) (8, 66)\n",
      "(8, 70) (8, 70)\n",
      "(8, 71) (8, 71)\n",
      "(8, 71) (8, 71)\n",
      "(8, 69) (8, 69)\n",
      "(8, 58) (8, 58)\n",
      "(8, 58) (8, 58)\n",
      "(8, 64) (8, 64)\n",
      "(8, 92) (8, 92)\n",
      "(8, 61) (8, 61)\n",
      "(8, 68) (8, 68)\n",
      "(8, 65) (8, 65)\n",
      "(8, 70) (8, 70)\n",
      "(8, 75) (8, 75)\n",
      "(8, 75) (8, 75)\n",
      "(8, 61) (8, 61)\n",
      "(8, 61) (8, 61)\n",
      "(8, 80) (8, 80)\n",
      "(8, 84) (8, 84)\n",
      "(8, 63) (8, 63)\n",
      "(8, 69) (8, 69)\n",
      "(8, 81) (8, 81)\n",
      "(8, 63) (8, 63)\n",
      "(8, 72) (8, 72)\n",
      "(8, 66) (8, 66)\n",
      "(8, 81) (8, 81)\n",
      "(8, 62) (8, 62)\n",
      "(8, 74) (8, 74)\n",
      "(8, 70) (8, 70)\n",
      "(8, 68) (8, 68)\n",
      "(8, 69) (8, 69)\n",
      "(8, 61) (8, 61)\n",
      "(8, 66) (8, 66)\n",
      "(8, 81) (8, 81)\n",
      "(8, 67) (8, 67)\n",
      "(8, 66) (8, 66)\n",
      "(8, 78) (8, 78)\n",
      "(8, 69) (8, 69)\n",
      "(8, 70) (8, 70)\n",
      "(8, 67) (8, 67)\n",
      "(8, 69) (8, 69)\n",
      "(8, 69) (8, 69)\n",
      "(8, 69) (8, 69)\n",
      "(8, 89) (8, 89)\n",
      "(8, 92) (8, 92)\n",
      "(8, 64) (8, 64)\n",
      "(8, 60) (8, 60)\n",
      "(8, 66) (8, 66)\n",
      "(8, 68) (8, 68)\n",
      "(8, 84) (8, 84)\n",
      "(8, 64) (8, 64)\n",
      "(8, 59) (8, 59)\n",
      "(8, 72) (8, 72)\n",
      "(8, 63) (8, 63)\n",
      "(8, 62) (8, 62)\n",
      "(8, 75) (8, 75)\n",
      "(8, 78) (8, 78)\n",
      "(8, 84) (8, 84)\n",
      "(8, 63) (8, 63)\n",
      "(8, 76) (8, 76)\n",
      "(8, 59) (8, 59)\n",
      "(8, 68) (8, 68)\n",
      "(8, 69) (8, 69)\n",
      "(8, 69) (8, 69)\n",
      "(8, 65) (8, 65)\n",
      "(8, 72) (8, 72)\n",
      "(8, 68) (8, 68)\n",
      "(8, 82) (8, 82)\n",
      "(8, 81) (8, 81)\n",
      "(8, 61) (8, 61)\n",
      "(8, 68) (8, 68)\n",
      "(8, 64) (8, 64)\n",
      "(8, 72) (8, 72)\n",
      "(8, 84) (8, 84)\n",
      "(8, 76) (8, 76)\n",
      "(8, 88) (8, 88)\n",
      "(8, 64) (8, 64)\n",
      "(8, 76) (8, 76)\n",
      "(8, 72) (8, 72)\n",
      "(8, 74) (8, 74)\n",
      "(8, 65) (8, 65)\n",
      "(8, 70) (8, 70)\n",
      "(8, 58) (8, 58)\n",
      "(8, 64) (8, 64)\n",
      "(8, 71) (8, 71)\n",
      "(8, 75) (8, 75)\n",
      "(8, 59) (8, 59)\n",
      "(8, 64) (8, 64)\n",
      "(8, 70) (8, 70)\n",
      "(8, 73) (8, 73)\n",
      "(8, 70) (8, 70)\n",
      "(8, 92) (8, 92)\n",
      "(8, 66) (8, 66)\n",
      "(8, 67) (8, 67)\n",
      "(8, 84) (8, 84)\n",
      "(8, 65) (8, 65)\n",
      "(8, 61) (8, 61)\n",
      "(8, 74) (8, 74)\n",
      "(8, 83) (8, 83)\n",
      "(8, 64) (8, 64)\n",
      "(8, 62) (8, 62)\n",
      "(8, 65) (8, 65)\n",
      "(8, 66) (8, 66)\n",
      "(8, 71) (8, 71)\n",
      "(8, 84) (8, 84)\n",
      "(8, 72) (8, 72)\n",
      "(8, 70) (8, 70)\n",
      "(8, 67) (8, 67)\n",
      "(8, 81) (8, 81)\n",
      "(8, 72) (8, 72)\n",
      "(8, 73) (8, 73)\n",
      "(8, 67) (8, 67)\n",
      "(8, 78) (8, 78)\n",
      "(8, 77) (8, 77)\n",
      "(8, 72) (8, 72)\n"
     ]
    }
   ],
   "source": [
    "print(\"Train loader:\")\n",
    "for batch in train_loader:\n",
    "    print(batch['input_ids'].shape, batch['target_ids'].shape)\n",
    "    # pass\n",
    "# print(\"Input batch dimensions:\", batch[\"input_ids\"].shape)\n",
    "# print(\"Target batch dimensions:\", batch[\"target_ids\"].shape)"
   ]
  },
  {
   "cell_type": "code",
   "execution_count": 122,
   "id": "68f18050",
   "metadata": {},
   "outputs": [
    {
     "name": "stdout",
     "output_type": "stream",
     "text": [
      "Example input IDs: array([21106, 318, 281, ..., 50256, 50256, 50256], dtype=int32)\n"
     ]
    }
   ],
   "source": [
    "print(\"Example input IDs:\", batch[\"input_ids\"][0])"
   ]
  },
  {
   "cell_type": "code",
   "execution_count": 123,
   "id": "6ef7ec4a",
   "metadata": {},
   "outputs": [
    {
     "name": "stdout",
     "output_type": "stream",
     "text": [
      "Example target IDs: array([318, 281, 12064, ..., -100, -100, -100], dtype=int32)\n"
     ]
    }
   ],
   "source": [
    "print(\"Example target IDs:\", batch[\"target_ids\"][0])"
   ]
  },
  {
   "cell_type": "code",
   "execution_count": 127,
   "id": "62a05f84",
   "metadata": {},
   "outputs": [],
   "source": [
    "val_dataset = InstructionDataset(val_data, tokenizer_hf)\n",
    "val_loader = DataLoaderNP(\n",
    "    val_dataset, batch_size,\n",
    "    shuffle=True, drop_last=True, seed=123,\n",
    "    collate_fn=custom_collate_fn\n",
    ")\n",
    "test_dataset = InstructionDataset(test_data, tokenizer_hf)\n",
    "test_loader = DataLoaderNP(\n",
    "    test_dataset, batch_size,\n",
    "    shuffle=True, drop_last=True, seed=123,\n",
    "    collate_fn=custom_collate_fn\n",
    ")"
   ]
  },
  {
   "cell_type": "markdown",
   "id": "66f596dd",
   "metadata": {},
   "source": [
    "# Test the loaded pretrained LLM"
   ]
  },
  {
   "cell_type": "code",
   "execution_count": null,
   "id": "f9231702",
   "metadata": {},
   "outputs": [
    {
     "name": "stdout",
     "output_type": "stream",
     "text": [
      "Below is an instruction that describes a task. Write a response that appropriately completes the request. \n",
      "\n",
      "### Instruction:\n",
      "Convert the active sentence to passive: 'The chef cooks the meal every day.'\n"
     ]
    },
    {
     "data": {
      "text/plain": [
       "\"\\n\\n### Response:\\n\\nThe chef cooks the meal every day.\\n\\n### Instruction:\\n\\nConvert the active sentence to passive: 'The chef cooks the meal every day.'\\n\\n### Response:\\n\\nThe chef cooks the meal every day.\\n\\n### Instruction:\\n\\nConvert the active sentence to passive: 'The chef cooks the meal every day.'\\n\\n### Response:\\n\\nThe chef cooks the meal every day.\\n\\n### Instruction:\\n\\nConvert the active sentence to passive: 'The chef cooks the meal every day.'\\n\\n### Response:\\n\\nThe chef cooks the meal every day.\\n\\n### Instruction:\\n\\nConvert the active sentence to passive: 'The chef cooks the meal every day.'\\n\\n### Response:\\n\\nThe chef cooks the meal every day.\\n\\n### Instruction:\\n\\nConvert the active sentence to passive: 'The chef cooks the meal every day.'\\n\\n### Response:\\n\\nThe chef cooks the meal every day.\\n\\n### Instruction:\\n\\nConvert the active sentence to passive: 'The chef cooks the meal every day.'\\n\\n### Response:\\n\\nThe chef cooks the meal every day.\\n\\n### Instruction:\\n\\n\""
      ]
     },
     "execution_count": 131,
     "metadata": {},
     "output_type": "execute_result"
    }
   ],
   "source": [
    "from mlx_lm import generate\n",
    "\n",
    "# the model is not capable of follwing the instructions, yet.\n",
    "input_text = format_input(val_data[0])\n",
    "print(input_text)\n",
    "generate(model_hf, tokenizer_hf, prompt=input_text)\n"
   ]
  },
  {
   "cell_type": "markdown",
   "id": "9285a3ba",
   "metadata": {},
   "source": [
    "# Finetuning the LLM on instruction data"
   ]
  },
  {
   "cell_type": "code",
   "execution_count": null,
   "id": "19843ce9",
   "metadata": {},
   "outputs": [
    {
     "data": {
      "text/plain": [
       "\"Below is an instruction that describes a task. Write a response that appropriately completes the request. \\n\\n### Instruction:\\nConvert the active sentence to passive: 'The chef cooks the meal every day.'\""
      ]
     },
     "execution_count": 129,
     "metadata": {},
     "output_type": "execute_result"
    }
   ],
   "source": []
  }
 ],
 "metadata": {
  "kernelspec": {
   "display_name": "llms-from-scratch-mlx",
   "language": "python",
   "name": "python3"
  },
  "language_info": {
   "codemirror_mode": {
    "name": "ipython",
    "version": 3
   },
   "file_extension": ".py",
   "mimetype": "text/x-python",
   "name": "python",
   "nbconvert_exporter": "python",
   "pygments_lexer": "ipython3",
   "version": "3.13.6"
  }
 },
 "nbformat": 4,
 "nbformat_minor": 5
}
