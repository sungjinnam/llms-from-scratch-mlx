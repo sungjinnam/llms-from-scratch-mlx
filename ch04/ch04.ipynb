{
 "cells": [
  {
   "cell_type": "code",
   "execution_count": 1,
   "id": "aba593fb",
   "metadata": {},
   "outputs": [],
   "source": [
    "GPT_CONFIG_124M = {\n",
    "    \"vocab_size\": 50257,\n",
    "    \"context_length\": 1024,\n",
    "    \"emb_dim\": 768,\n",
    "    \"n_heads\": 12,\n",
    "    \"n_layers\": 12,\n",
    "    \"drop_rate\": 0.1,\n",
    "    \"qkv_bias\": False,\n",
    "}"
   ]
  },
  {
   "cell_type": "code",
   "execution_count": 2,
   "id": "89ef183f",
   "metadata": {},
   "outputs": [],
   "source": [
    "import mlx.core as mx\n",
    "import mlx.nn as nn"
   ]
  },
  {
   "cell_type": "markdown",
   "id": "ed5d419d",
   "metadata": {},
   "source": [
    "# LLM architecture"
   ]
  },
  {
   "cell_type": "code",
   "execution_count": 3,
   "id": "86a0f907",
   "metadata": {},
   "outputs": [],
   "source": [
    "class DummyGPTModel(nn.Module):\n",
    "    def __init__(self, cfg):\n",
    "        super().__init__()\n",
    "        self.tok_emb = nn.Embedding(cfg[\"vocab_size\"], cfg[\"emb_dim\"])\n",
    "        self.pos_emb = nn.Embedding(cfg[\"context_length\"], cfg[\"emb_dim\"])\n",
    "        self.drop_emb = nn.Dropout(cfg[\"drop_rate\"])\n",
    "\n",
    "        self.trf_blocks = nn.Sequential(\n",
    "            *[DummyTransformerBlock(cfg) for _ in range(cfg[\"n_layers\"])]\n",
    "        )\n",
    "        self.final_norm = DummyLayerNorm(cfg[\"emb_dim\"])\n",
    "        self.out_head = nn.Linear(\n",
    "            cfg[\"emb_dim\"], cfg[\"vocab_size\"], bias=False\n",
    "        )\n",
    "    \n",
    "    def forward(self, in_idx):\n",
    "        batch_size, seq_len = in_idx.shape\n",
    "        tok_embeds = self.tok_emb(in_idx)\n",
    "        pos_embeds = self.pos_emb(mx.arange(seq_len))\n",
    "        x = tok_embeds + pos_embeds\n",
    "        x = self.drop_emb(x)\n",
    "        x = self.trf_blocks(x)\n",
    "        x = self.final_norm(x)\n",
    "        logits = self.out_head(x)\n",
    "        return logits\n",
    "\n",
    "    def __call__(self, x):\n",
    "        return self.forward(x)\n",
    "    \n",
    "class DummyTransformerBlock(nn.Module):\n",
    "    def __init__(self, cfg):\n",
    "        super().__init__()\n",
    "    def forward(self, x):\n",
    "        return x\n",
    "    def __call__(self, x):\n",
    "        return self.forward(x)\n",
    "    \n",
    "class DummyLayerNorm(nn.Module):\n",
    "    def __init__(self, cfg):\n",
    "        super().__init__()\n",
    "    def forward(self, x):\n",
    "        return x\n",
    "    def __call__(self, x):\n",
    "        return self.forward(x)\n"
   ]
  },
  {
   "cell_type": "code",
   "execution_count": 4,
   "id": "f2cccfee",
   "metadata": {},
   "outputs": [
    {
     "data": {
      "text/plain": [
       "array([[6109, 3626, 6100, 345],\n",
       "       [6109, 1110, 6622, 257]], dtype=int32)"
      ]
     },
     "execution_count": 4,
     "metadata": {},
     "output_type": "execute_result"
    }
   ],
   "source": [
    "import tiktoken\n",
    "tokenizer = tiktoken.get_encoding(\"gpt2\")\n",
    "\n",
    "batch = []\n",
    "\n",
    "txt1 = \"Every effort moves you\"\n",
    "txt2 = \"Every day holds a\"\n",
    "\n",
    "batch.append(mx.array(tokenizer.encode(txt1)))\n",
    "batch.append(mx.array(tokenizer.encode(txt2)))\n",
    "batch = mx.stack(batch, axis=0)\n",
    "batch"
   ]
  },
  {
   "cell_type": "code",
   "execution_count": 5,
   "id": "24620728",
   "metadata": {},
   "outputs": [
    {
     "data": {
      "text/plain": [
       "((2, 4, 50257),\n",
       " array([[[0.0325858, -0.00327153, 0.0314474, ..., -0.05538, -0.0313719, 0.025868],\n",
       "         [0.0114696, -0.0338207, 0.0420545, ..., 0.0776588, -0.0185897, 0.0412946],\n",
       "         [0.0335977, 0.0204688, 0.0283034, ..., -0.00401974, -0.00234349, 0.0478059],\n",
       "         [-0.0363127, -0.0260188, -0.0139646, ..., 0.0469502, 0.0119287, 0.00278975]],\n",
       "        [[0.0372902, -0.00251749, 0.059333, ..., -0.03758, -0.0354561, 0.0315046],\n",
       "         [-0.00316943, 0.00147293, 0.027029, ..., 0.00894648, -0.0558485, 0.0010028],\n",
       "         [0.026175, -0.0170101, -0.00992603, ..., -0.00731882, 0.0446771, 0.0446581],\n",
       "         [-0.00448758, -0.0576313, -0.0103115, ..., 0.0419662, -0.0424688, 0.0307011]]], dtype=float32))"
      ]
     },
     "execution_count": 5,
     "metadata": {},
     "output_type": "execute_result"
    }
   ],
   "source": [
    "mx.random.seed(123)\n",
    "model = DummyGPTModel(GPT_CONFIG_124M)\n",
    "logits = model(batch)\n",
    "logits.shape, logits"
   ]
  },
  {
   "cell_type": "markdown",
   "id": "4eada218",
   "metadata": {},
   "source": [
    "# Normalizing activations with layernorm"
   ]
  },
  {
   "cell_type": "code",
   "execution_count": 6,
   "id": "88ec44a4",
   "metadata": {},
   "outputs": [
    {
     "data": {
      "text/plain": [
       "array([[0.245317, 0, 0, 0, 0, 0],\n",
       "       [0.158271, 0, 0, 0.151647, 0, 0]], dtype=float32)"
      ]
     },
     "execution_count": 6,
     "metadata": {},
     "output_type": "execute_result"
    }
   ],
   "source": [
    "mx.random.seed(123)\n",
    "batch_example = mx.random.uniform(shape=(2, 5))\n",
    "layer = nn.Sequential(nn.Linear(5, 6), nn.ReLU())\n",
    "out = layer(batch_example)\n",
    "out"
   ]
  },
  {
   "cell_type": "code",
   "execution_count": 7,
   "id": "edc493f9",
   "metadata": {},
   "outputs": [
    {
     "data": {
      "text/plain": [
       "(array([[0.0408861],\n",
       "        [0.0516529]], dtype=float32),\n",
       " array([[0.00835838],\n",
       "        [0.00533971]], dtype=float32))"
      ]
     },
     "execution_count": 7,
     "metadata": {},
     "output_type": "execute_result"
    }
   ],
   "source": [
    "mean = out.mean(axis=-1, keepdims=True)\n",
    "var = out.var(axis=-1, keepdims=True)\n",
    "mean, var"
   ]
  },
  {
   "cell_type": "code",
   "execution_count": 8,
   "id": "4756f4ba",
   "metadata": {},
   "outputs": [
    {
     "data": {
      "text/plain": [
       "(array([[2.23607, -0.447214, -0.447214, -0.447214, -0.447214, -0.447214],\n",
       "        [1.45905, -0.706865, -0.706865, 1.36841, -0.706865, -0.706865]], dtype=float32),\n",
       " array([[-3.97364e-08],\n",
       "        [-1.98682e-08]], dtype=float32),\n",
       " array([[1],\n",
       "        [1]], dtype=float32))"
      ]
     },
     "execution_count": 8,
     "metadata": {},
     "output_type": "execute_result"
    }
   ],
   "source": [
    "out_norm = (out - mean) / mx.sqrt(var)\n",
    "mean = out_norm.mean(axis=-1, keepdims=True)\n",
    "var = out_norm.var(axis=-1, keepdims=True)\n",
    "out_norm, mean, var"
   ]
  },
  {
   "cell_type": "code",
   "execution_count": 9,
   "id": "13ee79ab",
   "metadata": {},
   "outputs": [],
   "source": [
    "class LayerNorm(nn.Module):\n",
    "    def __init__(self, emb_dim):\n",
    "        super().__init__()\n",
    "        self.eps = 1e-5\n",
    "        self.scale = mx.ones(emb_dim)\n",
    "        self.shift = mx.zeros(emb_dim)\n",
    "    def forward(self, x):\n",
    "        mean = x.mean(axis=-1, keepdims=True)\n",
    "        var = x.var(axis=-1, keepdims=True)\n",
    "        norm_x = (x - mean) / mx.sqrt(var + self.eps)\n",
    "        return self.scale * norm_x + self.shift\n",
    "    def __call__(self, x):\n",
    "        return self.forward(x)"
   ]
  },
  {
   "cell_type": "code",
   "execution_count": 10,
   "id": "835ecba2",
   "metadata": {},
   "outputs": [
    {
     "data": {
      "text/plain": [
       "(array([[0.0143559, -0.317722, 1.90221, -0.768669, -0.830176],\n",
       "        [-1.20911, 0.714974, 0.208862, -1.06962, 1.3549]], dtype=float32),\n",
       " array([[0],\n",
       "        [1.90735e-07]], dtype=float32),\n",
       " array([[0.999921],\n",
       "        [0.999318]], dtype=float32))"
      ]
     },
     "execution_count": 10,
     "metadata": {},
     "output_type": "execute_result"
    }
   ],
   "source": [
    "ln = LayerNorm(emb_dim=5)\n",
    "out_ln = ln(batch_example)\n",
    "mean = out_ln.mean(axis=-1, keepdims=True)\n",
    "var = out_ln.var(axis=-1, keepdims=True) #, unbiased=False): using n-1 denominator (Beseel's samling correction)\n",
    "out_ln, mean, var"
   ]
  },
  {
   "cell_type": "markdown",
   "id": "c5b7d371",
   "metadata": {},
   "source": [
    "# Feedforward network with GELU activations"
   ]
  },
  {
   "cell_type": "code",
   "execution_count": 11,
   "id": "92fdb22e",
   "metadata": {},
   "outputs": [],
   "source": [
    "# nn.GELU\n",
    "class GELU(nn.Module):\n",
    "    def __init__(self):\n",
    "        super().__init__()\n",
    "    def forward(self, x):\n",
    "        return 0.5 * x * (1 + mx.tanh(\n",
    "            mx.sqrt(mx.array(2.0 / mx.pi)) * (x + 0.044715 * mx.power(x, 3))\n",
    "        ))\n",
    "    def __call__(self, x):\n",
    "        return self.forward(x)"
   ]
  },
  {
   "cell_type": "code",
   "execution_count": 12,
   "id": "0b1c35c6",
   "metadata": {},
   "outputs": [
    {
     "data": {
      "image/png": "[encoded data removed]",
      "text/plain": [
       "<Figure size 1200x300 with 3 Axes>"
      ]
     },
     "metadata": {},
     "output_type": "display_data"
    }
   ],
   "source": [
    "import matplotlib.pyplot as plt\n",
    "gelu, gelu_nn, relu_nn = GELU(), nn.GELU(), nn.ReLU()\n",
    "x = mx.linspace(-3, 3, 100)\n",
    "y_gelu, y_gelu_nn, y_relu_nn = gelu(x), gelu_nn(x), relu_nn(x)\n",
    "\n",
    "plt.figure(figsize=(12, 3))\n",
    "for i, (y, label) in enumerate(zip([y_gelu, y_gelu_nn, y_relu_nn], [\"GELU\", \"GELU_MLX\", \"RELU_MLX\"]), 1):\n",
    "    plt.subplot(1, 3, i)\n",
    "    plt.plot(x, y)\n",
    "    plt.title(f\"{label} activation function\")\n",
    "    plt.xlabel(\"x\")\n",
    "    plt.ylabel(f\"{label}(x)\")\n",
    "    plt.grid(True)\n",
    "plt.tight_layout()"
   ]
  },
  {
   "cell_type": "code",
   "execution_count": 13,
   "id": "21195818",
   "metadata": {},
   "outputs": [],
   "source": [
    "class FeedForward(nn.Module):\n",
    "    def __init__(self, cfg):\n",
    "        super().__init__()\n",
    "        self.layers = nn.Sequential(\n",
    "            nn.Linear(cfg[\"emb_dim\"], 4 * cfg[\"emb_dim\"]),\n",
    "            nn.GELU(),\n",
    "            nn.Linear(4 * cfg[\"emb_dim\"], cfg[\"emb_dim\"])\n",
    "        )\n",
    "    def __call__(self, x):\n",
    "        return self.layers(x)"
   ]
  },
  {
   "cell_type": "code",
   "execution_count": 14,
   "id": "0a10b449",
   "metadata": {},
   "outputs": [
    {
     "data": {
      "text/plain": [
       "(array([[[-0.0731656, -0.154929, 0.0142609, ..., 0.0422346, -0.169687, 0.17606],\n",
       "         [-0.117855, -0.0929267, 0.0373913, ..., 0.000822926, -0.241744, 0.0752629],\n",
       "         [-0.109236, -0.0940004, 0.104058, ..., 0.0416119, -0.108297, 0.122315]],\n",
       "        [[-0.121868, -0.0783891, 0.0180716, ..., 0.0131748, -0.197627, 0.0740776],\n",
       "         [-0.1666, -0.140969, 0.0873734, ..., 0.143977, -0.183883, 0.155529],\n",
       "         [-0.04646, -0.0785241, 0.0343495, ..., 0.107342, -0.215675, 0.12396]]], dtype=float32),\n",
       " (2, 3, 768))"
      ]
     },
     "execution_count": 14,
     "metadata": {},
     "output_type": "execute_result"
    }
   ],
   "source": [
    "ffn = FeedForward(GPT_CONFIG_124M)\n",
    "x = mx.random.uniform(shape=(2, 3, 768))\n",
    "out = ffn(x)\n",
    "out, out.shape"
   ]
  },
  {
   "cell_type": "markdown",
   "id": "d69947ea",
   "metadata": {},
   "source": [
    "# Shortcut connections"
   ]
  },
  {
   "cell_type": "code",
   "execution_count": null,
   "id": "f8fc3b29",
   "metadata": {},
   "outputs": [],
   "source": [
    "class ExampleDeepNeuralNetwork(nn.Module):\n",
    "    def __init__(self, layer_sizes, use_shortcut):\n",
    "        super().__init__()\n",
    "        self.use_shortcut = use_shortcut\n",
    "        self.layers = [\n",
    "            nn.Sequential(nn.Linear(layer_sizes[0], layer_sizes[1]), nn.GELU()),\n",
    "            nn.Sequential(nn.Linear(layer_sizes[1], layer_sizes[2]), nn.GELU()),\n",
    "            nn.Sequential(nn.Linear(layer_sizes[2], layer_sizes[3]), nn.GELU()),\n",
    "            nn.Sequential(nn.Linear(layer_sizes[3], layer_sizes[4]), nn.GELU()),\n",
    "            nn.Sequential(nn.Linear(layer_sizes[4], layer_sizes[5]), nn.GELU()),\n",
    "        ]\n",
    "    def __call__(self, x):\n",
    "        for layer in self.layers:\n",
    "            layer_output = layer(x)\n",
    "            if self.use_shortcut and x.shape == layer_output.shape:\n",
    "                x = x + layer_output\n",
    "            else:\n",
    "                x = layer_output\n",
    "        return x\n",
    "\n",
    "def compute_mse_loss(model, x, target):\n",
    "    # return mx.mean(mx.square(model(x) - target))\n",
    "    ## using nn.losses.mse_loss\n",
    "    return nn.losses.mse_loss(model(x), target)\n",
    "\n",
    "def print_gradients(model, x):\n",
    "    target = mx.array([[0.]])\n",
    "    # same functionality for gradient\n",
    "    # grad_fn = mx.grad(compute_mse_loss)\n",
    "    # grad = grad_fn(model, x, target)\n",
    "    loss, grad = mx.value_and_grad(compute_mse_loss)(model, x, target)\n",
    "    # loss, grad = nn.value_and_grad(model, compute_mse_loss)(x, target)\n",
    "\n",
    "    for i, outer_layer in enumerate(grad['layers']):\n",
    "        # The structure has an inner 'layers' list\n",
    "        for inner_layer_dict in outer_layer['layers']:\n",
    "            if 'weight' in inner_layer_dict:\n",
    "                weight_array = inner_layer_dict['weight']\n",
    "                abs_mean_weight = weight_array.abs().mean().item()\n",
    "                print(f\"Layer {i+1} Weight Absolute Mean: {abs_mean_weight:.8f}\")\n",
    "\n",
    "            if 'bias' in inner_layer_dict:\n",
    "                bias_array = inner_layer_dict['bias']\n",
    "                abs_mean_bias = bias_array.abs().mean().item()\n",
    "                print(f\"Layer {i+1} Bias Absolute Mean:   {abs_mean_bias:.8f}\")\n",
    "            print(\"-\" * 40)"
   ]
  },
  {
   "cell_type": "code",
   "execution_count": 16,
   "id": "fdbce969",
   "metadata": {},
   "outputs": [
    {
     "name": "stdout",
     "output_type": "stream",
     "text": [
      "Layer 1 Weight Absolute Mean: 0.00000296\n",
      "Layer 1 Bias Absolute Mean:   0.00000444\n",
      "----------------------------------------\n",
      "----------------------------------------\n",
      "Layer 2 Weight Absolute Mean: 0.00000567\n",
      "Layer 2 Bias Absolute Mean:   0.00004519\n",
      "----------------------------------------\n",
      "----------------------------------------\n",
      "Layer 3 Weight Absolute Mean: 0.00003279\n",
      "Layer 3 Bias Absolute Mean:   0.00021545\n",
      "----------------------------------------\n",
      "----------------------------------------\n",
      "Layer 4 Weight Absolute Mean: 0.00015057\n",
      "Layer 4 Bias Absolute Mean:   0.00092316\n",
      "----------------------------------------\n",
      "----------------------------------------\n",
      "Layer 5 Weight Absolute Mean: 0.00091818\n",
      "Layer 5 Bias Absolute Mean:   0.01063115\n",
      "----------------------------------------\n",
      "----------------------------------------\n"
     ]
    }
   ],
   "source": [
    "layer_sizes = [3, 3, 3, 3, 3, 1]\n",
    "sample_input = mx.array([[1., 0., -1.]])\n",
    "\n",
    "mx.random.seed(123)\n",
    "model_without_shortcut = ExampleDeepNeuralNetwork(layer_sizes, use_shortcut=False)\n",
    "print_gradients(model_without_shortcut, sample_input)"
   ]
  },
  {
   "cell_type": "code",
   "execution_count": 17,
   "id": "5f2b1708",
   "metadata": {},
   "outputs": [
    {
     "name": "stdout",
     "output_type": "stream",
     "text": [
      "Layer 1 Weight Absolute Mean: 0.01095946\n",
      "Layer 1 Bias Absolute Mean:   0.01643919\n",
      "----------------------------------------\n",
      "----------------------------------------\n",
      "Layer 2 Weight Absolute Mean: 0.02560675\n",
      "Layer 2 Bias Absolute Mean:   0.03575864\n",
      "----------------------------------------\n",
      "----------------------------------------\n",
      "Layer 3 Weight Absolute Mean: 0.00414518\n",
      "Layer 3 Bias Absolute Mean:   0.00453086\n",
      "----------------------------------------\n",
      "----------------------------------------\n",
      "Layer 4 Weight Absolute Mean: 0.00662550\n",
      "Layer 4 Bias Absolute Mean:   0.00787471\n",
      "----------------------------------------\n",
      "----------------------------------------\n",
      "Layer 5 Weight Absolute Mean: 0.11732697\n",
      "Layer 5 Bias Absolute Mean:   0.16084231\n",
      "----------------------------------------\n",
      "----------------------------------------\n"
     ]
    }
   ],
   "source": [
    "# shortcut connects prevent the gradients from vanishing in the early layers\n",
    "mx.random.seed(123)\n",
    "model_with_shortcut = ExampleDeepNeuralNetwork(layer_sizes, use_shortcut=True)\n",
    "print_gradients(model_with_shortcut, sample_input)"
   ]
  },
  {
   "cell_type": "markdown",
   "id": "e17c9440",
   "metadata": {},
   "source": [
    "# Connecting attention and linear layers in a transformer block"
   ]
  },
  {
   "cell_type": "code",
   "execution_count": 18,
   "id": "aea251f6",
   "metadata": {},
   "outputs": [],
   "source": [
    "from previous_chapters import MultiHeadAttention\n",
    "\n",
    "class TransformerBlock(nn.Module):\n",
    "    def __init__(self, cfg):\n",
    "        super().__init__()\n",
    "        self.att = MultiHeadAttention(\n",
    "            d_in=cfg[\"emb_dim\"],\n",
    "            d_out=cfg[\"emb_dim\"],\n",
    "            context_length=cfg[\"context_length\"],\n",
    "            num_heads=cfg[\"n_heads\"],\n",
    "            dropout=cfg[\"drop_rate\"],\n",
    "            qkv_bias=cfg[\"qkv_bias\"]\n",
    "        )\n",
    "        self.ff = FeedForward(cfg)\n",
    "        self.norm1 = LayerNorm(cfg[\"emb_dim\"])\n",
    "        self.norm2 = LayerNorm(cfg[\"emb_dim\"])\n",
    "        self.drop_shortcut = nn.Dropout(cfg[\"drop_rate\"])\n",
    "    \n",
    "    def __call__(self, x):\n",
    "        # shortcut connection for attention block\n",
    "        shortcut = x\n",
    "        x = self.norm1(x)\n",
    "        x = self.att(x)\n",
    "        x = self.drop_shortcut(x)\n",
    "        x = x + shortcut\n",
    "\n",
    "        # shortcut connection for feedforward block\n",
    "        shortcut = x\n",
    "        x = self.norm2(x)\n",
    "        x = self.ff(x)\n",
    "        x = self.drop_shortcut(x)\n",
    "        x = x + shortcut\n",
    "\n",
    "        return x\n"
   ]
  },
  {
   "cell_type": "code",
   "execution_count": 19,
   "id": "a42c2b4d",
   "metadata": {},
   "outputs": [
    {
     "data": {
      "text/plain": [
       "((2, 4, 768), (2, 4, 768))"
      ]
     },
     "execution_count": 19,
     "metadata": {},
     "output_type": "execute_result"
    }
   ],
   "source": [
    "mx.random.seed(123)\n",
    "x = mx.random.uniform(shape=(2, 4, 768))\n",
    "block = TransformerBlock(GPT_CONFIG_124M)\n",
    "output = block(x)\n",
    "\n",
    "x.shape, output.shape"
   ]
  },
  {
   "cell_type": "markdown",
   "id": "8d02991a",
   "metadata": {},
   "source": [
    "# GPT model"
   ]
  },
  {
   "cell_type": "code",
   "execution_count": 20,
   "id": "0e1bba86",
   "metadata": {},
   "outputs": [],
   "source": [
    "class GPTModel(nn.Module):\n",
    "    def __init__(self, cfg):\n",
    "        super().__init__()\n",
    "        self.tok_emb = nn.Embedding(cfg[\"vocab_size\"], cfg[\"emb_dim\"])\n",
    "        self.pos_emb = nn.Embedding(cfg[\"vocab_size\"], cfg[\"emb_dim\"])\n",
    "        self.drop_emb = nn.Dropout(cfg['drop_rate'])\n",
    "\n",
    "        self.trf_blocks = nn.Sequential(*[TransformerBlock(cfg) for _ in range(cfg['n_layers'])])\n",
    "        self.final_norm = LayerNorm(cfg['emb_dim'])\n",
    "        self.out_head = nn.Linear(cfg['emb_dim'], cfg['vocab_size'], bias=False)\n",
    "\n",
    "    def __call__(self, in_idx):\n",
    "        batch_size, seq_len = in_idx.shape\n",
    "        tok_embeds = self.tok_emb(in_idx)\n",
    "        pos_embeds = self.pos_emb(mx.arange(seq_len))\n",
    "        x = tok_embeds + pos_embeds\n",
    "        x = self.drop_emb(x)\n",
    "        x = self.trf_blocks(x)\n",
    "        x = self.final_norm(x)\n",
    "        logits = self.out_head(x)\n",
    "        return logits"
   ]
  },
  {
   "cell_type": "code",
   "execution_count": 21,
   "id": "7d4477ab",
   "metadata": {},
   "outputs": [
    {
     "data": {
      "text/plain": [
       "(array([[6109, 3626, 6100, 345],\n",
       "        [6109, 1110, 6622, 257]], dtype=int32),\n",
       " (2, 4, 50257),\n",
       " array([[[0.976168, -0.65452, 0.708766, ..., -0.414631, -0.375584, -0.67339],\n",
       "         [0.643055, -0.572836, 0.0752775, ..., 0.267556, -0.177602, -0.409495],\n",
       "         [0.554118, -0.187771, 0.852581, ..., -0.293828, -0.973317, -0.485109],\n",
       "         [-0.284444, -0.375543, 0.786829, ..., -0.210427, -0.56925, -1.03308]],\n",
       "        [[0.484133, -0.435351, 1.73674, ..., -0.154704, 0.240796, -0.29407],\n",
       "         [0.854106, -0.507258, 0.0458603, ..., 0.00086233, 0.647928, 0.117646],\n",
       "         [0.0712366, -0.0251062, 0.83964, ..., 0.683549, 0.555009, -0.53265],\n",
       "         [0.351332, -0.302475, 0.272237, ..., 0.47017, 0.491723, -0.308072]]], dtype=float32))"
      ]
     },
     "execution_count": 21,
     "metadata": {},
     "output_type": "execute_result"
    }
   ],
   "source": [
    "mx.random.seed(123)\n",
    "model = GPTModel(GPT_CONFIG_124M)\n",
    "\n",
    "out = model(batch)\n",
    "batch, out.shape, out"
   ]
  },
  {
   "cell_type": "code",
   "execution_count": 22,
   "id": "9f3c2b49",
   "metadata": {},
   "outputs": [
    {
     "name": "stdout",
     "output_type": "stream",
     "text": [
      "Total parameters in the model: 213403392\n"
     ]
    }
   ],
   "source": [
    "from mlx.utils import tree_flatten\n",
    "\n",
    "total_params = sum(p.size for _, p in tree_flatten(model.parameters()))\n",
    "print(f\"Total parameters in the model: {total_params}\")"
   ]
  },
  {
   "cell_type": "markdown",
   "id": "159cf043",
   "metadata": {},
   "source": [
    "# Generating text"
   ]
  },
  {
   "cell_type": "code",
   "execution_count": 23,
   "id": "78f52962",
   "metadata": {},
   "outputs": [],
   "source": [
    "def generate_text_simple(model, idx, max_new_tokens, context_size):\n",
    "    # idx is (batch, n_tokens)array of indices in the current context.\n",
    "    for _ in range(max_new_tokens):\n",
    "        # get current context within the context window\n",
    "        idx_cond = idx[:, -context_size:]\n",
    "        # get the predictions\n",
    "        logits = model(mx.stop_gradient(idx_cond))\n",
    "        # focus on the last time step\n",
    "        logits = logits[:, -1, :]\n",
    "        probas= mx.softmax(logits, axis=-1)\n",
    "        # get the idx of the vocab entry with the highest probability\n",
    "        idx_next = mx.argmax(probas, axis=-1, keepdims=True)\n",
    "        # append sampled index to the sequence\n",
    "        idx = mx.concat([idx, idx_next], axis=1)\n",
    "    return idx\n",
    "        "
   ]
  },
  {
   "cell_type": "code",
   "execution_count": 24,
   "id": "3147a3a7",
   "metadata": {},
   "outputs": [
    {
     "data": {
      "text/plain": [
       "[28254, 11, 314, 716]"
      ]
     },
     "execution_count": 24,
     "metadata": {},
     "output_type": "execute_result"
    }
   ],
   "source": [
    "start_context = \"Hell, I am\"\n",
    "encoded = tokenizer.encode(start_context)\n",
    "encoded\n"
   ]
  },
  {
   "cell_type": "code",
   "execution_count": 25,
   "id": "cbeeb931",
   "metadata": {},
   "outputs": [
    {
     "data": {
      "text/plain": [
       "(array([[28254, 11, 314, 716]], dtype=int32), (1, 4))"
      ]
     },
     "execution_count": 25,
     "metadata": {},
     "output_type": "execute_result"
    }
   ],
   "source": [
    "encoded_tensor = mx.array(encoded)[None, :] # add batch dimension\n",
    "encoded_tensor, encoded_tensor.shape"
   ]
  },
  {
   "cell_type": "code",
   "execution_count": 26,
   "id": "f387a355",
   "metadata": {},
   "outputs": [
    {
     "data": {
      "text/plain": [
       "(array([[28254, 11, 314, ..., 11799, 26062, 36803]], dtype=int64), 10)"
      ]
     },
     "execution_count": 26,
     "metadata": {},
     "output_type": "execute_result"
    }
   ],
   "source": [
    "model.eval()\n",
    "out = generate_text_simple(\n",
    "    model=model,\n",
    "    idx=encoded_tensor,\n",
    "    max_new_tokens=6,\n",
    "    context_size=GPT_CONFIG_124M[\"context_length\"]\n",
    ")\n",
    "out, len(out[0])"
   ]
  },
  {
   "cell_type": "code",
   "execution_count": 27,
   "id": "11e8569d",
   "metadata": {},
   "outputs": [
    {
     "data": {
      "text/plain": [
       "'Hell, I am substant substant substantppers Debian Upload'"
      ]
     },
     "execution_count": 27,
     "metadata": {},
     "output_type": "execute_result"
    }
   ],
   "source": [
    "decoded_text = tokenizer.decode(out.squeeze().tolist())\n",
    "decoded_text"
   ]
  }
 ],
 "metadata": {
  "kernelspec": {
   "display_name": "llms-from-scratch-mlx",
   "language": "python",
   "name": "python3"
  },
  "language_info": {
   "codemirror_mode": {
    "name": "ipython",
    "version": 3
   },
   "file_extension": ".py",
   "mimetype": "text/x-python",
   "name": "python",
   "nbconvert_exporter": "python",
   "pygments_lexer": "ipython3",
   "version": "3.13.6"
  }
 },
 "nbformat": 4,
 "nbformat_minor": 5
}
