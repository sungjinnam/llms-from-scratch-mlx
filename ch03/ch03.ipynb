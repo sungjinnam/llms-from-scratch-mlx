{
 "cells": [
  {
   "cell_type": "code",
   "execution_count": 1,
   "id": "5fc23e93",
   "metadata": {},
   "outputs": [],
   "source": [
    "import mlx.core as mx"
   ]
  },
  {
   "cell_type": "markdown",
   "id": "6ff1dcf9",
   "metadata": {},
   "source": [
    "# Attending to different parts of the input with self-attention"
   ]
  },
  {
   "cell_type": "code",
   "execution_count": 2,
   "id": "b53cfb7d",
   "metadata": {},
   "outputs": [],
   "source": [
    "inputs = mx.array(\n",
    "  [[0.43, 0.15, 0.89], # Your     (x^1)\n",
    "   [0.55, 0.87, 0.66], # journey  (x^2)\n",
    "   [0.57, 0.85, 0.64], # starts   (x^3)\n",
    "   [0.22, 0.58, 0.33], # with     (x^4)\n",
    "   [0.77, 0.25, 0.10], # one      (x^5)\n",
    "   [0.05, 0.80, 0.55]] # step     (x^6)\n",
    ")"
   ]
  },
  {
   "cell_type": "code",
   "execution_count": 3,
   "id": "b7d98ffb",
   "metadata": {},
   "outputs": [
    {
     "data": {
      "text/plain": [
       "array([0.9544, 1.495, 1.4754, 0.8434, 0.707, 1.0865], dtype=float32)"
      ]
     },
     "execution_count": 3,
     "metadata": {},
     "output_type": "execute_result"
    }
   ],
   "source": [
    "query = inputs[1]\n",
    "attn_scores_2 = mx.zeros(inputs.shape[0])\n",
    "for i, x_i in enumerate(inputs):\n",
    "    attn_scores_2[i] = mx.matmul(x_i, query)\n",
    "attn_scores_2"
   ]
  },
  {
   "cell_type": "code",
   "execution_count": 4,
   "id": "63cc0897",
   "metadata": {},
   "outputs": [
    {
     "data": {
      "text/plain": [
       "(array(0.9544, dtype=float32), array(0.9544, dtype=float32))"
      ]
     },
     "execution_count": 4,
     "metadata": {},
     "output_type": "execute_result"
    }
   ],
   "source": [
    "res = 0.\n",
    "for i, element in enumerate(inputs[0]):\n",
    "    res += inputs[0][i] * query[i]\n",
    "res, mx.matmul(inputs[0], query)"
   ]
  },
  {
   "cell_type": "code",
   "execution_count": 5,
   "id": "116f1de4",
   "metadata": {},
   "outputs": [
    {
     "name": "stdout",
     "output_type": "stream",
     "text": [
      "attention weights: array([0.14545, 0.227837, 0.22485, 0.128534, 0.107746, 0.165582], dtype=float32)\n",
      "sum: array(1, dtype=float32)\n"
     ]
    }
   ],
   "source": [
    "attn_weights_2_tmp = attn_scores_2 / attn_scores_2.sum()\n",
    "print(\"attention weights:\", attn_weights_2_tmp)\n",
    "print(\"sum:\", attn_weights_2_tmp.sum())"
   ]
  },
  {
   "cell_type": "code",
   "execution_count": 6,
   "id": "4b92ede3",
   "metadata": {},
   "outputs": [
    {
     "name": "stdout",
     "output_type": "stream",
     "text": [
      "attention weights (naive): array([0.138548, 0.237891, 0.233274, 0.123992, 0.108182, 0.158114], dtype=float32)\n",
      "sum: array(1, dtype=float32)\n",
      "attention weights (mlx): array([0.138548, 0.237891, 0.233274, 0.123992, 0.108182, 0.158114], dtype=float32)\n",
      "sum: array(1, dtype=float32)\n"
     ]
    }
   ],
   "source": [
    "def softmax_naive(x):\n",
    "    return mx.exp(x) / mx.exp(x).sum(axis=0)\n",
    "\n",
    "attn_weights_2_naive = softmax_naive(attn_scores_2)\n",
    "print(\"attention weights (naive):\", attn_weights_2_naive)\n",
    "print(\"sum:\", attn_weights_2_naive.sum())\n",
    "\n",
    "attn_weights_2 = mx.softmax(attn_scores_2, axis=0)\n",
    "print(\"attention weights (mlx):\", attn_weights_2)\n",
    "print(\"sum:\", attn_weights_2.sum())"
   ]
  },
  {
   "cell_type": "code",
   "execution_count": 7,
   "id": "41a027aa",
   "metadata": {},
   "outputs": [
    {
     "data": {
      "text/plain": [
       "array([0.441866, 0.651482, 0.568309], dtype=float32)"
      ]
     },
     "execution_count": 7,
     "metadata": {},
     "output_type": "execute_result"
    }
   ],
   "source": [
    "query = inputs[1]\n",
    "context_vec_2 = mx.zeros(query.shape)\n",
    "for i, x_i in enumerate(inputs):\n",
    "    context_vec_2 += attn_weights_2[i] * x_i\n",
    "context_vec_2"
   ]
  },
  {
   "cell_type": "code",
   "execution_count": 8,
   "id": "954d8248",
   "metadata": {},
   "outputs": [
    {
     "data": {
      "text/plain": [
       "array([[0.9995, 0.9544, 0.9422, 0.4753, 0.4576, 0.631],\n",
       "       [0.9544, 1.495, 1.4754, 0.8434, 0.707, 1.0865],\n",
       "       [0.9422, 1.4754, 1.457, 0.8296, 0.7154, 1.0605],\n",
       "       [0.4753, 0.8434, 0.8296, 0.4937, 0.3474, 0.6565],\n",
       "       [0.4576, 0.707, 0.7154, 0.3474, 0.6654, 0.2935],\n",
       "       [0.631, 1.0865, 1.0605, 0.6565, 0.2935, 0.945]], dtype=float32)"
      ]
     },
     "execution_count": 8,
     "metadata": {},
     "output_type": "execute_result"
    }
   ],
   "source": [
    "attn_scores = mx.zeros((6, 6))\n",
    "for i, x_i in enumerate(inputs):\n",
    "    for j, x_j in enumerate(inputs):\n",
    "        attn_scores[i, j] = mx.matmul(x_i, x_j)\n",
    "attn_scores"
   ]
  },
  {
   "cell_type": "code",
   "execution_count": 9,
   "id": "89493afd",
   "metadata": {},
   "outputs": [
    {
     "data": {
      "text/plain": [
       "array([[0.9995, 0.9544, 0.9422, 0.4753, 0.4576, 0.631],\n",
       "       [0.9544, 1.495, 1.4754, 0.8434, 0.707, 1.0865],\n",
       "       [0.9422, 1.4754, 1.457, 0.8296, 0.7154, 1.0605],\n",
       "       [0.4753, 0.8434, 0.8296, 0.4937, 0.3474, 0.6565],\n",
       "       [0.4576, 0.707, 0.7154, 0.3474, 0.6654, 0.2935],\n",
       "       [0.631, 1.0865, 1.0605, 0.6565, 0.2935, 0.945]], dtype=float32)"
      ]
     },
     "execution_count": 9,
     "metadata": {},
     "output_type": "execute_result"
    }
   ],
   "source": [
    "attn_scores = inputs @ inputs.T\n",
    "attn_scores"
   ]
  },
  {
   "cell_type": "code",
   "execution_count": 10,
   "id": "ba9f555a",
   "metadata": {},
   "outputs": [
    {
     "data": {
      "text/plain": [
       "array([[0.209835, 0.200581, 0.198149, 0.124228, 0.122049, 0.145158],\n",
       "       [0.138548, 0.237891, 0.233274, 0.123992, 0.108182, 0.158114],\n",
       "       [0.139008, 0.236921, 0.232602, 0.124204, 0.1108, 0.156464],\n",
       "       [0.143527, 0.207394, 0.204552, 0.146192, 0.126295, 0.172039],\n",
       "       [0.152611, 0.195839, 0.197491, 0.136687, 0.187859, 0.129514],\n",
       "       [0.138471, 0.218364, 0.212759, 0.142048, 0.0988064, 0.189552]], dtype=float32)"
      ]
     },
     "execution_count": 10,
     "metadata": {},
     "output_type": "execute_result"
    }
   ],
   "source": [
    "attn_weights = mx.softmax(attn_scores, axis=-1)\n",
    "attn_weights"
   ]
  },
  {
   "cell_type": "code",
   "execution_count": 11,
   "id": "2f7c06dd",
   "metadata": {},
   "outputs": [
    {
     "name": "stdout",
     "output_type": "stream",
     "text": [
      "row 2 sum: 1.000001\n",
      "all row sums: array([1, 1, 1, 1, 1, 1], dtype=float32)\n"
     ]
    }
   ],
   "source": [
    "row_2_sum = sum([0.138548, 0.237891, 0.233274, 0.123992, 0.108182, 0.158114])\n",
    "print('row 2 sum:', row_2_sum)\n",
    "print('all row sums:', attn_weights.sum(axis=-1))"
   ]
  },
  {
   "cell_type": "code",
   "execution_count": 12,
   "id": "bd363f1e",
   "metadata": {},
   "outputs": [
    {
     "data": {
      "text/plain": [
       "array([[0.442059, 0.593099, 0.578989],\n",
       "       [0.441866, 0.651482, 0.568309],\n",
       "       [0.443128, 0.649595, 0.567073],\n",
       "       [0.43039, 0.629828, 0.551027],\n",
       "       [0.467102, 0.590993, 0.526596],\n",
       "       [0.417724, 0.650323, 0.564535]], dtype=float32)"
      ]
     },
     "execution_count": 12,
     "metadata": {},
     "output_type": "execute_result"
    }
   ],
   "source": [
    "all_context_vecs = attn_weights @ inputs\n",
    "all_context_vecs"
   ]
  },
  {
   "cell_type": "markdown",
   "id": "d7bc7a8d",
   "metadata": {},
   "source": [
    "# Implementing self-attention with trainable weights"
   ]
  },
  {
   "cell_type": "code",
   "execution_count": 13,
   "id": "0d11b862",
   "metadata": {},
   "outputs": [],
   "source": [
    "import mlx.nn as nn"
   ]
  },
  {
   "cell_type": "code",
   "execution_count": 14,
   "id": "f0c36171",
   "metadata": {},
   "outputs": [],
   "source": [
    "x_2 = inputs[1]\n",
    "d_in = inputs.shape[1]\n",
    "d_out = 2"
   ]
  },
  {
   "cell_type": "code",
   "execution_count": 15,
   "id": "4228decc",
   "metadata": {},
   "outputs": [],
   "source": [
    "mx.random.seed(123)\n",
    "W_query = nn.init.uniform()(mx.zeros((d_in, d_out)))\n",
    "W_key = nn.init.uniform()(mx.zeros((d_in, d_out)))\n",
    "W_value = nn.init.uniform()(mx.zeros((d_in, d_out)))"
   ]
  },
  {
   "cell_type": "code",
   "execution_count": 16,
   "id": "2c39b706",
   "metadata": {},
   "outputs": [
    {
     "data": {
      "text/plain": [
       "(array([0.730349, 1.27947], dtype=float32),\n",
       " array([1.31264, 1.31876], dtype=float32),\n",
       " array([0.699694, 0.660281], dtype=float32))"
      ]
     },
     "execution_count": 16,
     "metadata": {},
     "output_type": "execute_result"
    }
   ],
   "source": [
    "query_2 = x_2 @ W_query\n",
    "key_2 = x_2 @ W_key\n",
    "value_2 = x_2 @ W_value\n",
    "query_2, key_2, value_2"
   ]
  },
  {
   "cell_type": "code",
   "execution_count": 17,
   "id": "57a69376",
   "metadata": {},
   "outputs": [
    {
     "data": {
      "text/plain": [
       "((6, 2), (6, 2))"
      ]
     },
     "execution_count": 17,
     "metadata": {},
     "output_type": "execute_result"
    }
   ],
   "source": [
    "keys = inputs @ W_key\n",
    "values = inputs @ W_value\n",
    "keys.shape, values.shape"
   ]
  },
  {
   "cell_type": "code",
   "execution_count": 18,
   "id": "05435cf5",
   "metadata": {},
   "outputs": [
    {
     "data": {
      "text/plain": [
       "(array(2.646, dtype=float32), array(2.646, dtype=float32))"
      ]
     },
     "execution_count": 18,
     "metadata": {},
     "output_type": "execute_result"
    }
   ],
   "source": [
    "keys_2 = keys[1]\n",
    "attn_score_22 = query_2.__matmul__(keys_2)\n",
    "attn_score_22, mx.matmul(query_2, keys_2)"
   ]
  },
  {
   "cell_type": "code",
   "execution_count": 19,
   "id": "e497fef9",
   "metadata": {},
   "outputs": [
    {
     "data": {
      "text/plain": [
       "array([1.35143, 2.646, 2.6213, 1.51807, 1.43814, 1.84981], dtype=float32)"
      ]
     },
     "execution_count": 19,
     "metadata": {},
     "output_type": "execute_result"
    }
   ],
   "source": [
    "attn_scores_2 = query_2 @ keys.T\n",
    "attn_scores_2"
   ]
  },
  {
   "cell_type": "code",
   "execution_count": 20,
   "id": "3aa9db0e",
   "metadata": {},
   "outputs": [
    {
     "data": {
      "text/plain": [
       "array([0.0848754, 0.296384, 0.289396, 0.0996982, 0.0922902, 0.137357], dtype=float32)"
      ]
     },
     "execution_count": 20,
     "metadata": {},
     "output_type": "execute_result"
    }
   ],
   "source": [
    "d_k = keys.shape[1]\n",
    "attn_weights_2 = mx.softmax(attn_scores_2 / d_k**0.05, axis=-1)\n",
    "attn_weights_2"
   ]
  },
  {
   "cell_type": "code",
   "execution_count": 21,
   "id": "4dc9f1fc",
   "metadata": {},
   "outputs": [
    {
     "data": {
      "text/plain": [
       "array([0.591523, 0.540025], dtype=float32)"
      ]
     },
     "execution_count": 21,
     "metadata": {},
     "output_type": "execute_result"
    }
   ],
   "source": [
    "context_vec_2 = attn_weights_2 @ values\n",
    "context_vec_2"
   ]
  },
  {
   "cell_type": "code",
   "execution_count": null,
   "id": "06b11266",
   "metadata": {},
   "outputs": [],
   "source": []
  },
  {
   "cell_type": "code",
   "execution_count": 22,
   "id": "97eaba19",
   "metadata": {},
   "outputs": [],
   "source": [
    "class SelfAttention_v1(nn.Module):\n",
    "    def __init__(self, d_in, d_out):\n",
    "        super().__init__()\n",
    "        self.W_query = nn.init.uniform()(mx.zeros((d_in, d_out)))\n",
    "        self.W_key   = nn.init.uniform()(mx.zeros((d_in, d_out)))\n",
    "        self.W_value = nn.init.uniform()(mx.zeros((d_in, d_out)))\n",
    "    \n",
    "    def forward(self, x):\n",
    "        queries = x @ self.W_query\n",
    "        keys    = x @ self.W_key\n",
    "        valeus  = x @ self.W_value\n",
    "\n",
    "        attn_scores = queries @ keys.T\n",
    "        attn_weights = mx.softmax(\n",
    "            attn_scores / keys.shape[-1]**0.5, axis=-1\n",
    "        )\n",
    "        context_vec = attn_weights @ values\n",
    "        return context_vec\n",
    "    \n",
    "    def __call__(self, x):\n",
    "        return self.forward(x)"
   ]
  },
  {
   "cell_type": "code",
   "execution_count": 23,
   "id": "878b4168",
   "metadata": {},
   "outputs": [
    {
     "data": {
      "text/plain": [
       "({'W_query': array([[0.0292066, 0.190664],\n",
       "         [0.180269, 0.656488],\n",
       "         [0.844624, 0.91433]], dtype=float32),\n",
       "  'W_key': array([[0.967267, 0.386227],\n",
       "         [0.843854, 0.925712],\n",
       "         [0.0704427, 0.456013]], dtype=float32),\n",
       "  'W_value': array([[0.750346, 0.114293],\n",
       "         [0.131906, 0.66192],\n",
       "         [0.260978, 0.0326512]], dtype=float32)},\n",
       " array([[0.573207, 0.509778],\n",
       "        [0.576258, 0.517739],\n",
       "        [0.575252, 0.516262],\n",
       "        [0.558173, 0.489055],\n",
       "        [0.547414, 0.471013],\n",
       "        [0.568997, 0.506183]], dtype=float32))"
      ]
     },
     "execution_count": 23,
     "metadata": {},
     "output_type": "execute_result"
    }
   ],
   "source": [
    "mx.random.seed(123)\n",
    "sa_v1 = SelfAttention_v1(d_in, d_out)\n",
    "sa_v1.parameters(), sa_v1(inputs)"
   ]
  },
  {
   "cell_type": "code",
   "execution_count": 24,
   "id": "826cf527",
   "metadata": {},
   "outputs": [],
   "source": [
    "class SelfAttention_v2(nn.Module):\n",
    "    def __init__(self, d_in, d_out, qkv_bias=False):\n",
    "        super().__init__()\n",
    "        self.W_query = nn.Linear(d_in, d_out, bias=qkv_bias)\n",
    "        self.W_key   = nn.Linear(d_in, d_out, bias=qkv_bias)\n",
    "        self.W_value = nn.Linear(d_in, d_out, bias=qkv_bias)\n",
    "    \n",
    "    def forward(self, x):\n",
    "        queries = self.W_query(x)\n",
    "        keys    = self.W_key(x)\n",
    "        valeus  = self.W_value(x)\n",
    "\n",
    "        attn_scores = queries @ keys.T\n",
    "        attn_weights = mx.softmax(\n",
    "            attn_scores / keys.shape[-1]**0.5, axis=-1\n",
    "        )\n",
    "        context_vec = attn_weights @ values\n",
    "        return context_vec\n",
    "    \n",
    "    def __call__(self, x):\n",
    "        return self.forward(x)"
   ]
  },
  {
   "cell_type": "code",
   "execution_count": 25,
   "id": "caaa2ea8",
   "metadata": {},
   "outputs": [
    {
     "data": {
      "text/plain": [
       "({'W_query': {'weight': array([[-0.543625, -0.357191, -0.369193],\n",
       "          [0.180697, 0.397937, 0.478428]], dtype=float32)},\n",
       "  'W_key': {'weight': array([[0.539553, -0.131374, 0.397048],\n",
       "          [0.491569, -0.49601, -0.050792]], dtype=float32)},\n",
       "  'W_value': {'weight': array([[0.289075, -0.445376, -0.425039],\n",
       "          [0.186969, -0.275999, -0.539648]], dtype=float32)}},\n",
       " array([[0.536247, 0.444135],\n",
       "        [0.535136, 0.44122],\n",
       "        [0.535003, 0.441506],\n",
       "        [0.537125, 0.446077],\n",
       "        [0.533649, 0.449737],\n",
       "        [0.538212, 0.442919]], dtype=float32))"
      ]
     },
     "execution_count": 25,
     "metadata": {},
     "output_type": "execute_result"
    }
   ],
   "source": [
    "mx.random.seed(123)\n",
    "sa_v2 = SelfAttention_v2(d_in, d_out)\n",
    "sa_v2.parameters(), sa_v2(inputs)"
   ]
  },
  {
   "cell_type": "markdown",
   "id": "01dbebe8",
   "metadata": {},
   "source": [
    "# Hiding future words with causal attention"
   ]
  },
  {
   "cell_type": "code",
   "execution_count": 26,
   "id": "a3b23630",
   "metadata": {},
   "outputs": [
    {
     "data": {
      "text/plain": [
       "array([[0.166613, 0.166252, 0.166287, 0.166944, 0.167353, 0.166551],\n",
       "       [0.166577, 0.1661, 0.166146, 0.167058, 0.167589, 0.166529],\n",
       "       [0.166569, 0.166107, 0.166152, 0.16706, 0.16757, 0.166543],\n",
       "       [0.166643, 0.166358, 0.166385, 0.166862, 0.167193, 0.16656],\n",
       "       [0.166447, 0.16638, 0.166393, 0.166994, 0.166961, 0.166826],\n",
       "       [0.166719, 0.166275, 0.166314, 0.166853, 0.167416, 0.166423]], dtype=float32)"
      ]
     },
     "execution_count": 26,
     "metadata": {},
     "output_type": "execute_result"
    }
   ],
   "source": [
    "queries = sa_v2.W_query(inputs)\n",
    "keys = sa_v2.W_key(inputs)\n",
    "attn_scores = queries @ keys.T\n",
    "attn_weights = mx.softmax(attn_scores / keys.shape[-1]*0.05, axis=-1)\n",
    "attn_weights"
   ]
  },
  {
   "cell_type": "code",
   "execution_count": 27,
   "id": "0a591cc1",
   "metadata": {},
   "outputs": [
    {
     "data": {
      "text/plain": [
       "array([[1, 0, 0, 0, 0, 0],\n",
       "       [1, 1, 0, 0, 0, 0],\n",
       "       [1, 1, 1, 0, 0, 0],\n",
       "       [1, 1, 1, 1, 0, 0],\n",
       "       [1, 1, 1, 1, 1, 0],\n",
       "       [1, 1, 1, 1, 1, 1]], dtype=float32)"
      ]
     },
     "execution_count": 27,
     "metadata": {},
     "output_type": "execute_result"
    }
   ],
   "source": [
    "context_length = attn_scores.shape[0]\n",
    "mask_simple = mx.tril(mx.ones((context_length, context_length)), k=0)\n",
    "mask_simple"
   ]
  },
  {
   "cell_type": "code",
   "execution_count": 28,
   "id": "f5db768f",
   "metadata": {},
   "outputs": [
    {
     "data": {
      "text/plain": [
       "array([[0.166613, 0, 0, 0, 0, 0],\n",
       "       [0.166577, 0.1661, 0, 0, 0, 0],\n",
       "       [0.166569, 0.166107, 0.166152, 0, 0, 0],\n",
       "       [0.166643, 0.166358, 0.166385, 0.166862, 0, 0],\n",
       "       [0.166447, 0.16638, 0.166393, 0.166994, 0.166961, 0],\n",
       "       [0.166719, 0.166275, 0.166314, 0.166853, 0.167416, 0.166423]], dtype=float32)"
      ]
     },
     "execution_count": 28,
     "metadata": {},
     "output_type": "execute_result"
    }
   ],
   "source": [
    "masked_simple = attn_weights * mask_simple\n",
    "masked_simple"
   ]
  },
  {
   "cell_type": "code",
   "execution_count": 29,
   "id": "b25c3efb",
   "metadata": {},
   "outputs": [
    {
     "data": {
      "text/plain": [
       "array([[1, 0, 0, 0, 0, 0],\n",
       "       [0.500717, 0.499283, 0, 0, 0, 0],\n",
       "       [0.333921, 0.332994, 0.333085, 0, 0, 0],\n",
       "       [0.250121, 0.249694, 0.249734, 0.25045, 0, 0],\n",
       "       [0.199775, 0.199694, 0.199709, 0.200431, 0.200391, 0],\n",
       "       [0.166719, 0.166275, 0.166314, 0.166853, 0.167416, 0.166423]], dtype=float32)"
      ]
     },
     "execution_count": 29,
     "metadata": {},
     "output_type": "execute_result"
    }
   ],
   "source": [
    "row_sums = masked_simple.sum(axis=-1, keepdims=True)\n",
    "masked_simple_norm = masked_simple / row_sums\n",
    "masked_simple_norm"
   ]
  },
  {
   "cell_type": "code",
   "execution_count": 30,
   "id": "94421c2b",
   "metadata": {},
   "outputs": [
    {
     "data": {
      "text/plain": [
       "array([[-0.296727, -inf, -inf, -inf, -inf, -inf],\n",
       "       [-0.412889, -0.527579, -inf, -inf, -inf, -inf],\n",
       "       [-0.412098, -0.523246, -0.512378, -inf, -inf, -inf],\n",
       "       [-0.214446, -0.28282, -0.27638, -0.161949, -inf, -inf],\n",
       "       [-0.281896, -0.297944, -0.29498, -0.150774, -0.15863, -inf],\n",
       "       [-0.237691, -0.344331, -0.334893, -0.20546, -0.0706202, -0.308676]], dtype=float32)"
      ]
     },
     "execution_count": 30,
     "metadata": {},
     "output_type": "execute_result"
    }
   ],
   "source": [
    "mask = mx.tril(mx.ones((context_length, context_length)), k=0)\n",
    "masked = mx.where(mask.astype(mx.bool_), attn_scores, -mx.inf)\n",
    "masked"
   ]
  },
  {
   "cell_type": "code",
   "execution_count": 31,
   "id": "34018a0e",
   "metadata": {},
   "outputs": [
    {
     "data": {
      "text/plain": [
       "array([[1, 0, 0, 0, 0, 0],\n",
       "       [0.527668, 0.472332, 0, 0, 0, 0],\n",
       "       [0.356394, 0.320114, 0.323492, 0, 0, 0],\n",
       "       [0.254451, 0.238188, 0.239675, 0.267686, 0, 0],\n",
       "       [0.191076, 0.188136, 0.188676, 0.216876, 0.215236, 0],\n",
       "       [0.167983, 0.151541, 0.152929, 0.173295, 0.197402, 0.156851]], dtype=float32)"
      ]
     },
     "execution_count": 31,
     "metadata": {},
     "output_type": "execute_result"
    }
   ],
   "source": [
    "attn_weights = mx.softmax(masked / keys.shape[-1]**0.05, axis=-1)\n",
    "attn_weights"
   ]
  },
  {
   "cell_type": "code",
   "execution_count": 32,
   "id": "f4a230ec",
   "metadata": {},
   "outputs": [
    {
     "data": {
      "text/plain": [
       "(array([[0, 2, 0, 0, 0, 0],\n",
       "        [0, 0, 0, 0, 2, 2],\n",
       "        [0, 0, 0, 2, 2, 0],\n",
       "        [2, 2, 0, 0, 0, 2],\n",
       "        [2, 2, 0, 0, 2, 2],\n",
       "        [0, 0, 2, 0, 2, 2]], dtype=float32),\n",
       " array([[1, 1, 1, 1, 1, 1],\n",
       "        [1, 1, 1, 1, 1, 1],\n",
       "        [1, 1, 1, 1, 1, 1],\n",
       "        [1, 1, 1, 1, 1, 1],\n",
       "        [1, 1, 1, 1, 1, 1],\n",
       "        [1, 1, 1, 1, 1, 1]], dtype=float32))"
      ]
     },
     "execution_count": 32,
     "metadata": {},
     "output_type": "execute_result"
    }
   ],
   "source": [
    "mx.random.seed(123)\n",
    "dropout = nn.Dropout(0.5)\n",
    "example = mx.ones((6,6))\n",
    "dropout(example), example  # non-droped values are scaled by a factor of 1/(1-p) (p=0.5)"
   ]
  },
  {
   "cell_type": "code",
   "execution_count": 33,
   "id": "4c3f59e1",
   "metadata": {},
   "outputs": [
    {
     "data": {
      "text/plain": [
       "(2, 6, 3)"
      ]
     },
     "execution_count": 33,
     "metadata": {},
     "output_type": "execute_result"
    }
   ],
   "source": [
    "batch = mx.stack((inputs, inputs), axis=0)\n",
    "batch.shape"
   ]
  },
  {
   "cell_type": "code",
   "execution_count": 34,
   "id": "f8024a37",
   "metadata": {},
   "outputs": [],
   "source": [
    "class CausalAttention(nn.Module):\n",
    "    def __init__(self, d_in, d_out, context_length, dropout, qkv_bias=False):\n",
    "        super().__init__()\n",
    "        self.W_query = nn.Linear(d_in, d_out, bias=qkv_bias)\n",
    "        self.W_key   = nn.Linear(d_in, d_out, bias=qkv_bias)\n",
    "        self.W_value = nn.Linear(d_in, d_out, bias=qkv_bias)\n",
    "        self.dropout = nn.Dropout(dropout)\n",
    "        # This mask is a constant, not a trainable parameter\n",
    "        self.mask = mx.tril(mx.ones((context_length, context_length)), k=0) \n",
    "    \n",
    "    def forward(self, x):\n",
    "        b, num_tokens, d_in = x.shape\n",
    "        keys = self.W_key(x)\n",
    "        queries = self.W_query(x)\n",
    "        values = self.W_value(x)\n",
    "\n",
    "        attn_scores = queries @ keys.transpose((0, 2, 1))\n",
    "        attn_scores = mx.where(\n",
    "            self.mask.astype(mx.bool_),\n",
    "            attn_scores,\n",
    "            -mx.inf\n",
    "        )\n",
    "        attn_weights = mx.softmax(attn_scores / keys.shape[-1]**0.05, axis=-1)\n",
    "        attn_weights = self.dropout(attn_weights)\n",
    "\n",
    "        context_vec = attn_weights @ values\n",
    "        return context_vec\n",
    "    \n",
    "    def __call__(self, x):\n",
    "        return self.forward(x)"
   ]
  },
  {
   "cell_type": "code",
   "execution_count": 35,
   "id": "1787a421",
   "metadata": {},
   "outputs": [],
   "source": [
    "mx.random.seed(123)\n",
    "context_length = batch.shape[1]\n",
    "ca = CausalAttention(d_in, d_out, context_length, 0.0).freeze(keys=\"mask\")"
   ]
  },
  {
   "cell_type": "code",
   "execution_count": 36,
   "id": "6ff78c78",
   "metadata": {},
   "outputs": [
    {
     "data": {
      "text/plain": [
       "(array([[[-0.320789, -0.44129],\n",
       "         [-0.409692, -0.465929],\n",
       "         [-0.434428, -0.468376],\n",
       "         [-0.408975, -0.422795],\n",
       "         [-0.306576, -0.326374],\n",
       "         [-0.340087, -0.348353]],\n",
       "        [[-0.320789, -0.44129],\n",
       "         [-0.409692, -0.465929],\n",
       "         [-0.434428, -0.468376],\n",
       "         [-0.408975, -0.422795],\n",
       "         [-0.306576, -0.326374],\n",
       "         [-0.340087, -0.348353]]], dtype=float32),\n",
       " (2, 6, 2))"
      ]
     },
     "execution_count": 36,
     "metadata": {},
     "output_type": "execute_result"
    }
   ],
   "source": [
    "context_vecs = ca(batch)\n",
    "context_vecs, context_vecs.shape"
   ]
  },
  {
   "cell_type": "markdown",
   "id": "3aa50d12",
   "metadata": {},
   "source": [
    "# Extending single-head attention to multi-head attention"
   ]
  },
  {
   "cell_type": "code",
   "execution_count": 37,
   "id": "d8cc06bb",
   "metadata": {},
   "outputs": [],
   "source": [
    "class MultiHeadAttentionWrapper(nn.Module):\n",
    "    def __init__(self, d_in, d_out, context_length, dropout, num_heads, qwk_bias=False):\n",
    "        super().__init__()\n",
    "        self.heads = [\n",
    "            CausalAttention(d_in, d_out, context_length, dropout, qwk_bias)\n",
    "            for _ in range(num_heads)\n",
    "        ]\n",
    "    def forward(self, x):\n",
    "        return mx.concat([head(x) for head in self.heads], axis=-1)\n",
    "    \n",
    "    def __call__(self, x):\n",
    "        return self.forward(x)"
   ]
  },
  {
   "cell_type": "code",
   "execution_count": 38,
   "id": "c3ebb7e0",
   "metadata": {},
   "outputs": [
    {
     "data": {
      "text/plain": [
       "(array([[[-0.320789, -0.44129, -0.29132, -0.473982],\n",
       "         [-0.409692, -0.465929, -0.293583, -0.425317],\n",
       "         [-0.434428, -0.468376, -0.287393, -0.411218],\n",
       "         [-0.408975, -0.422795, -0.265838, -0.343605],\n",
       "         [-0.306576, -0.326374, -0.18771, -0.354522],\n",
       "         [-0.340087, -0.348353, -0.231509, -0.304149]],\n",
       "        [[-0.320789, -0.44129, -0.29132, -0.473982],\n",
       "         [-0.409692, -0.465929, -0.293583, -0.425317],\n",
       "         [-0.434428, -0.468376, -0.287393, -0.411218],\n",
       "         [-0.408975, -0.422795, -0.265838, -0.343605],\n",
       "         [-0.306576, -0.326374, -0.18771, -0.354522],\n",
       "         [-0.340087, -0.348353, -0.231509, -0.304149]]], dtype=float32),\n",
       " (2, 6, 4))"
      ]
     },
     "execution_count": 38,
     "metadata": {},
     "output_type": "execute_result"
    }
   ],
   "source": [
    "mx.random.seed(123)\n",
    "context_length = batch.shape[1]\n",
    "d_in, d_out = 3, 2\n",
    "mha = MultiHeadAttentionWrapper(d_in, d_out, context_length, 0.0, num_heads=2)\n",
    "context_vecs = mha(batch)\n",
    "context_vecs, context_vecs.shape"
   ]
  },
  {
   "cell_type": "code",
   "execution_count": 39,
   "id": "3e4c9ea9",
   "metadata": {},
   "outputs": [],
   "source": [
    "# instead of concatenating, create single W_query, W_key, and W_value weight matrices \n",
    "# and split those into individual matrices for each attention heads. \n",
    "class MultiHeadAttention(nn.Module):\n",
    "    def __init__(self, d_in, d_out, context_length, dropout, num_heads, qkv_bias=False):\n",
    "        super().__init__()\n",
    "        assert (d_out % num_heads == 0), \"d_out must be divisible by num_heads\"\n",
    "\n",
    "        self.d_out = d_out\n",
    "        self.num_heads = num_heads\n",
    "        self.head_dim = d_out // num_heads  # projection dim to match desired output dim\n",
    "\n",
    "        self.W_query = nn.Linear(d_in, d_out, bias=qkv_bias)\n",
    "        self.W_key = nn.Linear(d_in, d_out, bias=qkv_bias)\n",
    "        self.W_value = nn.Linear(d_in, d_out, bias=qkv_bias)\n",
    "        self.out_proj = nn.Linear(d_out, d_out)  # linear layer to combine head outputs\n",
    "        self.dropout = nn.Dropout(dropout)\n",
    "        self.mask = mx.tril(mx.ones((context_length, context_length)), k=0)\n",
    "\n",
    "    def forward(self, x):\n",
    "        b, num_tokens, d_in = x.shape\n",
    "        keys = self.W_key(x)\n",
    "        queries = self.W_query(x)\n",
    "        values = self.W_value(x)\n",
    "\n",
    "        # splitting the matrix by addinga num_heads dimension\n",
    "        keys = keys.reshape(b, num_tokens, self.num_heads, self.head_dim)\n",
    "        queries = queries.reshape(b, num_tokens, self.num_heads, self.head_dim)\n",
    "        values = values.reshape(b, num_tokens, self.num_heads, self.head_dim)\n",
    "\n",
    "        # (b, num_tokens, num_heads, head_dim) -> (b, num_heads, num_tokens, head_dim)\n",
    "        keys = keys.transpose((0, 2, 1, 3))\n",
    "        queries = queries.transpose((0, 2, 1, 3))\n",
    "        values = values.transpose((0, 2, 1, 3))\n",
    "\n",
    "        attn_scores = queries @ keys.transpose((0, 1, 3, 2))\n",
    "        mask_bool = self.mask.astype(mx.bool_)[:num_tokens, :num_tokens]\n",
    "        attn_scores = mx.where(mask_bool, attn_scores, -mx.inf)\n",
    "        attn_weights = mx.softmax(attn_scores / keys.shape[-1]**0.5, axis=-1)\n",
    "        attn_weights = self.dropout(attn_weights)\n",
    "\n",
    "        context_vec = (attn_weights @ values).transpose(0, 2, 1, 3)\n",
    "        # combine heads; self.d_out = self.num_heads * self.head_dim\n",
    "        context_vec = context_vec.reshape(b, num_tokens, self.d_out)\n",
    "        context_vec = self.out_proj(context_vec)\n",
    "        return context_vec\n",
    "    \n",
    "    def __call__(self, x):\n",
    "        return self.forward(x)\n"
   ]
  },
  {
   "cell_type": "code",
   "execution_count": 40,
   "id": "0ec12f56",
   "metadata": {},
   "outputs": [
    {
     "data": {
      "text/plain": [
       "array([[1, 2, 3, 4]], dtype=int32)"
      ]
     },
     "execution_count": 40,
     "metadata": {},
     "output_type": "execute_result"
    }
   ],
   "source": [
    "mx.array([1,2,3,4]).reshape(1, 4)"
   ]
  },
  {
   "cell_type": "code",
   "execution_count": 41,
   "id": "c74be6dd",
   "metadata": {},
   "outputs": [
    {
     "data": {
      "text/plain": [
       "(array([[[0.409174, 0.713412],\n",
       "         [0.384418, 0.771063],\n",
       "         [0.379907, 0.784335],\n",
       "         [0.402935, 0.767026],\n",
       "         [0.461338, 0.713255],\n",
       "         [0.446312, 0.741353]],\n",
       "        [[0.409174, 0.713412],\n",
       "         [0.384418, 0.771063],\n",
       "         [0.379907, 0.784335],\n",
       "         [0.402935, 0.767026],\n",
       "         [0.461338, 0.713255],\n",
       "         [0.446312, 0.741353]]], dtype=float32),\n",
       " (2, 6, 2))"
      ]
     },
     "execution_count": 41,
     "metadata": {},
     "output_type": "execute_result"
    }
   ],
   "source": [
    "mx.random.seed(123)\n",
    "batch_size, context_length, d_in = batch.shape\n",
    "d_out = 2\n",
    "mha = MultiHeadAttention(d_in, d_out, context_length, 0.0, num_heads=2).freeze(keys=\"mask\")\n",
    "context_vecs = mha(batch)\n",
    "context_vecs, context_vecs.shape"
   ]
  },
  {
   "cell_type": "code",
   "execution_count": null,
   "id": "3ca1d9a2",
   "metadata": {},
   "outputs": [
    {
     "data": {
      "text/plain": [
       "60"
      ]
     },
     "execution_count": 46,
     "metadata": {},
     "output_type": "execute_result"
    }
   ],
   "source": [
    "from mlx.utils import tree_flatten\n",
    "sum(v.size for _, v in tree_flatten(mha.parameters()))"
   ]
  }
 ],
 "metadata": {
  "kernelspec": {
   "display_name": "llms-from-scratch-mlx",
   "language": "python",
   "name": "python3"
  },
  "language_info": {
   "codemirror_mode": {
    "name": "ipython",
    "version": 3
   },
   "file_extension": ".py",
   "mimetype": "text/x-python",
   "name": "python",
   "nbconvert_exporter": "python",
   "pygments_lexer": "ipython3",
   "version": "3.13.6"
  }
 },
 "nbformat": 4,
 "nbformat_minor": 5
}
