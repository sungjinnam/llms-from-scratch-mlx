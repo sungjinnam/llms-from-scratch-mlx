{
 "cells": [
  {
   "cell_type": "code",
   "execution_count": 1,
   "id": "5fc23e93",
   "metadata": {},
   "outputs": [],
   "source": [
    "import mlx.core as mx"
   ]
  },
  {
   "cell_type": "markdown",
   "id": "6ff1dcf9",
   "metadata": {},
   "source": [
    "# Attending to different parts of the input with self-attention"
   ]
  },
  {
   "cell_type": "code",
   "execution_count": 2,
   "id": "b53cfb7d",
   "metadata": {},
   "outputs": [],
   "source": [
    "inputs = mx.array(\n",
    "  [[0.43, 0.15, 0.89], # Your     (x^1)\n",
    "   [0.55, 0.87, 0.66], # journey  (x^2)\n",
    "   [0.57, 0.85, 0.64], # starts   (x^3)\n",
    "   [0.22, 0.58, 0.33], # with     (x^4)\n",
    "   [0.77, 0.25, 0.10], # one      (x^5)\n",
    "   [0.05, 0.80, 0.55]] # step     (x^6)\n",
    ")"
   ]
  },
  {
   "cell_type": "code",
   "execution_count": 10,
   "id": "b7d98ffb",
   "metadata": {},
   "outputs": [
    {
     "data": {
      "text/plain": [
       "array([0.9544, 1.495, 1.4754, 0.8434, 0.707, 1.0865], dtype=float32)"
      ]
     },
     "execution_count": 10,
     "metadata": {},
     "output_type": "execute_result"
    }
   ],
   "source": [
    "query = inputs[1]\n",
    "attn_scores_2 = mx.zeros(inputs.shape[0])\n",
    "for i, x_i in enumerate(inputs):\n",
    "    attn_scores_2[i] = mx.matmul(x_i, query)\n",
    "attn_scores_2"
   ]
  },
  {
   "cell_type": "code",
   "execution_count": 11,
   "id": "63cc0897",
   "metadata": {},
   "outputs": [
    {
     "data": {
      "text/plain": [
       "(array(0.9544, dtype=float32), array(0.9544, dtype=float32))"
      ]
     },
     "execution_count": 11,
     "metadata": {},
     "output_type": "execute_result"
    }
   ],
   "source": [
    "res = 0.\n",
    "for i, element in enumerate(inputs[0]):\n",
    "    res += inputs[0][i] * query[i]\n",
    "res, mx.matmul(inputs[0], query)"
   ]
  },
  {
   "cell_type": "code",
   "execution_count": 12,
   "id": "116f1de4",
   "metadata": {},
   "outputs": [
    {
     "name": "stdout",
     "output_type": "stream",
     "text": [
      "attention weights: array([0.14545, 0.227837, 0.22485, 0.128534, 0.107746, 0.165582], dtype=float32)\n",
      "sum: array(1, dtype=float32)\n"
     ]
    }
   ],
   "source": [
    "attn_weights_2_tmp = attn_scores_2 / attn_scores_2.sum()\n",
    "print(\"attention weights:\", attn_weights_2_tmp)\n",
    "print(\"sum:\", attn_weights_2_tmp.sum())"
   ]
  },
  {
   "cell_type": "code",
   "execution_count": null,
   "id": "4b92ede3",
   "metadata": {},
   "outputs": [
    {
     "name": "stdout",
     "output_type": "stream",
     "text": [
      "attention weights (naive): array([0.138548, 0.237891, 0.233274, 0.123992, 0.108182, 0.158114], dtype=float32)\n",
      "sum: array(1, dtype=float32)\n",
      "attention weights (mlx): array([0.138548, 0.237891, 0.233274, 0.123992, 0.108182, 0.158114], dtype=float32)\n",
      "sum: array(1, dtype=float32)\n"
     ]
    }
   ],
   "source": [
    "def softmax_naive(x):\n",
    "    return mx.exp(x) / mx.exp(x).sum(axis=0)\n",
    "\n",
    "attn_weights_2_naive = softmax_naive(attn_scores_2)\n",
    "print(\"attention weights (naive):\", attn_weights_2_naive)\n",
    "print(\"sum:\", attn_weights_2_naive.sum())\n",
    "\n",
    "attn_weights_2 = mx.softmax(attn_scores_2, axis=0)\n",
    "print(\"attention weights (mlx):\", attn_weights_2)\n",
    "print(\"sum:\", attn_weights_2.sum())"
   ]
  },
  {
   "cell_type": "code",
   "execution_count": 15,
   "id": "41a027aa",
   "metadata": {},
   "outputs": [
    {
     "data": {
      "text/plain": [
       "array([0.441866, 0.651482, 0.568309], dtype=float32)"
      ]
     },
     "execution_count": 15,
     "metadata": {},
     "output_type": "execute_result"
    }
   ],
   "source": [
    "query = inputs[1]\n",
    "context_vec_2 = mx.zeros(query.shape)\n",
    "for i, x_i in enumerate(inputs):\n",
    "    context_vec_2 += attn_weights_2[i] * x_i\n",
    "context_vec_2"
   ]
  },
  {
   "cell_type": "code",
   "execution_count": 17,
   "id": "954d8248",
   "metadata": {},
   "outputs": [
    {
     "data": {
      "text/plain": [
       "array([[0.9995, 0.9544, 0.9422, 0.4753, 0.4576, 0.631],\n",
       "       [0.9544, 1.495, 1.4754, 0.8434, 0.707, 1.0865],\n",
       "       [0.9422, 1.4754, 1.457, 0.8296, 0.7154, 1.0605],\n",
       "       [0.4753, 0.8434, 0.8296, 0.4937, 0.3474, 0.6565],\n",
       "       [0.4576, 0.707, 0.7154, 0.3474, 0.6654, 0.2935],\n",
       "       [0.631, 1.0865, 1.0605, 0.6565, 0.2935, 0.945]], dtype=float32)"
      ]
     },
     "execution_count": 17,
     "metadata": {},
     "output_type": "execute_result"
    }
   ],
   "source": [
    "attn_scores = mx.zeros((6, 6))\n",
    "for i, x_i in enumerate(inputs):\n",
    "    for j, x_j in enumerate(inputs):\n",
    "        attn_scores[i, j] = mx.matmul(x_i, x_j)\n",
    "attn_scores"
   ]
  },
  {
   "cell_type": "code",
   "execution_count": 19,
   "id": "89493afd",
   "metadata": {},
   "outputs": [
    {
     "data": {
      "text/plain": [
       "array([[0.9995, 0.9544, 0.9422, 0.4753, 0.4576, 0.631],\n",
       "       [0.9544, 1.495, 1.4754, 0.8434, 0.707, 1.0865],\n",
       "       [0.9422, 1.4754, 1.457, 0.8296, 0.7154, 1.0605],\n",
       "       [0.4753, 0.8434, 0.8296, 0.4937, 0.3474, 0.6565],\n",
       "       [0.4576, 0.707, 0.7154, 0.3474, 0.6654, 0.2935],\n",
       "       [0.631, 1.0865, 1.0605, 0.6565, 0.2935, 0.945]], dtype=float32)"
      ]
     },
     "execution_count": 19,
     "metadata": {},
     "output_type": "execute_result"
    }
   ],
   "source": [
    "attn_scores = inputs @ inputs.T\n",
    "attn_scores"
   ]
  },
  {
   "cell_type": "code",
   "execution_count": 21,
   "id": "ba9f555a",
   "metadata": {},
   "outputs": [
    {
     "data": {
      "text/plain": [
       "array([[0.209835, 0.200581, 0.198149, 0.124228, 0.122049, 0.145158],\n",
       "       [0.138548, 0.237891, 0.233274, 0.123992, 0.108182, 0.158114],\n",
       "       [0.139008, 0.236921, 0.232602, 0.124204, 0.1108, 0.156464],\n",
       "       [0.143527, 0.207394, 0.204552, 0.146192, 0.126295, 0.172039],\n",
       "       [0.152611, 0.195839, 0.197491, 0.136687, 0.187859, 0.129514],\n",
       "       [0.138471, 0.218364, 0.212759, 0.142048, 0.0988064, 0.189552]], dtype=float32)"
      ]
     },
     "execution_count": 21,
     "metadata": {},
     "output_type": "execute_result"
    }
   ],
   "source": [
    "attn_weights = mx.softmax(attn_scores, axis=-1)\n",
    "attn_weights"
   ]
  },
  {
   "cell_type": "code",
   "execution_count": 28,
   "id": "2f7c06dd",
   "metadata": {},
   "outputs": [
    {
     "name": "stdout",
     "output_type": "stream",
     "text": [
      "row 2 sum: 1.000001\n",
      "all row sums: array([1, 1, 1, 1, 1, 1], dtype=float32)\n"
     ]
    }
   ],
   "source": [
    "row_2_sum = sum([0.138548, 0.237891, 0.233274, 0.123992, 0.108182, 0.158114])\n",
    "print('row 2 sum:', row_2_sum)\n",
    "print('all row sums:', attn_weights.sum(axis=-1))"
   ]
  },
  {
   "cell_type": "code",
   "execution_count": 29,
   "id": "bd363f1e",
   "metadata": {},
   "outputs": [
    {
     "data": {
      "text/plain": [
       "array([[0.442059, 0.593099, 0.578989],\n",
       "       [0.441866, 0.651482, 0.568309],\n",
       "       [0.443128, 0.649595, 0.567073],\n",
       "       [0.43039, 0.629828, 0.551027],\n",
       "       [0.467102, 0.590993, 0.526596],\n",
       "       [0.417724, 0.650323, 0.564535]], dtype=float32)"
      ]
     },
     "execution_count": 29,
     "metadata": {},
     "output_type": "execute_result"
    }
   ],
   "source": [
    "all_context_vecs = attn_weights @ inputs\n",
    "all_context_vecs"
   ]
  },
  {
   "cell_type": "markdown",
   "id": "d7bc7a8d",
   "metadata": {},
   "source": [
    "# Implementing self-attention with trainable weights"
   ]
  },
  {
   "cell_type": "code",
   "execution_count": 31,
   "id": "0d11b862",
   "metadata": {},
   "outputs": [],
   "source": [
    "import mlx.nn as nn"
   ]
  },
  {
   "cell_type": "code",
   "execution_count": 30,
   "id": "f0c36171",
   "metadata": {},
   "outputs": [],
   "source": [
    "x_2 = inputs[1]\n",
    "d_in = inputs.shape[1]\n",
    "d_out = 2"
   ]
  },
  {
   "cell_type": "code",
   "execution_count": 37,
   "id": "4228decc",
   "metadata": {},
   "outputs": [],
   "source": [
    "mx.random.seed(123)\n",
    "W_query = nn.init.uniform()(mx.zeros((d_in, d_out)))\n",
    "W_key = nn.init.uniform()(mx.zeros((d_in, d_out)))\n",
    "W_value = nn.init.uniform()(mx.zeros((d_in, d_out)))"
   ]
  },
  {
   "cell_type": "code",
   "execution_count": 38,
   "id": "2c39b706",
   "metadata": {},
   "outputs": [
    {
     "data": {
      "text/plain": [
       "(array([0.730349, 1.27947], dtype=float32),\n",
       " array([1.31264, 1.31876], dtype=float32),\n",
       " array([0.699694, 0.660281], dtype=float32))"
      ]
     },
     "execution_count": 38,
     "metadata": {},
     "output_type": "execute_result"
    }
   ],
   "source": [
    "query_2 = x_2 @ W_query\n",
    "key_2 = x_2 @ W_key\n",
    "value_2 = x_2 @ W_value\n",
    "query_2, key_2, value_2"
   ]
  },
  {
   "cell_type": "code",
   "execution_count": 39,
   "id": "57a69376",
   "metadata": {},
   "outputs": [
    {
     "data": {
      "text/plain": [
       "((6, 2), (6, 2))"
      ]
     },
     "execution_count": 39,
     "metadata": {},
     "output_type": "execute_result"
    }
   ],
   "source": [
    "keys = inputs @ W_key\n",
    "values = inputs @ W_value\n",
    "keys.shape, values.shape"
   ]
  }
 ],
 "metadata": {
  "kernelspec": {
   "display_name": "llms-from-scratch-mlx",
   "language": "python",
   "name": "python3"
  },
  "language_info": {
   "codemirror_mode": {
    "name": "ipython",
    "version": 3
   },
   "file_extension": ".py",
   "mimetype": "text/x-python",
   "name": "python",
   "nbconvert_exporter": "python",
   "pygments_lexer": "ipython3",
   "version": "3.13.6"
  }
 },
 "nbformat": 4,
 "nbformat_minor": 5
}
