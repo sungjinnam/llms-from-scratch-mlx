{
 "cells": [
  {
   "cell_type": "code",
   "execution_count": 1,
   "id": "b0c0622d",
   "metadata": {},
   "outputs": [],
   "source": [
    "import mlx.core as mx\n",
    "import mlx.nn as nn"
   ]
  },
  {
   "cell_type": "markdown",
   "id": "ab0bf8ad",
   "metadata": {},
   "source": [
    "# Evaluating text model"
   ]
  },
  {
   "cell_type": "code",
   "execution_count": 2,
   "id": "39ff7693",
   "metadata": {},
   "outputs": [
    {
     "data": {
      "text/plain": [
       "GPTModel(\n",
       "  (tok_emb): Embedding(50257, 768)\n",
       "  (pos_emb): Embedding(50257, 768)\n",
       "  (drop_emb): Dropout(p=0.09999999999999998)\n",
       "  (trf_blocks): Sequential(\n",
       "    (layers.0): TransformerBlock(\n",
       "      (att): MultiHeadAttention(\n",
       "        (W_query): Linear(input_dims=768, output_dims=768, bias=False)\n",
       "        (W_key): Linear(input_dims=768, output_dims=768, bias=False)\n",
       "        (W_value): Linear(input_dims=768, output_dims=768, bias=False)\n",
       "        (out_proj): Linear(input_dims=768, output_dims=768, bias=True)\n",
       "        (dropout): Dropout(p=0.09999999999999998)\n",
       "      )\n",
       "      (ff): FeedForward(\n",
       "        (layers): Sequential(\n",
       "          (layers.0): Linear(input_dims=768, output_dims=3072, bias=True)\n",
       "          (layers.1): GELU()\n",
       "          (layers.2): Linear(input_dims=3072, output_dims=768, bias=True)\n",
       "        )\n",
       "      )\n",
       "      (norm1): LayerNorm()\n",
       "      (norm2): LayerNorm()\n",
       "      (drop_shortcut): Dropout(p=0.09999999999999998)\n",
       "    )\n",
       "    (layers.1): TransformerBlock(\n",
       "      (att): MultiHeadAttention(\n",
       "        (W_query): Linear(input_dims=768, output_dims=768, bias=False)\n",
       "        (W_key): Linear(input_dims=768, output_dims=768, bias=False)\n",
       "        (W_value): Linear(input_dims=768, output_dims=768, bias=False)\n",
       "        (out_proj): Linear(input_dims=768, output_dims=768, bias=True)\n",
       "        (dropout): Dropout(p=0.09999999999999998)\n",
       "      )\n",
       "      (ff): FeedForward(\n",
       "        (layers): Sequential(\n",
       "          (layers.0): Linear(input_dims=768, output_dims=3072, bias=True)\n",
       "          (layers.1): GELU()\n",
       "          (layers.2): Linear(input_dims=3072, output_dims=768, bias=True)\n",
       "        )\n",
       "      )\n",
       "      (norm1): LayerNorm()\n",
       "      (norm2): LayerNorm()\n",
       "      (drop_shortcut): Dropout(p=0.09999999999999998)\n",
       "    )\n",
       "    (layers.2): TransformerBlock(\n",
       "      (att): MultiHeadAttention(\n",
       "        (W_query): Linear(input_dims=768, output_dims=768, bias=False)\n",
       "        (W_key): Linear(input_dims=768, output_dims=768, bias=False)\n",
       "        (W_value): Linear(input_dims=768, output_dims=768, bias=False)\n",
       "        (out_proj): Linear(input_dims=768, output_dims=768, bias=True)\n",
       "        (dropout): Dropout(p=0.09999999999999998)\n",
       "      )\n",
       "      (ff): FeedForward(\n",
       "        (layers): Sequential(\n",
       "          (layers.0): Linear(input_dims=768, output_dims=3072, bias=True)\n",
       "          (layers.1): GELU()\n",
       "          (layers.2): Linear(input_dims=3072, output_dims=768, bias=True)\n",
       "        )\n",
       "      )\n",
       "      (norm1): LayerNorm()\n",
       "      (norm2): LayerNorm()\n",
       "      (drop_shortcut): Dropout(p=0.09999999999999998)\n",
       "    )\n",
       "    (layers.3): TransformerBlock(\n",
       "      (att): MultiHeadAttention(\n",
       "        (W_query): Linear(input_dims=768, output_dims=768, bias=False)\n",
       "        (W_key): Linear(input_dims=768, output_dims=768, bias=False)\n",
       "        (W_value): Linear(input_dims=768, output_dims=768, bias=False)\n",
       "        (out_proj): Linear(input_dims=768, output_dims=768, bias=True)\n",
       "        (dropout): Dropout(p=0.09999999999999998)\n",
       "      )\n",
       "      (ff): FeedForward(\n",
       "        (layers): Sequential(\n",
       "          (layers.0): Linear(input_dims=768, output_dims=3072, bias=True)\n",
       "          (layers.1): GELU()\n",
       "          (layers.2): Linear(input_dims=3072, output_dims=768, bias=True)\n",
       "        )\n",
       "      )\n",
       "      (norm1): LayerNorm()\n",
       "      (norm2): LayerNorm()\n",
       "      (drop_shortcut): Dropout(p=0.09999999999999998)\n",
       "    )\n",
       "    (layers.4): TransformerBlock(\n",
       "      (att): MultiHeadAttention(\n",
       "        (W_query): Linear(input_dims=768, output_dims=768, bias=False)\n",
       "        (W_key): Linear(input_dims=768, output_dims=768, bias=False)\n",
       "        (W_value): Linear(input_dims=768, output_dims=768, bias=False)\n",
       "        (out_proj): Linear(input_dims=768, output_dims=768, bias=True)\n",
       "        (dropout): Dropout(p=0.09999999999999998)\n",
       "      )\n",
       "      (ff): FeedForward(\n",
       "        (layers): Sequential(\n",
       "          (layers.0): Linear(input_dims=768, output_dims=3072, bias=True)\n",
       "          (layers.1): GELU()\n",
       "          (layers.2): Linear(input_dims=3072, output_dims=768, bias=True)\n",
       "        )\n",
       "      )\n",
       "      (norm1): LayerNorm()\n",
       "      (norm2): LayerNorm()\n",
       "      (drop_shortcut): Dropout(p=0.09999999999999998)\n",
       "    )\n",
       "    (layers.5): TransformerBlock(\n",
       "      (att): MultiHeadAttention(\n",
       "        (W_query): Linear(input_dims=768, output_dims=768, bias=False)\n",
       "        (W_key): Linear(input_dims=768, output_dims=768, bias=False)\n",
       "        (W_value): Linear(input_dims=768, output_dims=768, bias=False)\n",
       "        (out_proj): Linear(input_dims=768, output_dims=768, bias=True)\n",
       "        (dropout): Dropout(p=0.09999999999999998)\n",
       "      )\n",
       "      (ff): FeedForward(\n",
       "        (layers): Sequential(\n",
       "          (layers.0): Linear(input_dims=768, output_dims=3072, bias=True)\n",
       "          (layers.1): GELU()\n",
       "          (layers.2): Linear(input_dims=3072, output_dims=768, bias=True)\n",
       "        )\n",
       "      )\n",
       "      (norm1): LayerNorm()\n",
       "      (norm2): LayerNorm()\n",
       "      (drop_shortcut): Dropout(p=0.09999999999999998)\n",
       "    )\n",
       "    (layers.6): TransformerBlock(\n",
       "      (att): MultiHeadAttention(\n",
       "        (W_query): Linear(input_dims=768, output_dims=768, bias=False)\n",
       "        (W_key): Linear(input_dims=768, output_dims=768, bias=False)\n",
       "        (W_value): Linear(input_dims=768, output_dims=768, bias=False)\n",
       "        (out_proj): Linear(input_dims=768, output_dims=768, bias=True)\n",
       "        (dropout): Dropout(p=0.09999999999999998)\n",
       "      )\n",
       "      (ff): FeedForward(\n",
       "        (layers): Sequential(\n",
       "          (layers.0): Linear(input_dims=768, output_dims=3072, bias=True)\n",
       "          (layers.1): GELU()\n",
       "          (layers.2): Linear(input_dims=3072, output_dims=768, bias=True)\n",
       "        )\n",
       "      )\n",
       "      (norm1): LayerNorm()\n",
       "      (norm2): LayerNorm()\n",
       "      (drop_shortcut): Dropout(p=0.09999999999999998)\n",
       "    )\n",
       "    (layers.7): TransformerBlock(\n",
       "      (att): MultiHeadAttention(\n",
       "        (W_query): Linear(input_dims=768, output_dims=768, bias=False)\n",
       "        (W_key): Linear(input_dims=768, output_dims=768, bias=False)\n",
       "        (W_value): Linear(input_dims=768, output_dims=768, bias=False)\n",
       "        (out_proj): Linear(input_dims=768, output_dims=768, bias=True)\n",
       "        (dropout): Dropout(p=0.09999999999999998)\n",
       "      )\n",
       "      (ff): FeedForward(\n",
       "        (layers): Sequential(\n",
       "          (layers.0): Linear(input_dims=768, output_dims=3072, bias=True)\n",
       "          (layers.1): GELU()\n",
       "          (layers.2): Linear(input_dims=3072, output_dims=768, bias=True)\n",
       "        )\n",
       "      )\n",
       "      (norm1): LayerNorm()\n",
       "      (norm2): LayerNorm()\n",
       "      (drop_shortcut): Dropout(p=0.09999999999999998)\n",
       "    )\n",
       "    (layers.8): TransformerBlock(\n",
       "      (att): MultiHeadAttention(\n",
       "        (W_query): Linear(input_dims=768, output_dims=768, bias=False)\n",
       "        (W_key): Linear(input_dims=768, output_dims=768, bias=False)\n",
       "        (W_value): Linear(input_dims=768, output_dims=768, bias=False)\n",
       "        (out_proj): Linear(input_dims=768, output_dims=768, bias=True)\n",
       "        (dropout): Dropout(p=0.09999999999999998)\n",
       "      )\n",
       "      (ff): FeedForward(\n",
       "        (layers): Sequential(\n",
       "          (layers.0): Linear(input_dims=768, output_dims=3072, bias=True)\n",
       "          (layers.1): GELU()\n",
       "          (layers.2): Linear(input_dims=3072, output_dims=768, bias=True)\n",
       "        )\n",
       "      )\n",
       "      (norm1): LayerNorm()\n",
       "      (norm2): LayerNorm()\n",
       "      (drop_shortcut): Dropout(p=0.09999999999999998)\n",
       "    )\n",
       "    (layers.9): TransformerBlock(\n",
       "      (att): MultiHeadAttention(\n",
       "        (W_query): Linear(input_dims=768, output_dims=768, bias=False)\n",
       "        (W_key): Linear(input_dims=768, output_dims=768, bias=False)\n",
       "        (W_value): Linear(input_dims=768, output_dims=768, bias=False)\n",
       "        (out_proj): Linear(input_dims=768, output_dims=768, bias=True)\n",
       "        (dropout): Dropout(p=0.09999999999999998)\n",
       "      )\n",
       "      (ff): FeedForward(\n",
       "        (layers): Sequential(\n",
       "          (layers.0): Linear(input_dims=768, output_dims=3072, bias=True)\n",
       "          (layers.1): GELU()\n",
       "          (layers.2): Linear(input_dims=3072, output_dims=768, bias=True)\n",
       "        )\n",
       "      )\n",
       "      (norm1): LayerNorm()\n",
       "      (norm2): LayerNorm()\n",
       "      (drop_shortcut): Dropout(p=0.09999999999999998)\n",
       "    )\n",
       "    (layers.10): TransformerBlock(\n",
       "      (att): MultiHeadAttention(\n",
       "        (W_query): Linear(input_dims=768, output_dims=768, bias=False)\n",
       "        (W_key): Linear(input_dims=768, output_dims=768, bias=False)\n",
       "        (W_value): Linear(input_dims=768, output_dims=768, bias=False)\n",
       "        (out_proj): Linear(input_dims=768, output_dims=768, bias=True)\n",
       "        (dropout): Dropout(p=0.09999999999999998)\n",
       "      )\n",
       "      (ff): FeedForward(\n",
       "        (layers): Sequential(\n",
       "          (layers.0): Linear(input_dims=768, output_dims=3072, bias=True)\n",
       "          (layers.1): GELU()\n",
       "          (layers.2): Linear(input_dims=3072, output_dims=768, bias=True)\n",
       "        )\n",
       "      )\n",
       "      (norm1): LayerNorm()\n",
       "      (norm2): LayerNorm()\n",
       "      (drop_shortcut): Dropout(p=0.09999999999999998)\n",
       "    )\n",
       "    (layers.11): TransformerBlock(\n",
       "      (att): MultiHeadAttention(\n",
       "        (W_query): Linear(input_dims=768, output_dims=768, bias=False)\n",
       "        (W_key): Linear(input_dims=768, output_dims=768, bias=False)\n",
       "        (W_value): Linear(input_dims=768, output_dims=768, bias=False)\n",
       "        (out_proj): Linear(input_dims=768, output_dims=768, bias=True)\n",
       "        (dropout): Dropout(p=0.09999999999999998)\n",
       "      )\n",
       "      (ff): FeedForward(\n",
       "        (layers): Sequential(\n",
       "          (layers.0): Linear(input_dims=768, output_dims=3072, bias=True)\n",
       "          (layers.1): GELU()\n",
       "          (layers.2): Linear(input_dims=3072, output_dims=768, bias=True)\n",
       "        )\n",
       "      )\n",
       "      (norm1): LayerNorm()\n",
       "      (norm2): LayerNorm()\n",
       "      (drop_shortcut): Dropout(p=0.09999999999999998)\n",
       "    )\n",
       "  )\n",
       "  (final_norm): LayerNorm()\n",
       "  (out_head): Linear(input_dims=768, output_dims=50257, bias=False)\n",
       ")"
      ]
     },
     "execution_count": 2,
     "metadata": {},
     "output_type": "execute_result"
    }
   ],
   "source": [
    "from previous_chapters import GPTModel\n",
    "\n",
    "GPT_CONFIG_124M = {\n",
    "    \"vocab_size\": 50257,\n",
    "    \"context_length\": 256, \n",
    "    \"emb_dim\": 768,\n",
    "    \"n_heads\": 12, \n",
    "    \"n_layers\": 12,\n",
    "    \"drop_rate\": 0.1, \n",
    "    \"qkv_bias\": False,\n",
    "}\n",
    "\n",
    "mx.random.seed(123)\n",
    "model = GPTModel(GPT_CONFIG_124M)\n",
    "model.eval()"
   ]
  },
  {
   "cell_type": "code",
   "execution_count": 9,
   "id": "dbe17449",
   "metadata": {},
   "outputs": [],
   "source": [
    "import tiktoken\n",
    "from previous_chapters import generate_text_simple\n",
    "\n",
    "def text_to_token_ids(text, tokenizer):\n",
    "    encoded = tokenizer.encode(text, allowed_special={\"<|endoftext|>\"})\n",
    "    encoded_tensor = mx.array(encoded)[None, :]\n",
    "    return encoded_tensor\n",
    "\n",
    "def token_ids_to_text(token_ids, tokenizer):\n",
    "    flat = token_ids.squeeze().tolist()\n",
    "    return tokenizer.decode(flat)"
   ]
  },
  {
   "cell_type": "code",
   "execution_count": 4,
   "id": "3c4a1830",
   "metadata": {},
   "outputs": [
    {
     "data": {
      "text/plain": [
       "'Every effort moves you rational ErraterasuOregonOregon Stevenson bur StevensonOregonShot'"
      ]
     },
     "execution_count": 4,
     "metadata": {},
     "output_type": "execute_result"
    }
   ],
   "source": [
    "start_context = \"Every effort moves you\"\n",
    "tokenizer = tiktoken.get_encoding(\"gpt2\")\n",
    "\n",
    "token_ids = generate_text_simple(\n",
    "    model=model,\n",
    "    idx=text_to_token_ids(start_context, tokenizer),\n",
    "    max_new_tokens=10,\n",
    "    context_size=GPT_CONFIG_124M[\"context_length\"],\n",
    ")\n",
    "token_ids_to_text(token_ids, tokenizer)"
   ]
  },
  {
   "cell_type": "code",
   "execution_count": 5,
   "id": "32900a7e",
   "metadata": {},
   "outputs": [],
   "source": [
    "inputs = mx.array([[16833, 3626, 6100],   # [\"every effort moves\",\n",
    "                   [40, 1107, 588]])      #  \"I really like\"]\n",
    "targets = mx.array([[3626, 6100, 345],    # [\" effort moves you\"\n",
    "                    [1107, 588, 11311]])  #  \" really like chocolate\"]"
   ]
  },
  {
   "cell_type": "code",
   "execution_count": 6,
   "id": "f4d29abb",
   "metadata": {},
   "outputs": [
    {
     "data": {
      "text/plain": [
       "(array([[[2.4659e-05, 7.09139e-06, 5.94067e-05, ..., 8.50546e-06, 3.1108e-05, 3.1253e-05],\n",
       "         [2.19308e-05, 7.08788e-06, 4.74957e-05, ..., 9.22388e-06, 1.9442e-05, 1.9591e-05],\n",
       "         [1.83429e-05, 8.42821e-06, 4.95861e-05, ..., 9.82874e-06, 2.17547e-05, 1.95116e-05]],\n",
       "        [[2.73172e-05, 9.37263e-06, 1.38779e-05, ..., 2.61956e-05, 4.36025e-05, 7.52438e-06],\n",
       "         [2.4238e-05, 8.87468e-06, 1.3109e-05, ..., 3.36475e-05, 3.15629e-05, 7.75805e-06],\n",
       "         [2.17332e-05, 8.64109e-06, 1.32396e-05, ..., 3.29413e-05, 2.869e-05, 8.55843e-06]]], dtype=float32),\n",
       " (2, 3, 50257))"
      ]
     },
     "execution_count": 6,
     "metadata": {},
     "output_type": "execute_result"
    }
   ],
   "source": [
    "logits = model(mx.stop_gradient(inputs))\n",
    "probas = nn.softmax(logits, axis=-1)\n",
    "probas, probas.shape"
   ]
  },
  {
   "cell_type": "code",
   "execution_count": 7,
   "id": "ff1a6058",
   "metadata": {},
   "outputs": [
    {
     "data": {
      "text/plain": [
       "array([[[1158],\n",
       "        [40697],\n",
       "        [17149]],\n",
       "       [[30526],\n",
       "        [29643],\n",
       "        [46678]]], dtype=uint32)"
      ]
     },
     "execution_count": 7,
     "metadata": {},
     "output_type": "execute_result"
    }
   ],
   "source": [
    "token_ids = mx.argmax(probas, axis=-1, keepdims=True)\n",
    "token_ids"
   ]
  },
  {
   "cell_type": "code",
   "execution_count": 10,
   "id": "2ac0c1bb",
   "metadata": {},
   "outputs": [
    {
     "name": "stdout",
     "output_type": "stream",
     "text": [
      "Targets batch 1:  effort moves you\n",
      "Outputs batch 1: ves paed icons\n"
     ]
    }
   ],
   "source": [
    "print(f\"Targets batch 1: {token_ids_to_text(targets[0], tokenizer)}\")\n",
    "print(f\"Outputs batch 1: {token_ids_to_text(token_ids[0].flatten(), tokenizer)}\")\n"
   ]
  },
  {
   "cell_type": "code",
   "execution_count": 12,
   "id": "4e525799",
   "metadata": {},
   "outputs": [
    {
     "name": "stdout",
     "output_type": "stream",
     "text": [
      "Text 1: array([1.26521e-05, 6.10094e-05, 9.74481e-06], dtype=float32)\n",
      "Text 2: array([8.53397e-06, 1.31845e-05, 1.62757e-05], dtype=float32)\n"
     ]
    }
   ],
   "source": [
    "text_idx = 0\n",
    "target_probas_1 = probas[text_idx, [0, 1, 2], targets[text_idx]]\n",
    "print(\"Text 1:\", target_probas_1)\n",
    "\n",
    "text_idx = 1\n",
    "target_probas_2 = probas[text_idx, [0, 1, 2], targets[text_idx]]\n",
    "print(\"Text 2:\", target_probas_2)"
   ]
  },
  {
   "cell_type": "code",
   "execution_count": null,
   "id": "b911e1fd",
   "metadata": {},
   "outputs": [
    {
     "data": {
      "text/plain": [
       "array([-11.2777, -9.70448, -11.5388, -11.6715, -11.2365, -11.0258], dtype=float32)"
      ]
     },
     "execution_count": 13,
     "metadata": {},
     "output_type": "execute_result"
    }
   ],
   "source": [
    "# we want to maximize the log probability of the targets\n",
    "log_probas = mx.log(mx.concat([target_probas_1, target_probas_2], axis=0))\n",
    "log_probas"
   ]
  },
  {
   "cell_type": "code",
   "execution_count": 14,
   "id": "9fb698e4",
   "metadata": {},
   "outputs": [
    {
     "data": {
      "text/plain": [
       "array(-11.0758, dtype=float32)"
      ]
     },
     "execution_count": 14,
     "metadata": {},
     "output_type": "execute_result"
    }
   ],
   "source": [
    "avg_log_probas = mx.mean(log_probas)\n",
    "avg_log_probas"
   ]
  },
  {
   "cell_type": "code",
   "execution_count": null,
   "id": "87d92363",
   "metadata": {},
   "outputs": [
    {
     "data": {
      "text/plain": [
       "array(11.0758, dtype=float32)"
      ]
     },
     "execution_count": 15,
     "metadata": {},
     "output_type": "execute_result"
    }
   ],
   "source": [
    "# in training, we minimize the negative log likelihood\n",
    "neg_avg_log_probas = -avg_log_probas\n",
    "neg_avg_log_probas"
   ]
  },
  {
   "cell_type": "code",
   "execution_count": 20,
   "id": "b9198c18",
   "metadata": {},
   "outputs": [
    {
     "data": {
      "text/plain": [
       "((6, 50257), (6,))"
      ]
     },
     "execution_count": 20,
     "metadata": {},
     "output_type": "execute_result"
    }
   ],
   "source": [
    "logits.flatten(0, 1).shape, targets.flatten().shape"
   ]
  },
  {
   "cell_type": "code",
   "execution_count": 25,
   "id": "d63b4d09",
   "metadata": {},
   "outputs": [
    {
     "data": {
      "text/plain": [
       "array(11.0758, dtype=float32)"
      ]
     },
     "execution_count": 25,
     "metadata": {},
     "output_type": "execute_result"
    }
   ],
   "source": [
    "loss = nn.losses.cross_entropy(logits.flatten(0, 1), targets.flatten(),\n",
    "                               reduction=\"mean\")\n",
    "loss"
   ]
  },
  {
   "cell_type": "code",
   "execution_count": 27,
   "id": "c02a1d2e",
   "metadata": {},
   "outputs": [
    {
     "data": {
      "text/plain": [
       "array(64588.1, dtype=float32)"
      ]
     },
     "execution_count": 27,
     "metadata": {},
     "output_type": "execute_result"
    }
   ],
   "source": [
    "# perplexity is exp of the cross-entropy loss\n",
    "perplexity = mx.exp(loss)\n",
    "perplexity"
   ]
  },
  {
   "cell_type": "code",
   "execution_count": null,
   "id": "a5a62088",
   "metadata": {},
   "outputs": [],
   "source": []
  }
 ],
 "metadata": {
  "kernelspec": {
   "display_name": "llms-from-scratch-mlx",
   "language": "python",
   "name": "python3"
  },
  "language_info": {
   "codemirror_mode": {
    "name": "ipython",
    "version": 3
   },
   "file_extension": ".py",
   "mimetype": "text/x-python",
   "name": "python",
   "nbconvert_exporter": "python",
   "pygments_lexer": "ipython3",
   "version": "3.13.6"
  }
 },
 "nbformat": 4,
 "nbformat_minor": 5
}
